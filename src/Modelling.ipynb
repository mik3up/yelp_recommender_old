{
 "cells": [
  {
   "cell_type": "markdown",
   "metadata": {},
   "source": [
    "# Modelling\n",
    "\n",
    "Finding the ideal model for recommending restuarants to users"
   ]
  },
  {
   "cell_type": "code",
   "execution_count": 337,
   "metadata": {},
   "outputs": [],
   "source": [
    "import os\n",
    "import time\n",
    "import json\n",
    "import pickle\n",
    "from collections import Counter\n",
    "\n",
    "import numpy as np\n",
    "import pandas as pd\n",
    "pd.set_option('display.max_columns', None)\n",
    "pd.set_option('display.max_rows', None)\n",
    "# import databricks.koalas as ks\n",
    "\n",
    "import pyspark\n",
    "from pyspark.sql import SparkSession\n",
    "import pandas as pd\n",
    "\n",
    "# Setup a SparkSession\n",
    "spark = SparkSession.builder.getOrCreate()\n",
    "\n",
    "import pandas_profiling\n",
    "# df.profile_report(style={'full_width':True})\n",
    "# df.profile_report(title='Pandas Profiling Report')\n",
    "\n",
    "import matplotlib.pyplot as plt\n",
    "import matplotlib.patches as mpatches\n",
    "%matplotlib inline\n",
    "plt.style.use('seaborn')\n",
    "font = {'size':16}\n",
    "import seaborn as sns\n",
    "\n",
    "from sklearn.metrics import mean_absolute_error\n",
    "\n",
    "import surprise\n",
    "from surprise import Dataset\n",
    "from surprise import Reader\n",
    "from surprise.model_selection import cross_validate\n",
    "from surprise.model_selection import GridSearchCV\n",
    "from surprise import KNNBasic, KNNWithMeans, KNNWithZScore, KNNBaseline\n",
    "from surprise import SVD, SVDpp, NMF\n",
    "from surprise import accuracy\n",
    "from surprise import SlopeOne, CoClustering\n",
    "from surprise.model_selection import train_test_split\n",
    "\n",
    "from IPython.core.interactiveshell import InteractiveShell\n",
    "InteractiveShell.ast_node_interactivity = \"all\"\n",
    "\n",
    "import warnings\n",
    "warnings.simplefilter('ignore')"
   ]
  },
  {
   "cell_type": "code",
   "execution_count": 21,
   "metadata": {},
   "outputs": [],
   "source": [
    "def notify(title, text):\n",
    "    os.system(\"\"\"\n",
    "              osascript -e 'display notification \"{}\" with title \"{}\"'\n",
    "              \"\"\".format(text, title))\n",
    "\n",
    "notify(\"Test Title\", \"Heres an alert\")"
   ]
  },
  {
   "cell_type": "markdown",
   "metadata": {},
   "source": [
    "## Reading in AZNV dataframe"
   ]
  },
  {
   "cell_type": "code",
   "execution_count": 87,
   "metadata": {},
   "outputs": [
    {
     "name": "stdout",
     "output_type": "stream",
     "text": [
      "(1818490, 32)\n"
     ]
    },
    {
     "data": {
      "text/html": [
       "<div>\n",
       "<style scoped>\n",
       "    .dataframe tbody tr th:only-of-type {\n",
       "        vertical-align: middle;\n",
       "    }\n",
       "\n",
       "    .dataframe tbody tr th {\n",
       "        vertical-align: top;\n",
       "    }\n",
       "\n",
       "    .dataframe thead th {\n",
       "        text-align: right;\n",
       "    }\n",
       "</style>\n",
       "<table border=\"1\" class=\"dataframe\">\n",
       "  <thead>\n",
       "    <tr style=\"text-align: right;\">\n",
       "      <th></th>\n",
       "      <th>business_id</th>\n",
       "      <th>name_x</th>\n",
       "      <th>address</th>\n",
       "      <th>city</th>\n",
       "      <th>state</th>\n",
       "      <th>postal_code</th>\n",
       "      <th>latitude</th>\n",
       "      <th>longitude</th>\n",
       "      <th>stars_x</th>\n",
       "      <th>review_count_x</th>\n",
       "      <th>is_open</th>\n",
       "      <th>attributes</th>\n",
       "      <th>categories</th>\n",
       "      <th>hours</th>\n",
       "      <th>review_id</th>\n",
       "      <th>user_id</th>\n",
       "      <th>stars_y</th>\n",
       "      <th>useful</th>\n",
       "      <th>funny</th>\n",
       "      <th>cool</th>\n",
       "      <th>text</th>\n",
       "      <th>date</th>\n",
       "      <th>name_y</th>\n",
       "      <th>review_count_y</th>\n",
       "      <th>yelping_since</th>\n",
       "      <th>friends</th>\n",
       "      <th>fans</th>\n",
       "      <th>average_stars</th>\n",
       "      <th>likes</th>\n",
       "      <th>compliments</th>\n",
       "      <th>elite_years</th>\n",
       "      <th>hotel?</th>\n",
       "    </tr>\n",
       "  </thead>\n",
       "  <tbody>\n",
       "    <tr>\n",
       "      <th>0</th>\n",
       "      <td>vx4YAA02Qz6khRD1fZ1MFA</td>\n",
       "      <td>Ping Pang Pong</td>\n",
       "      <td>4000 W Flamingo Rd</td>\n",
       "      <td>Las Vegas</td>\n",
       "      <td>NV</td>\n",
       "      <td>89103</td>\n",
       "      <td>36.116901</td>\n",
       "      <td>-115.193512</td>\n",
       "      <td>3.5</td>\n",
       "      <td>1005</td>\n",
       "      <td>1</td>\n",
       "      <td>{'RestaurantsPriceRange2': '2', 'BusinessAccep...</td>\n",
       "      <td>[Cantonese, Seafood, Dim Sum, Restaurants, Chi...</td>\n",
       "      <td>{'Monday': '10:0-3:0', 'Tuesday': '10:0-3:0', ...</td>\n",
       "      <td>FwiJ7DQ3a9cBwp1OYlP5VA</td>\n",
       "      <td>A0kENtCCoVT3m7T35zb2Vg</td>\n",
       "      <td>2.0</td>\n",
       "      <td>0</td>\n",
       "      <td>0</td>\n",
       "      <td>0</td>\n",
       "      <td>There are so many good reviews of this place o...</td>\n",
       "      <td>2010-04-02 20:37:54</td>\n",
       "      <td>Anastasia</td>\n",
       "      <td>348</td>\n",
       "      <td>2009-02-15 16:45:34</td>\n",
       "      <td>BBY1Alonk5V0OLgk_G0rNQ, TY7QgNKJEhvo1zCULlT9Rg...</td>\n",
       "      <td>9</td>\n",
       "      <td>3.66</td>\n",
       "      <td>619</td>\n",
       "      <td>38</td>\n",
       "      <td>3</td>\n",
       "      <td>0</td>\n",
       "    </tr>\n",
       "    <tr>\n",
       "      <th>1</th>\n",
       "      <td>glTBzDHv9wNhEsZa4bQrOA</td>\n",
       "      <td>CatHouse Boutique Nightclub</td>\n",
       "      <td>3900 Las Vegas Blvd S</td>\n",
       "      <td>Las Vegas</td>\n",
       "      <td>NV</td>\n",
       "      <td>89119</td>\n",
       "      <td>36.094822</td>\n",
       "      <td>-115.173216</td>\n",
       "      <td>3.0</td>\n",
       "      <td>178</td>\n",
       "      <td>0</td>\n",
       "      <td>{'OutdoorSeating': 'False', 'BusinessAcceptsCr...</td>\n",
       "      <td>[Restaurants, Nightlife, Lounges, American (Ne...</td>\n",
       "      <td>{'Monday': '17:0-4:0', 'Tuesday': '17:0-4:0', ...</td>\n",
       "      <td>7ynnTyXiuIWHDkktHsdm4Q</td>\n",
       "      <td>A0kENtCCoVT3m7T35zb2Vg</td>\n",
       "      <td>2.0</td>\n",
       "      <td>1</td>\n",
       "      <td>1</td>\n",
       "      <td>0</td>\n",
       "      <td>Restaurant-only review; based on that, they wo...</td>\n",
       "      <td>2009-02-16 14:53:11</td>\n",
       "      <td>Anastasia</td>\n",
       "      <td>348</td>\n",
       "      <td>2009-02-15 16:45:34</td>\n",
       "      <td>BBY1Alonk5V0OLgk_G0rNQ, TY7QgNKJEhvo1zCULlT9Rg...</td>\n",
       "      <td>9</td>\n",
       "      <td>3.66</td>\n",
       "      <td>619</td>\n",
       "      <td>38</td>\n",
       "      <td>3</td>\n",
       "      <td>0</td>\n",
       "    </tr>\n",
       "  </tbody>\n",
       "</table>\n",
       "</div>"
      ],
      "text/plain": [
       "              business_id                       name_x                address  \\\n",
       "0  vx4YAA02Qz6khRD1fZ1MFA               Ping Pang Pong     4000 W Flamingo Rd   \n",
       "1  glTBzDHv9wNhEsZa4bQrOA  CatHouse Boutique Nightclub  3900 Las Vegas Blvd S   \n",
       "\n",
       "        city state postal_code   latitude   longitude  stars_x  \\\n",
       "0  Las Vegas    NV       89103  36.116901 -115.193512      3.5   \n",
       "1  Las Vegas    NV       89119  36.094822 -115.173216      3.0   \n",
       "\n",
       "   review_count_x  is_open                                         attributes  \\\n",
       "0            1005        1  {'RestaurantsPriceRange2': '2', 'BusinessAccep...   \n",
       "1             178        0  {'OutdoorSeating': 'False', 'BusinessAcceptsCr...   \n",
       "\n",
       "                                          categories  \\\n",
       "0  [Cantonese, Seafood, Dim Sum, Restaurants, Chi...   \n",
       "1  [Restaurants, Nightlife, Lounges, American (Ne...   \n",
       "\n",
       "                                               hours               review_id  \\\n",
       "0  {'Monday': '10:0-3:0', 'Tuesday': '10:0-3:0', ...  FwiJ7DQ3a9cBwp1OYlP5VA   \n",
       "1  {'Monday': '17:0-4:0', 'Tuesday': '17:0-4:0', ...  7ynnTyXiuIWHDkktHsdm4Q   \n",
       "\n",
       "                  user_id  stars_y  useful  funny  cool  \\\n",
       "0  A0kENtCCoVT3m7T35zb2Vg      2.0       0      0     0   \n",
       "1  A0kENtCCoVT3m7T35zb2Vg      2.0       1      1     0   \n",
       "\n",
       "                                                text                 date  \\\n",
       "0  There are so many good reviews of this place o...  2010-04-02 20:37:54   \n",
       "1  Restaurant-only review; based on that, they wo...  2009-02-16 14:53:11   \n",
       "\n",
       "      name_y  review_count_y        yelping_since  \\\n",
       "0  Anastasia             348  2009-02-15 16:45:34   \n",
       "1  Anastasia             348  2009-02-15 16:45:34   \n",
       "\n",
       "                                             friends  fans  average_stars  \\\n",
       "0  BBY1Alonk5V0OLgk_G0rNQ, TY7QgNKJEhvo1zCULlT9Rg...     9           3.66   \n",
       "1  BBY1Alonk5V0OLgk_G0rNQ, TY7QgNKJEhvo1zCULlT9Rg...     9           3.66   \n",
       "\n",
       "   likes  compliments  elite_years  hotel?  \n",
       "0    619           38            3       0  \n",
       "1    619           38            3       0  "
      ]
     },
     "execution_count": 87,
     "metadata": {},
     "output_type": "execute_result"
    }
   ],
   "source": [
    "AZNV_df = pd.read_pickle('../data/AZNV_df.p')\n",
    "print(AZNV_df.shape)\n",
    "AZNV_df.head(2)"
   ]
  },
  {
   "cell_type": "code",
   "execution_count": 88,
   "metadata": {},
   "outputs": [
    {
     "data": {
      "text/plain": [
       "3.7818712228277307"
      ]
     },
     "execution_count": 88,
     "metadata": {},
     "output_type": "execute_result"
    }
   ],
   "source": [
    "np.mean(AZNV_df['stars_x'])"
   ]
  },
  {
   "cell_type": "markdown",
   "metadata": {},
   "source": [
    "### Create numerical features for IDs"
   ]
  },
  {
   "cell_type": "code",
   "execution_count": 89,
   "metadata": {},
   "outputs": [],
   "source": [
    "user_labels, user_uniques = pd.factorize(AZNV_df['user_id'])\n",
    "business_labels, business_uniques = pd.factorize(AZNV_df['business_id'])\n",
    "\n",
    "AZNV_df['userid'] = user_labels\n",
    "AZNV_df['businessid'] = business_labels"
   ]
  },
  {
   "cell_type": "markdown",
   "metadata": {},
   "source": [
    "### Create pandas and spark DF for recommender models"
   ]
  },
  {
   "cell_type": "code",
   "execution_count": 90,
   "metadata": {},
   "outputs": [
    {
     "data": {
      "text/html": [
       "<div>\n",
       "<style scoped>\n",
       "    .dataframe tbody tr th:only-of-type {\n",
       "        vertical-align: middle;\n",
       "    }\n",
       "\n",
       "    .dataframe tbody tr th {\n",
       "        vertical-align: top;\n",
       "    }\n",
       "\n",
       "    .dataframe thead th {\n",
       "        text-align: right;\n",
       "    }\n",
       "</style>\n",
       "<table border=\"1\" class=\"dataframe\">\n",
       "  <thead>\n",
       "    <tr style=\"text-align: right;\">\n",
       "      <th></th>\n",
       "      <th>userid</th>\n",
       "      <th>restaurantid</th>\n",
       "      <th>rating</th>\n",
       "    </tr>\n",
       "  </thead>\n",
       "  <tbody>\n",
       "    <tr>\n",
       "      <th>0</th>\n",
       "      <td>0</td>\n",
       "      <td>0</td>\n",
       "      <td>2.0</td>\n",
       "    </tr>\n",
       "    <tr>\n",
       "      <th>1</th>\n",
       "      <td>0</td>\n",
       "      <td>1</td>\n",
       "      <td>2.0</td>\n",
       "    </tr>\n",
       "    <tr>\n",
       "      <th>2</th>\n",
       "      <td>0</td>\n",
       "      <td>2</td>\n",
       "      <td>1.0</td>\n",
       "    </tr>\n",
       "    <tr>\n",
       "      <th>3</th>\n",
       "      <td>0</td>\n",
       "      <td>3</td>\n",
       "      <td>4.0</td>\n",
       "    </tr>\n",
       "    <tr>\n",
       "      <th>4</th>\n",
       "      <td>0</td>\n",
       "      <td>4</td>\n",
       "      <td>5.0</td>\n",
       "    </tr>\n",
       "  </tbody>\n",
       "</table>\n",
       "</div>"
      ],
      "text/plain": [
       "   userid  restaurantid  rating\n",
       "0       0             0     2.0\n",
       "1       0             1     2.0\n",
       "2       0             2     1.0\n",
       "3       0             3     4.0\n",
       "4       0             4     5.0"
      ]
     },
     "execution_count": 90,
     "metadata": {},
     "output_type": "execute_result"
    }
   ],
   "source": [
    "pandas_df = AZNV_df[['userid', 'businessid', 'stars_y']]\n",
    "pandas_df = pandas_df.rename(columns={\"businessid\": \"restaurantid\", \"stars_y\":\"rating\"})\n",
    "\n",
    "pandas_df.head()"
   ]
  },
  {
   "cell_type": "code",
   "execution_count": 91,
   "metadata": {},
   "outputs": [],
   "source": [
    "pandas_df.to_pickle('../data/model_pandas_df.p')"
   ]
  },
  {
   "cell_type": "code",
   "execution_count": 92,
   "metadata": {},
   "outputs": [
    {
     "data": {
      "text/html": [
       "<div>\n",
       "<style scoped>\n",
       "    .dataframe tbody tr th:only-of-type {\n",
       "        vertical-align: middle;\n",
       "    }\n",
       "\n",
       "    .dataframe tbody tr th {\n",
       "        vertical-align: top;\n",
       "    }\n",
       "\n",
       "    .dataframe thead th {\n",
       "        text-align: right;\n",
       "    }\n",
       "</style>\n",
       "<table border=\"1\" class=\"dataframe\">\n",
       "  <thead>\n",
       "    <tr style=\"text-align: right;\">\n",
       "      <th></th>\n",
       "      <th>userid</th>\n",
       "      <th>restaurantid</th>\n",
       "      <th>rating</th>\n",
       "    </tr>\n",
       "  </thead>\n",
       "  <tbody>\n",
       "    <tr>\n",
       "      <th>0</th>\n",
       "      <td>0</td>\n",
       "      <td>0</td>\n",
       "      <td>2.0</td>\n",
       "    </tr>\n",
       "    <tr>\n",
       "      <th>1</th>\n",
       "      <td>0</td>\n",
       "      <td>1</td>\n",
       "      <td>2.0</td>\n",
       "    </tr>\n",
       "  </tbody>\n",
       "</table>\n",
       "</div>"
      ],
      "text/plain": [
       "   userid  restaurantid  rating\n",
       "0       0             0     2.0\n",
       "1       0             1     2.0"
      ]
     },
     "execution_count": 92,
     "metadata": {},
     "output_type": "execute_result"
    }
   ],
   "source": [
    "pandas_df = pd.read_pickle('../data/model_pandas_df.p')\n",
    "pandas_df.head(2)"
   ]
  },
  {
   "cell_type": "code",
   "execution_count": 93,
   "metadata": {},
   "outputs": [],
   "source": [
    "spark_df = spark.createDataFrame(pandas_df)"
   ]
  },
  {
   "cell_type": "markdown",
   "metadata": {},
   "source": [
    "## ALS Model - Base Model\n",
    "\n",
    "Train ALS model using np.mean of ratings"
   ]
  },
  {
   "cell_type": "code",
   "execution_count": 94,
   "metadata": {},
   "outputs": [
    {
     "name": "stdout",
     "output_type": "stream",
     "text": [
      "+------+------------+------+\n",
      "|userid|restaurantid|rating|\n",
      "+------+------------+------+\n",
      "|     0|           1|   2.0|\n",
      "|     0|           2|   1.0|\n",
      "|     0|           4|   5.0|\n",
      "|     0|           6|   5.0|\n",
      "|     0|           7|   3.0|\n",
      "+------+------------+------+\n",
      "only showing top 5 rows\n",
      "\n"
     ]
    },
    {
     "data": {
      "text/plain": [
       "1455147"
      ]
     },
     "execution_count": 94,
     "metadata": {},
     "output_type": "execute_result"
    }
   ],
   "source": [
    "train, test = spark_df.randomSplit([0.8, 0.2], seed=0)\n",
    "\n",
    "train.show(5)\n",
    "\n",
    "train.count()"
   ]
  },
  {
   "cell_type": "code",
   "execution_count": 95,
   "metadata": {},
   "outputs": [
    {
     "name": "stdout",
     "output_type": "stream",
     "text": [
      "+------+------------+------------------+\n",
      "|userid|restaurantid|            rating|\n",
      "+------+------------+------------------+\n",
      "|     0|           1|3.7893498045214677|\n",
      "|     0|           2|3.7893498045214677|\n",
      "+------+------------+------------------+\n",
      "only showing top 2 rows\n",
      "\n"
     ]
    }
   ],
   "source": [
    "train_with_mean = train.toPandas()\n",
    "train_with_mean['rating'] = np.mean(train_with_mean['rating'])\n",
    "train_with_mean = spark.createDataFrame(train_with_mean)\n",
    "train_with_mean.show(2)"
   ]
  },
  {
   "cell_type": "code",
   "execution_count": 96,
   "metadata": {},
   "outputs": [
    {
     "name": "stdout",
     "output_type": "stream",
     "text": [
      "ALS model has been fitted on train_with_mean data.\n"
     ]
    }
   ],
   "source": [
    "from pyspark.ml.recommendation import ALS\n",
    "als_model = ALS(\n",
    "    itemCol='restaurantid',\n",
    "    userCol='userid',\n",
    "    ratingCol='rating',\n",
    "    nonnegative=True,    \n",
    "    regParam=0.1,\n",
    "    rank=10) \n",
    "\n",
    "recommender = als_model.fit(train_with_mean)\n",
    "\n",
    "print('ALS model has been fitted on train_with_mean data.')"
   ]
  },
  {
   "cell_type": "code",
   "execution_count": 97,
   "metadata": {},
   "outputs": [
    {
     "name": "stdout",
     "output_type": "stream",
     "text": [
      "+------+------------+----------+\n",
      "|userid|restaurantid|prediction|\n",
      "+------+------------+----------+\n",
      "|     0|           3| 3.6294148|\n",
      "+------+------------+----------+\n",
      "\n"
     ]
    }
   ],
   "source": [
    "# look at a random prediction\n",
    "\n",
    "data = [(0, 3)]\n",
    "columns = ('userid', 'restaurantid')\n",
    "one_row_spark_df = spark.createDataFrame(data, columns)\n",
    "user_factor_df = recommender.userFactors.filter('id = 1')\n",
    "item_factor_df = recommender.itemFactors.filter('id = 100')\n",
    "user_factors = user_factor_df.collect()[0]['features']\n",
    "item_factors = item_factor_df.collect()[0]['features']\n",
    "recommender.transform(one_row_spark_df).show()"
   ]
  },
  {
   "cell_type": "code",
   "execution_count": 98,
   "metadata": {},
   "outputs": [
    {
     "name": "stdout",
     "output_type": "stream",
     "text": [
      "+-------+-----------------+------------------+------------------+----------+\n",
      "|summary|           userid|      restaurantid|            rating|prediction|\n",
      "+-------+-----------------+------------------+------------------+----------+\n",
      "|  count|           363343|            363343|            363343|    363343|\n",
      "|   mean|67019.54313692571| 4357.848828792628|3.7901789768896057|       NaN|\n",
      "| stddev|56886.59800722874|3628.5879309853876|1.3181072931108382|       NaN|\n",
      "|    min|                0|                 0|               1.0| 2.9763389|\n",
      "|    max|           203358|             14796|               5.0|       NaN|\n",
      "+-------+-----------------+------------------+------------------+----------+\n",
      "\n"
     ]
    }
   ],
   "source": [
    "predictions = recommender.transform(test)\n",
    "predictions.describe().show()"
   ]
  },
  {
   "cell_type": "code",
   "execution_count": 99,
   "metadata": {},
   "outputs": [],
   "source": [
    "# Dump the predictions to Pandas DataFrames to make our final calculations easier\n",
    "predictions_df = predictions.toPandas()\n",
    "train_df = train.toPandas()"
   ]
  },
  {
   "cell_type": "code",
   "execution_count": 100,
   "metadata": {},
   "outputs": [],
   "source": [
    "# Fill any missing values with the mean rating\n",
    "predictions_df = predictions.toPandas().fillna(train_df['rating'].mean())"
   ]
  },
  {
   "cell_type": "code",
   "execution_count": 101,
   "metadata": {},
   "outputs": [
    {
     "name": "stdout",
     "output_type": "stream",
     "text": [
      "RMSE of base (train data with mean): 1.3274137815483629\n"
     ]
    }
   ],
   "source": [
    "# Calculate Root Mean Squared Error (RMSE)\n",
    "\n",
    "predictions_df['squared_error'] = (predictions_df['rating'] - predictions_df['prediction'])**2\n",
    "\n",
    "rmse = np.sqrt(sum(predictions_df['squared_error']) / len(predictions_df))\n",
    "\n",
    "print('RMSE of base (train data with mean): {}'.format(rmse))"
   ]
  },
  {
   "cell_type": "code",
   "execution_count": 104,
   "metadata": {},
   "outputs": [
    {
     "name": "stdout",
     "output_type": "stream",
     "text": [
      "MAE of base (train data with mean): 1.141648958873738\n"
     ]
    }
   ],
   "source": [
    "# Calculate Mean Absolute Error (MAE)\n",
    "\n",
    "y_true = predictions_df['rating']\n",
    "y_pred = predictions_df['prediction']\n",
    "mae = mean_absolute_error(y_true, y_pred)\n",
    "\n",
    "print('MAE of base (train data with mean): {}'.format(mae))"
   ]
  },
  {
   "cell_type": "markdown",
   "metadata": {},
   "source": [
    "### RMSE 1.3274 is the score to beat!\n",
    "\n",
    "Using RMSE because it punishes error more highly than MAE"
   ]
  },
  {
   "cell_type": "markdown",
   "metadata": {},
   "source": [
    "## ALS on train dataset"
   ]
  },
  {
   "cell_type": "code",
   "execution_count": 13,
   "metadata": {},
   "outputs": [
    {
     "name": "stdout",
     "output_type": "stream",
     "text": [
      "ALS model has been fitted on train data.\n"
     ]
    }
   ],
   "source": [
    "from pyspark.ml.recommendation import ALS\n",
    "als_model = ALS(\n",
    "    itemCol='restaurantid',\n",
    "    userCol='userid',\n",
    "    ratingCol='rating',\n",
    "    nonnegative=True,    \n",
    "    regParam=0.1,\n",
    "    rank=10) \n",
    "\n",
    "recommender = als_model.fit(train)\n",
    "\n",
    "print('ALS model has been fitted on train data.')"
   ]
  },
  {
   "cell_type": "code",
   "execution_count": 14,
   "metadata": {},
   "outputs": [
    {
     "name": "stdout",
     "output_type": "stream",
     "text": [
      "RMSE of train: 1.4427868868935185\n"
     ]
    }
   ],
   "source": [
    "predictions = recommender.transform(test)\n",
    "predictions_df = predictions.toPandas()\n",
    "train_df = train.toPandas()\n",
    "predictions_df = predictions.toPandas().fillna(train_df['rating'].mean())\n",
    "\n",
    "predictions_df['squared_error'] = (predictions_df['rating'] - predictions_df['prediction'])**2\n",
    "\n",
    "rmse = np.sqrt(sum(predictions_df['squared_error']) / len(predictions_df))\n",
    "\n",
    "print('RMSE of train: {}'.format(rmse))"
   ]
  },
  {
   "cell_type": "code",
   "execution_count": 15,
   "metadata": {},
   "outputs": [
    {
     "data": {
      "text/html": [
       "<div>\n",
       "<style scoped>\n",
       "    .dataframe tbody tr th:only-of-type {\n",
       "        vertical-align: middle;\n",
       "    }\n",
       "\n",
       "    .dataframe tbody tr th {\n",
       "        vertical-align: top;\n",
       "    }\n",
       "\n",
       "    .dataframe thead th {\n",
       "        text-align: right;\n",
       "    }\n",
       "</style>\n",
       "<table border=\"1\" class=\"dataframe\">\n",
       "  <thead>\n",
       "    <tr style=\"text-align: right;\">\n",
       "      <th></th>\n",
       "      <th>userid</th>\n",
       "      <th>restaurantid</th>\n",
       "      <th>rating</th>\n",
       "      <th>prediction</th>\n",
       "      <th>squared_error</th>\n",
       "    </tr>\n",
       "  </thead>\n",
       "  <tbody>\n",
       "    <tr>\n",
       "      <th>0</th>\n",
       "      <td>29054</td>\n",
       "      <td>148</td>\n",
       "      <td>5.0</td>\n",
       "      <td>4.522486</td>\n",
       "      <td>0.228020</td>\n",
       "    </tr>\n",
       "    <tr>\n",
       "      <th>1</th>\n",
       "      <td>14514</td>\n",
       "      <td>148</td>\n",
       "      <td>3.0</td>\n",
       "      <td>2.615818</td>\n",
       "      <td>0.147596</td>\n",
       "    </tr>\n",
       "    <tr>\n",
       "      <th>2</th>\n",
       "      <td>122710</td>\n",
       "      <td>148</td>\n",
       "      <td>4.0</td>\n",
       "      <td>3.924699</td>\n",
       "      <td>0.005670</td>\n",
       "    </tr>\n",
       "    <tr>\n",
       "      <th>3</th>\n",
       "      <td>14958</td>\n",
       "      <td>148</td>\n",
       "      <td>3.0</td>\n",
       "      <td>3.699966</td>\n",
       "      <td>0.489952</td>\n",
       "    </tr>\n",
       "    <tr>\n",
       "      <th>4</th>\n",
       "      <td>106608</td>\n",
       "      <td>148</td>\n",
       "      <td>3.0</td>\n",
       "      <td>2.643519</td>\n",
       "      <td>0.127078</td>\n",
       "    </tr>\n",
       "  </tbody>\n",
       "</table>\n",
       "</div>"
      ],
      "text/plain": [
       "   userid  restaurantid  rating  prediction  squared_error\n",
       "0   29054           148     5.0    4.522486       0.228020\n",
       "1   14514           148     3.0    2.615818       0.147596\n",
       "2  122710           148     4.0    3.924699       0.005670\n",
       "3   14958           148     3.0    3.699966       0.489952\n",
       "4  106608           148     3.0    2.643519       0.127078"
      ]
     },
     "execution_count": 15,
     "metadata": {},
     "output_type": "execute_result"
    }
   ],
   "source": [
    "predictions_df.head()"
   ]
  },
  {
   "cell_type": "code",
   "execution_count": 16,
   "metadata": {},
   "outputs": [
    {
     "data": {
      "image/png": "[encoded data removed]",
      "text/plain": [
       "<Figure size 432x288 with 1 Axes>"
      ]
     },
     "metadata": {
      "needs_background": "light"
     },
     "output_type": "display_data"
    }
   ],
   "source": [
    "# Create array of predictions for violinplot\n",
    "data = [predictions_df['prediction'][predictions_df['rating'] == rating].values for rating in range(1, 6)]\n",
    "plt.violinplot(data, range(1,6), showmeans=True, )\n",
    "plt.xlabel('True Ratings')\n",
    "plt.ylabel('Predicted Ratings')\n",
    "plt.title('True vs. ALS Recommender Predicted Ratings')\n",
    "plt.show();"
   ]
  },
  {
   "cell_type": "markdown",
   "metadata": {},
   "source": [
    "### Model turned out to be worse than the base..."
   ]
  },
  {
   "cell_type": "markdown",
   "metadata": {},
   "source": [
    "## Collaborative Filtering\n",
    "\n",
    "Item-Item Collaborative Filtering (IBCF) measures the similarity between the items that target users rates/ interacts with and other items\n",
    "\n",
    "#### Advantages of item-based filtering over user-based filtering :\n",
    "\n",
    "* Computationally less expensive : When users >> items, It makes sense to use item-based filtering in this case. \n",
    "* Item-item is less sparse than user-user matrix\n",
    "* A famous example of item-based filtering is <a href = 'https://www.cs.umd.edu/~samir/498/Amazon-Recommendations.pdf'>Amazon’s recommendation engine</a>."
   ]
  },
  {
   "cell_type": "markdown",
   "metadata": {},
   "source": [
    "## Surprise library\n",
    "\n",
    "<a href='http://surpriselib.com/'>Surprise library</a> is a great tool for building and analyzing recommender models.\n",
    "<br><br>\n",
    "Thank you to bmanohar16's work used as reference"
   ]
  },
  {
   "cell_type": "markdown",
   "metadata": {},
   "source": [
    "### Split data into train/test"
   ]
  },
  {
   "cell_type": "code",
   "execution_count": 17,
   "metadata": {},
   "outputs": [
    {
     "data": {
      "text/plain": [
       "(1818490, 3)"
      ]
     },
     "execution_count": 17,
     "metadata": {},
     "output_type": "execute_result"
    }
   ],
   "source": [
    "pandas_df.shape"
   ]
  },
  {
   "cell_type": "code",
   "execution_count": 18,
   "metadata": {},
   "outputs": [
    {
     "name": "stdout",
     "output_type": "stream",
     "text": [
      "Unique Users    : 203359\n",
      "Unique Restaurant : 14797\n",
      "Unique Ratings  : 5\n"
     ]
    }
   ],
   "source": [
    "print('Unique Users    :', pandas_df.userid.nunique())\n",
    "print('Unique Restaurant :', pandas_df.restaurantid.nunique())\n",
    "print('Unique Ratings  :', pandas_df.rating.nunique())"
   ]
  },
  {
   "cell_type": "code",
   "execution_count": 208,
   "metadata": {},
   "outputs": [],
   "source": [
    "# Set Rating Scale\n",
    "reader = Reader(rating_scale=(1, 5))\n",
    "\n",
    "# Load data with rating scale\n",
    "data = Dataset.load_from_df(pandas_df, reader)"
   ]
  },
  {
   "cell_type": "code",
   "execution_count": 210,
   "metadata": {},
   "outputs": [],
   "source": [
    "trainset, testset = train_test_split(data, test_size=.25, random_state=0)"
   ]
  },
  {
   "cell_type": "markdown",
   "metadata": {},
   "source": [
    "### KNN Basic\n",
    "\n",
    "computes similiarities between item-item where k=40 (down to 1 if less than 40)"
   ]
  },
  {
   "cell_type": "code",
   "execution_count": 7,
   "metadata": {},
   "outputs": [
    {
     "name": "stdout",
     "output_type": "stream",
     "text": [
      "Evaluating RMSE, MAE of algorithm KNNBasic on 5 split(s).\n",
      "\n",
      "                  Fold 1  Fold 2  Fold 3  Fold 4  Fold 5  Mean    Std     \n",
      "RMSE (testset)    1.3620  1.3590  1.3630  1.3586  1.3600  1.3605  0.0017  \n",
      "MAE (testset)     1.0236  1.0218  1.0249  1.0202  1.0224  1.0226  0.0016  \n",
      "Fit time          30.83   31.05   30.42   31.61   28.49   30.48   1.07    \n",
      "Test time         21.81   20.72   22.87   19.97   18.51   20.78   1.50    \n",
      "this took 235.93 seconds to run\n"
     ]
    }
   ],
   "source": [
    "start = time.time()\n",
    "\n",
    "sim_options = {'name': 'cosine',\n",
    "               'user_based': False  # compute  similarities between items\n",
    "               }\n",
    "algo = KNNBasic(sim_options=sim_options)\n",
    "\n",
    "knnbasic_cv = cross_validate(algo, data, cv=5, n_jobs=-1, verbose=True)\n",
    "\n",
    "end = time.time()\n",
    "print('\\nthis took {:.2f} seconds to run'.format(end-start))\n",
    "notify(\"Notification\", \"Model is complete\")"
   ]
  },
  {
   "cell_type": "markdown",
   "metadata": {},
   "source": [
    "### KNNWithMeans\n",
    "\n",
    "A basic collaborative filtering algorithm, taking into account the mean ratings of each user.\n",
    "<br>\n",
    "* Using an item-item similiarity measure with k between 1 and 40"
   ]
  },
  {
   "cell_type": "code",
   "execution_count": 8,
   "metadata": {},
   "outputs": [
    {
     "name": "stdout",
     "output_type": "stream",
     "text": [
      "Evaluating RMSE, MAE of algorithm KNNWithMeans on 5 split(s).\n",
      "\n",
      "                  Fold 1  Fold 2  Fold 3  Fold 4  Fold 5  Mean    Std     \n",
      "RMSE (testset)    1.2530  1.2540  1.2519  1.2546  1.2522  1.2531  0.0010  \n",
      "MAE (testset)     0.9448  0.9454  0.9445  0.9462  0.9435  0.9449  0.0009  \n",
      "Fit time          28.53   31.86   29.81   29.90   29.04   29.83   1.13    \n",
      "Test time         24.83   21.97   21.61   20.79   20.49   21.94   1.54    \n",
      "\n",
      "this took 230.03 seconds to run\n"
     ]
    },
    {
     "ename": "NameError",
     "evalue": "name 'notify' is not defined",
     "output_type": "error",
     "traceback": [
      "\u001b[0;31m---------------------------------------------------------------------------\u001b[0m",
      "\u001b[0;31mNameError\u001b[0m                                 Traceback (most recent call last)",
      "\u001b[0;32m<ipython-input-8-8d087fdf2c7f>\u001b[0m in \u001b[0;36m<module>\u001b[0;34m\u001b[0m\n\u001b[1;32m     10\u001b[0m \u001b[0mend\u001b[0m \u001b[0;34m=\u001b[0m \u001b[0mtime\u001b[0m\u001b[0;34m.\u001b[0m\u001b[0mtime\u001b[0m\u001b[0;34m(\u001b[0m\u001b[0;34m)\u001b[0m\u001b[0;34m\u001b[0m\u001b[0;34m\u001b[0m\u001b[0m\n\u001b[1;32m     11\u001b[0m \u001b[0mprint\u001b[0m\u001b[0;34m(\u001b[0m\u001b[0;34m'\\nthis took {:.2f} seconds to run'\u001b[0m\u001b[0;34m.\u001b[0m\u001b[0mformat\u001b[0m\u001b[0;34m(\u001b[0m\u001b[0mend\u001b[0m\u001b[0;34m-\u001b[0m\u001b[0mstart\u001b[0m\u001b[0;34m)\u001b[0m\u001b[0;34m)\u001b[0m\u001b[0;34m\u001b[0m\u001b[0;34m\u001b[0m\u001b[0m\n\u001b[0;32m---> 12\u001b[0;31m \u001b[0mnotify\u001b[0m\u001b[0;34m(\u001b[0m\u001b[0mtitle\u001b[0m \u001b[0;34m=\u001b[0m \u001b[0;34m'Model Complete'\u001b[0m\u001b[0;34m)\u001b[0m\u001b[0;34m\u001b[0m\u001b[0;34m\u001b[0m\u001b[0m\n\u001b[0m",
      "\u001b[0;31mNameError\u001b[0m: name 'notify' is not defined"
     ]
    }
   ],
   "source": [
    "start = time.time()\n",
    "\n",
    "sim_options = {'name': 'cosine',\n",
    "               'user_based': False  # compute  similarities between items\n",
    "               }\n",
    "algo = KNNWithMeans(sim_options=sim_options)\n",
    "\n",
    "knnmeans_cv = cross_validate(algo, data, cv=5, n_jobs=-1, verbose=True)\n",
    "\n",
    "end = time.time()\n",
    "print('\\nthis took {:.2f} seconds to run'.format(end-start))\n",
    "notify(\"Notification\", \"Model is complete\")"
   ]
  },
  {
   "cell_type": "markdown",
   "metadata": {},
   "source": [
    "### KNNWithZScore\n",
    "\n",
    "A basic collaborative filtering algorithm, taking into account\n",
    "the z-score normalization of each user."
   ]
  },
  {
   "cell_type": "code",
   "execution_count": 11,
   "metadata": {},
   "outputs": [
    {
     "name": "stdout",
     "output_type": "stream",
     "text": [
      "Evaluating RMSE, MAE of algorithm KNNWithZScore on 5 split(s).\n",
      "\n",
      "                  Fold 1  Fold 2  Fold 3  Fold 4  Fold 5  Mean    Std     \n",
      "RMSE (testset)    1.2524  1.2543  1.2562  1.2551  1.2549  1.2546  0.0012  \n",
      "MAE (testset)     0.9397  0.9414  0.9441  0.9418  0.9417  0.9417  0.0014  \n",
      "Fit time          32.71   37.81   36.07   34.22   31.72   34.50   2.21    \n",
      "Test time         30.26   27.80   26.57   24.80   23.21   26.53   2.43    \n",
      "\n",
      "this took 255.27 seconds to run\n"
     ]
    },
    {
     "ename": "TypeError",
     "evalue": "notify() missing 2 required positional arguments: 'subtitle' and 'message'",
     "output_type": "error",
     "traceback": [
      "\u001b[0;31m---------------------------------------------------------------------------\u001b[0m",
      "\u001b[0;31mTypeError\u001b[0m                                 Traceback (most recent call last)",
      "\u001b[0;32m<ipython-input-11-53fd8f24f981>\u001b[0m in \u001b[0;36m<module>\u001b[0;34m\u001b[0m\n\u001b[1;32m     10\u001b[0m \u001b[0mend\u001b[0m \u001b[0;34m=\u001b[0m \u001b[0mtime\u001b[0m\u001b[0;34m.\u001b[0m\u001b[0mtime\u001b[0m\u001b[0;34m(\u001b[0m\u001b[0;34m)\u001b[0m\u001b[0;34m\u001b[0m\u001b[0;34m\u001b[0m\u001b[0m\n\u001b[1;32m     11\u001b[0m \u001b[0mprint\u001b[0m\u001b[0;34m(\u001b[0m\u001b[0;34m'\\nthis took {:.2f} seconds to run'\u001b[0m\u001b[0;34m.\u001b[0m\u001b[0mformat\u001b[0m\u001b[0;34m(\u001b[0m\u001b[0mend\u001b[0m\u001b[0;34m-\u001b[0m\u001b[0mstart\u001b[0m\u001b[0;34m)\u001b[0m\u001b[0;34m)\u001b[0m\u001b[0;34m\u001b[0m\u001b[0;34m\u001b[0m\u001b[0m\n\u001b[0;32m---> 12\u001b[0;31m \u001b[0mnotify\u001b[0m\u001b[0;34m(\u001b[0m\u001b[0mtitle\u001b[0m \u001b[0;34m=\u001b[0m \u001b[0;34m'Model Complete'\u001b[0m\u001b[0;34m)\u001b[0m\u001b[0;34m\u001b[0m\u001b[0;34m\u001b[0m\u001b[0m\n\u001b[0m",
      "\u001b[0;31mTypeError\u001b[0m: notify() missing 2 required positional arguments: 'subtitle' and 'message'"
     ]
    }
   ],
   "source": [
    "start = time.time()\n",
    "\n",
    "sim_options = {'name': 'cosine',\n",
    "               'user_based': False  # compute  similarities between items\n",
    "               }\n",
    "algo = KNNWithZScore(sim_options=sim_options)\n",
    "\n",
    "knnz_cv = cross_validate(algo, data, cv=5, n_jobs=-1, verbose=True)\n",
    "\n",
    "end = time.time()\n",
    "print('\\nthis took {:.2f} seconds to run'.format(end-start))\n",
    "notify(\"Notification\", \"Model is complete\")"
   ]
  },
  {
   "cell_type": "markdown",
   "metadata": {},
   "source": [
    "### KNNBaseline\n",
    "\n",
    "A basic collaborative filtering algorithm taking into account a baseline rating.\n",
    "\n"
   ]
  },
  {
   "cell_type": "code",
   "execution_count": 347,
   "metadata": {},
   "outputs": [
    {
     "ename": "TerminatedWorkerError",
     "evalue": "A worker process managed by the executor was unexpectedly terminated. This could be caused by a segmentation fault while calling the function or by an excessive memory usage causing the Operating System to kill the worker. The exit codes of the workers are {SIGKILL(-9)}",
     "output_type": "error",
     "traceback": [
      "\u001b[0;31m---------------------------------------------------------------------------\u001b[0m",
      "\u001b[0;31mTerminatedWorkerError\u001b[0m                     Traceback (most recent call last)",
      "\u001b[0;32m<ipython-input-347-494c7ba83825>\u001b[0m in \u001b[0;36m<module>\u001b[0;34m\u001b[0m\n\u001b[1;32m      7\u001b[0m \u001b[0malgo\u001b[0m \u001b[0;34m=\u001b[0m \u001b[0mKNNBaseline\u001b[0m\u001b[0;34m(\u001b[0m\u001b[0msim_options\u001b[0m\u001b[0;34m=\u001b[0m\u001b[0msim_options\u001b[0m\u001b[0;34m)\u001b[0m\u001b[0;34m\u001b[0m\u001b[0;34m\u001b[0m\u001b[0m\n\u001b[1;32m      8\u001b[0m \u001b[0;34m\u001b[0m\u001b[0m\n\u001b[0;32m----> 9\u001b[0;31m \u001b[0mknn_baseline\u001b[0m \u001b[0;34m=\u001b[0m \u001b[0mcross_validate\u001b[0m\u001b[0;34m(\u001b[0m\u001b[0malgo\u001b[0m\u001b[0;34m,\u001b[0m \u001b[0mdata\u001b[0m\u001b[0;34m,\u001b[0m \u001b[0mcv\u001b[0m\u001b[0;34m=\u001b[0m\u001b[0;36m5\u001b[0m\u001b[0;34m,\u001b[0m \u001b[0mn_jobs\u001b[0m\u001b[0;34m=\u001b[0m\u001b[0;34m-\u001b[0m\u001b[0;36m1\u001b[0m\u001b[0;34m,\u001b[0m \u001b[0mverbose\u001b[0m\u001b[0;34m=\u001b[0m\u001b[0;32mTrue\u001b[0m\u001b[0;34m)\u001b[0m\u001b[0;34m\u001b[0m\u001b[0;34m\u001b[0m\u001b[0m\n\u001b[0m\u001b[1;32m     10\u001b[0m \u001b[0;34m\u001b[0m\u001b[0m\n\u001b[1;32m     11\u001b[0m \u001b[0mend\u001b[0m \u001b[0;34m=\u001b[0m \u001b[0mtime\u001b[0m\u001b[0;34m.\u001b[0m\u001b[0mtime\u001b[0m\u001b[0;34m(\u001b[0m\u001b[0;34m)\u001b[0m\u001b[0;34m\u001b[0m\u001b[0;34m\u001b[0m\u001b[0m\n",
      "\u001b[0;32m~/anaconda3/lib/python3.7/site-packages/surprise/model_selection/validation.py\u001b[0m in \u001b[0;36mcross_validate\u001b[0;34m(algo, data, measures, cv, return_train_measures, n_jobs, pre_dispatch, verbose)\u001b[0m\n\u001b[1;32m     99\u001b[0m                                            return_train_measures)\n\u001b[1;32m    100\u001b[0m                     for (trainset, testset) in cv.split(data))\n\u001b[0;32m--> 101\u001b[0;31m     \u001b[0mout\u001b[0m \u001b[0;34m=\u001b[0m \u001b[0mParallel\u001b[0m\u001b[0;34m(\u001b[0m\u001b[0mn_jobs\u001b[0m\u001b[0;34m=\u001b[0m\u001b[0mn_jobs\u001b[0m\u001b[0;34m,\u001b[0m \u001b[0mpre_dispatch\u001b[0m\u001b[0;34m=\u001b[0m\u001b[0mpre_dispatch\u001b[0m\u001b[0;34m)\u001b[0m\u001b[0;34m(\u001b[0m\u001b[0mdelayed_list\u001b[0m\u001b[0;34m)\u001b[0m\u001b[0;34m\u001b[0m\u001b[0;34m\u001b[0m\u001b[0m\n\u001b[0m\u001b[1;32m    102\u001b[0m \u001b[0;34m\u001b[0m\u001b[0m\n\u001b[1;32m    103\u001b[0m     (test_measures_dicts,\n",
      "\u001b[0;32m~/anaconda3/lib/python3.7/site-packages/joblib/parallel.py\u001b[0m in \u001b[0;36m__call__\u001b[0;34m(self, iterable)\u001b[0m\n\u001b[1;32m    932\u001b[0m \u001b[0;34m\u001b[0m\u001b[0m\n\u001b[1;32m    933\u001b[0m             \u001b[0;32mwith\u001b[0m \u001b[0mself\u001b[0m\u001b[0;34m.\u001b[0m\u001b[0m_backend\u001b[0m\u001b[0;34m.\u001b[0m\u001b[0mretrieval_context\u001b[0m\u001b[0;34m(\u001b[0m\u001b[0;34m)\u001b[0m\u001b[0;34m:\u001b[0m\u001b[0;34m\u001b[0m\u001b[0;34m\u001b[0m\u001b[0m\n\u001b[0;32m--> 934\u001b[0;31m                 \u001b[0mself\u001b[0m\u001b[0;34m.\u001b[0m\u001b[0mretrieve\u001b[0m\u001b[0;34m(\u001b[0m\u001b[0;34m)\u001b[0m\u001b[0;34m\u001b[0m\u001b[0;34m\u001b[0m\u001b[0m\n\u001b[0m\u001b[1;32m    935\u001b[0m             \u001b[0;31m# Make sure that we get a last message telling us we are done\u001b[0m\u001b[0;34m\u001b[0m\u001b[0;34m\u001b[0m\u001b[0;34m\u001b[0m\u001b[0m\n\u001b[1;32m    936\u001b[0m             \u001b[0melapsed_time\u001b[0m \u001b[0;34m=\u001b[0m \u001b[0mtime\u001b[0m\u001b[0;34m.\u001b[0m\u001b[0mtime\u001b[0m\u001b[0;34m(\u001b[0m\u001b[0;34m)\u001b[0m \u001b[0;34m-\u001b[0m \u001b[0mself\u001b[0m\u001b[0;34m.\u001b[0m\u001b[0m_start_time\u001b[0m\u001b[0;34m\u001b[0m\u001b[0;34m\u001b[0m\u001b[0m\n",
      "\u001b[0;32m~/anaconda3/lib/python3.7/site-packages/joblib/parallel.py\u001b[0m in \u001b[0;36mretrieve\u001b[0;34m(self)\u001b[0m\n\u001b[1;32m    831\u001b[0m             \u001b[0;32mtry\u001b[0m\u001b[0;34m:\u001b[0m\u001b[0;34m\u001b[0m\u001b[0;34m\u001b[0m\u001b[0m\n\u001b[1;32m    832\u001b[0m                 \u001b[0;32mif\u001b[0m \u001b[0mgetattr\u001b[0m\u001b[0;34m(\u001b[0m\u001b[0mself\u001b[0m\u001b[0;34m.\u001b[0m\u001b[0m_backend\u001b[0m\u001b[0;34m,\u001b[0m \u001b[0;34m'supports_timeout'\u001b[0m\u001b[0;34m,\u001b[0m \u001b[0;32mFalse\u001b[0m\u001b[0;34m)\u001b[0m\u001b[0;34m:\u001b[0m\u001b[0;34m\u001b[0m\u001b[0;34m\u001b[0m\u001b[0m\n\u001b[0;32m--> 833\u001b[0;31m                     \u001b[0mself\u001b[0m\u001b[0;34m.\u001b[0m\u001b[0m_output\u001b[0m\u001b[0;34m.\u001b[0m\u001b[0mextend\u001b[0m\u001b[0;34m(\u001b[0m\u001b[0mjob\u001b[0m\u001b[0;34m.\u001b[0m\u001b[0mget\u001b[0m\u001b[0;34m(\u001b[0m\u001b[0mtimeout\u001b[0m\u001b[0;34m=\u001b[0m\u001b[0mself\u001b[0m\u001b[0;34m.\u001b[0m\u001b[0mtimeout\u001b[0m\u001b[0;34m)\u001b[0m\u001b[0;34m)\u001b[0m\u001b[0;34m\u001b[0m\u001b[0;34m\u001b[0m\u001b[0m\n\u001b[0m\u001b[1;32m    834\u001b[0m                 \u001b[0;32melse\u001b[0m\u001b[0;34m:\u001b[0m\u001b[0;34m\u001b[0m\u001b[0;34m\u001b[0m\u001b[0m\n\u001b[1;32m    835\u001b[0m                     \u001b[0mself\u001b[0m\u001b[0;34m.\u001b[0m\u001b[0m_output\u001b[0m\u001b[0;34m.\u001b[0m\u001b[0mextend\u001b[0m\u001b[0;34m(\u001b[0m\u001b[0mjob\u001b[0m\u001b[0;34m.\u001b[0m\u001b[0mget\u001b[0m\u001b[0;34m(\u001b[0m\u001b[0;34m)\u001b[0m\u001b[0;34m)\u001b[0m\u001b[0;34m\u001b[0m\u001b[0;34m\u001b[0m\u001b[0m\n",
      "\u001b[0;32m~/anaconda3/lib/python3.7/site-packages/joblib/_parallel_backends.py\u001b[0m in \u001b[0;36mwrap_future_result\u001b[0;34m(future, timeout)\u001b[0m\n\u001b[1;32m    519\u001b[0m         AsyncResults.get from multiprocessing.\"\"\"\n\u001b[1;32m    520\u001b[0m         \u001b[0;32mtry\u001b[0m\u001b[0;34m:\u001b[0m\u001b[0;34m\u001b[0m\u001b[0;34m\u001b[0m\u001b[0m\n\u001b[0;32m--> 521\u001b[0;31m             \u001b[0;32mreturn\u001b[0m \u001b[0mfuture\u001b[0m\u001b[0;34m.\u001b[0m\u001b[0mresult\u001b[0m\u001b[0;34m(\u001b[0m\u001b[0mtimeout\u001b[0m\u001b[0;34m=\u001b[0m\u001b[0mtimeout\u001b[0m\u001b[0;34m)\u001b[0m\u001b[0;34m\u001b[0m\u001b[0;34m\u001b[0m\u001b[0m\n\u001b[0m\u001b[1;32m    522\u001b[0m         \u001b[0;32mexcept\u001b[0m \u001b[0mLokyTimeoutError\u001b[0m\u001b[0;34m:\u001b[0m\u001b[0;34m\u001b[0m\u001b[0;34m\u001b[0m\u001b[0m\n\u001b[1;32m    523\u001b[0m             \u001b[0;32mraise\u001b[0m \u001b[0mTimeoutError\u001b[0m\u001b[0;34m(\u001b[0m\u001b[0;34m)\u001b[0m\u001b[0;34m\u001b[0m\u001b[0;34m\u001b[0m\u001b[0m\n",
      "\u001b[0;32m~/anaconda3/lib/python3.7/concurrent/futures/_base.py\u001b[0m in \u001b[0;36mresult\u001b[0;34m(self, timeout)\u001b[0m\n\u001b[1;32m    430\u001b[0m                 \u001b[0;32mraise\u001b[0m \u001b[0mCancelledError\u001b[0m\u001b[0;34m(\u001b[0m\u001b[0;34m)\u001b[0m\u001b[0;34m\u001b[0m\u001b[0;34m\u001b[0m\u001b[0m\n\u001b[1;32m    431\u001b[0m             \u001b[0;32melif\u001b[0m \u001b[0mself\u001b[0m\u001b[0;34m.\u001b[0m\u001b[0m_state\u001b[0m \u001b[0;34m==\u001b[0m \u001b[0mFINISHED\u001b[0m\u001b[0;34m:\u001b[0m\u001b[0;34m\u001b[0m\u001b[0;34m\u001b[0m\u001b[0m\n\u001b[0;32m--> 432\u001b[0;31m                 \u001b[0;32mreturn\u001b[0m \u001b[0mself\u001b[0m\u001b[0;34m.\u001b[0m\u001b[0m__get_result\u001b[0m\u001b[0;34m(\u001b[0m\u001b[0;34m)\u001b[0m\u001b[0;34m\u001b[0m\u001b[0;34m\u001b[0m\u001b[0m\n\u001b[0m\u001b[1;32m    433\u001b[0m             \u001b[0;32melse\u001b[0m\u001b[0;34m:\u001b[0m\u001b[0;34m\u001b[0m\u001b[0;34m\u001b[0m\u001b[0m\n\u001b[1;32m    434\u001b[0m                 \u001b[0;32mraise\u001b[0m \u001b[0mTimeoutError\u001b[0m\u001b[0;34m(\u001b[0m\u001b[0;34m)\u001b[0m\u001b[0;34m\u001b[0m\u001b[0;34m\u001b[0m\u001b[0m\n",
      "\u001b[0;32m~/anaconda3/lib/python3.7/concurrent/futures/_base.py\u001b[0m in \u001b[0;36m__get_result\u001b[0;34m(self)\u001b[0m\n\u001b[1;32m    382\u001b[0m     \u001b[0;32mdef\u001b[0m \u001b[0m__get_result\u001b[0m\u001b[0;34m(\u001b[0m\u001b[0mself\u001b[0m\u001b[0;34m)\u001b[0m\u001b[0;34m:\u001b[0m\u001b[0;34m\u001b[0m\u001b[0;34m\u001b[0m\u001b[0m\n\u001b[1;32m    383\u001b[0m         \u001b[0;32mif\u001b[0m \u001b[0mself\u001b[0m\u001b[0;34m.\u001b[0m\u001b[0m_exception\u001b[0m\u001b[0;34m:\u001b[0m\u001b[0;34m\u001b[0m\u001b[0;34m\u001b[0m\u001b[0m\n\u001b[0;32m--> 384\u001b[0;31m             \u001b[0;32mraise\u001b[0m \u001b[0mself\u001b[0m\u001b[0;34m.\u001b[0m\u001b[0m_exception\u001b[0m\u001b[0;34m\u001b[0m\u001b[0;34m\u001b[0m\u001b[0m\n\u001b[0m\u001b[1;32m    385\u001b[0m         \u001b[0;32melse\u001b[0m\u001b[0;34m:\u001b[0m\u001b[0;34m\u001b[0m\u001b[0;34m\u001b[0m\u001b[0m\n\u001b[1;32m    386\u001b[0m             \u001b[0;32mreturn\u001b[0m \u001b[0mself\u001b[0m\u001b[0;34m.\u001b[0m\u001b[0m_result\u001b[0m\u001b[0;34m\u001b[0m\u001b[0;34m\u001b[0m\u001b[0m\n",
      "\u001b[0;31mTerminatedWorkerError\u001b[0m: A worker process managed by the executor was unexpectedly terminated. This could be caused by a segmentation fault while calling the function or by an excessive memory usage causing the Operating System to kill the worker. The exit codes of the workers are {SIGKILL(-9)}"
     ]
    }
   ],
   "source": [
    "start = time.time()\n",
    "\n",
    "sim_options = {'name': 'cosine',\n",
    "               'shrinkage': 0  # no shrinkage\n",
    "#                'user_based': False  # compute  similarities between items\n",
    "               }\n",
    "algo = KNNBaseline(sim_options=sim_options)\n",
    "\n",
    "knn_baseline = cross_validate(algo, data, cv=5, n_jobs=-1, verbose=True)\n",
    "\n",
    "end = time.time()\n",
    "print('\\nthis took {:.2f} seconds to run'.format(end-start))\n",
    "notify(\"Notification\", \"Model is complete\")"
   ]
  },
  {
   "cell_type": "markdown",
   "metadata": {},
   "source": [
    "### Matrix Factorization Based Algorithms"
   ]
  },
  {
   "cell_type": "code",
   "execution_count": 13,
   "metadata": {},
   "outputs": [
    {
     "name": "stdout",
     "output_type": "stream",
     "text": [
      "Evaluating RMSE, MAE of algorithm SVD on 5 split(s).\n",
      "\n",
      "                  Fold 1  Fold 2  Fold 3  Fold 4  Fold 5  Mean    Std     \n",
      "RMSE (testset)    1.1934  1.1932  1.1936  1.1928  1.1940  1.1934  0.0004  \n",
      "MAE (testset)     0.9465  0.9464  0.9477  0.9469  0.9473  0.9470  0.0005  \n",
      "Fit time          110.08  114.72  112.34  105.94  101.61  108.94  4.67    \n",
      "Test time         5.15    4.39    3.91    3.82    3.75    4.21    0.52    \n",
      "\n",
      "this took 309.10 seconds to run\n"
     ]
    },
    {
     "ename": "TypeError",
     "evalue": "notify() missing 2 required positional arguments: 'subtitle' and 'message'",
     "output_type": "error",
     "traceback": [
      "\u001b[0;31m---------------------------------------------------------------------------\u001b[0m",
      "\u001b[0;31mTypeError\u001b[0m                                 Traceback (most recent call last)",
      "\u001b[0;32m<ipython-input-13-8b794633d7eb>\u001b[0m in \u001b[0;36m<module>\u001b[0;34m\u001b[0m\n\u001b[1;32m      5\u001b[0m \u001b[0mend\u001b[0m \u001b[0;34m=\u001b[0m \u001b[0mtime\u001b[0m\u001b[0;34m.\u001b[0m\u001b[0mtime\u001b[0m\u001b[0;34m(\u001b[0m\u001b[0;34m)\u001b[0m\u001b[0;34m\u001b[0m\u001b[0;34m\u001b[0m\u001b[0m\n\u001b[1;32m      6\u001b[0m \u001b[0mprint\u001b[0m\u001b[0;34m(\u001b[0m\u001b[0;34m'\\nthis took {:.2f} seconds to run'\u001b[0m\u001b[0;34m.\u001b[0m\u001b[0mformat\u001b[0m\u001b[0;34m(\u001b[0m\u001b[0mend\u001b[0m\u001b[0;34m-\u001b[0m\u001b[0mstart\u001b[0m\u001b[0;34m)\u001b[0m\u001b[0;34m)\u001b[0m\u001b[0;34m\u001b[0m\u001b[0;34m\u001b[0m\u001b[0m\n\u001b[0;32m----> 7\u001b[0;31m \u001b[0mnotify\u001b[0m\u001b[0;34m(\u001b[0m\u001b[0mtitle\u001b[0m \u001b[0;34m=\u001b[0m \u001b[0;34m'Model Complete'\u001b[0m\u001b[0;34m)\u001b[0m\u001b[0;34m\u001b[0m\u001b[0;34m\u001b[0m\u001b[0m\n\u001b[0m",
      "\u001b[0;31mTypeError\u001b[0m: notify() missing 2 required positional arguments: 'subtitle' and 'message'"
     ]
    }
   ],
   "source": [
    "start = time.time()\n",
    "\n",
    "svd_cv = cross_validate(SVD(), data, cv=5, n_jobs=-1, verbose=True)\n",
    "\n",
    "end = time.time()\n",
    "print('\\nthis took {:.2f} seconds to run'.format(end-start))\n",
    "notify(\"Notification\", \"Model is complete\")"
   ]
  },
  {
   "cell_type": "code",
   "execution_count": 22,
   "metadata": {},
   "outputs": [
    {
     "name": "stdout",
     "output_type": "stream",
     "text": [
      "Evaluating RMSE, MAE of algorithm SVDpp on 5 split(s).\n",
      "\n",
      "                  Fold 1  Fold 2  Fold 3  Fold 4  Fold 5  Mean    Std     \n",
      "RMSE (testset)    1.1993  1.1993  1.1989  1.2015  1.1970  1.1992  0.0014  \n",
      "MAE (testset)     0.9461  0.9471  0.9464  0.9475  0.9454  0.9465  0.0007  \n",
      "Fit time          1414.89 1418.26 1417.86 1434.24 1408.60 1418.77 8.47    \n",
      "Test time         31.60   31.58   21.10   19.11   19.95   24.67   5.69    \n",
      "\n",
      "this took 1637.75 seconds to run\n"
     ]
    }
   ],
   "source": [
    "start = time.time()\n",
    "\n",
    "svdpp_cv = cross_validate(SVDpp(), data, cv=5, n_jobs=-1, verbose=True)\n",
    "\n",
    "end = time.time()\n",
    "print('\\nthis took {:.2f} seconds to run'.format(end-start))\n",
    "notify(\"Notification\", \"Model is complete\")"
   ]
  },
  {
   "cell_type": "code",
   "execution_count": 23,
   "metadata": {},
   "outputs": [
    {
     "name": "stdout",
     "output_type": "stream",
     "text": [
      "Evaluating RMSE, MAE of algorithm NMF on 5 split(s).\n",
      "\n",
      "                  Fold 1  Fold 2  Fold 3  Fold 4  Fold 5  Mean    Std     \n",
      "RMSE (testset)    1.3246  1.3255  1.3246  1.3258  1.3243  1.3250  0.0006  \n",
      "MAE (testset)     1.0165  1.0177  1.0169  1.0184  1.0172  1.0173  0.0007  \n",
      "Fit time          119.38  124.66  126.34  121.72  108.79  120.18  6.18    \n",
      "Test time         4.10    3.58    3.24    3.13    3.11    3.43    0.38    \n",
      "\n",
      "this took 297.22 seconds to run\n"
     ]
    }
   ],
   "source": [
    "start = time.time()\n",
    "\n",
    "nmf_cv = cross_validate(NMF(), data, cv=5, n_jobs=-1, verbose=True)\n",
    "\n",
    "end = time.time()\n",
    "print('\\nthis took {:.2f} seconds to run'.format(end-start))\n",
    "notify(\"Notification\", \"Model is complete\")"
   ]
  },
  {
   "cell_type": "markdown",
   "metadata": {},
   "source": [
    "### Other Collaborative Filtering Algorithms"
   ]
  },
  {
   "cell_type": "code",
   "execution_count": 25,
   "metadata": {},
   "outputs": [
    {
     "name": "stdout",
     "output_type": "stream",
     "text": [
      "Evaluating RMSE, MAE of algorithm SlopeOne on 5 split(s).\n",
      "\n",
      "                  Fold 1  Fold 2  Fold 3  Fold 4  Fold 5  Mean    Std     \n",
      "RMSE (testset)    1.3077  1.3083  1.3050  1.3073  1.3042  1.3065  0.0016  \n",
      "MAE (testset)     0.9811  0.9808  0.9797  0.9803  0.9792  0.9802  0.0007  \n",
      "Fit time          14.29   14.33   14.50   19.49   15.18   15.56   1.99    \n",
      "Test time         14.42   14.24   15.73   16.36   16.99   15.55   1.07    \n",
      "\n",
      "this took 223.36 seconds to run\n"
     ]
    }
   ],
   "source": [
    "start = time.time()\n",
    "\n",
    "slope_cv = cross_validate(SlopeOne(), data, cv=5, n_jobs=-1, verbose=True)\n",
    "\n",
    "end = time.time()\n",
    "print('\\nthis took {:.2f} seconds to run'.format(end-start))\n",
    "notify(\"Notification\", \"Model is complete\")"
   ]
  },
  {
   "cell_type": "code",
   "execution_count": 26,
   "metadata": {},
   "outputs": [
    {
     "name": "stdout",
     "output_type": "stream",
     "text": [
      "Evaluating RMSE, MAE of algorithm CoClustering on 5 split(s).\n",
      "\n",
      "                  Fold 1  Fold 2  Fold 3  Fold 4  Fold 5  Mean    Std     \n",
      "RMSE (testset)    1.2726  1.2766  1.2751  1.2793  1.2711  1.2749  0.0029  \n",
      "MAE (testset)     0.9500  0.9534  0.9528  0.9556  0.9505  0.9525  0.0020  \n",
      "Fit time          36.92   35.66   38.36   35.02   32.95   35.78   1.82    \n",
      "Test time         3.52    3.17    3.42    3.09    3.17    3.27    0.17    \n",
      "\n",
      "this took 231.57 seconds to run\n"
     ]
    }
   ],
   "source": [
    "start = time.time()\n",
    "\n",
    "coclus_cv = cross_validate(CoClustering(), data, cv=5, n_jobs=-1, verbose=True)\n",
    "\n",
    "end = time.time()\n",
    "print('\\nthis took {:.2f} seconds to run'.format(end-start))\n",
    "notify(\"Notification\", \"Model is complete\")"
   ]
  },
  {
   "cell_type": "markdown",
   "metadata": {},
   "source": [
    "## Comparison of all algorithms on RMSE and MAE"
   ]
  },
  {
   "cell_type": "markdown",
   "metadata": {},
   "source": [
    "#### Saving RMSE and MAE scores"
   ]
  },
  {
   "cell_type": "code",
   "execution_count": 61,
   "metadata": {},
   "outputs": [],
   "source": [
    "save_scores = [knnbasic_cv, knnmeans_cv, knnz_cv, svd_cv, svdpp_cv, nmf_cv, slope_cv, coclus_cv]\n",
    "outfile = '../data/RMSE_MAE_scores.png'\n",
    "\n",
    "with open('outfile', 'wb') as fp:\n",
    "    pickle.dump(save_scores, fp)"
   ]
  },
  {
   "cell_type": "markdown",
   "metadata": {},
   "source": [
    "#### Reading back RMSE and MAE scores"
   ]
  },
  {
   "cell_type": "code",
   "execution_count": null,
   "metadata": {},
   "outputs": [],
   "source": [
    "outfile = '../data/RMSE_MAE_scores.png'\n",
    "\n",
    "with open ('outfile', 'rb') as fp:\n",
    "    save_scores = pickle.load(fp)"
   ]
  },
  {
   "cell_type": "markdown",
   "metadata": {},
   "source": [
    "#### Show results"
   ]
  },
  {
   "cell_type": "code",
   "execution_count": 182,
   "metadata": {},
   "outputs": [
    {
     "name": "stdout",
     "output_type": "stream",
     "text": [
      "Algorithm\t RMSE\t\t MAE\n",
      "-------------- \t ------ \t ------\n",
      "ALS with Means \t 1.3274 \t 1.1416\n",
      "\n",
      "KNN Basic \t 1.3605 \t 1.0226\n",
      "KNN Means \t 1.2531 \t 0.9449\n",
      "KNN ZScore \t 1.2546 \t 0.9417\n",
      "\n",
      "SVD \t\t 1.1934 \t 0.947\n",
      "SVDpp \t\t 1.1992 \t 0.9465\n",
      "NMF \t\t 1.325 \t\t 1.0173\n",
      "\n",
      "SlopeOne \t 1.3065 \t 0.9802\n",
      "CoClustering \t 1.2749 \t 0.9525\n"
     ]
    }
   ],
   "source": [
    "print('Algorithm\\t RMSE\\t\\t MAE')\n",
    "print('--------------', '\\t', '------', '\\t', '------')\n",
    "print('ALS with Means', '\\t', round(rmse, 4), '\\t', round(mae, 4))\n",
    "print()\n",
    "print('KNN Basic', '\\t', round(knnbasic_cv['test_rmse'].mean(), 4), '\\t', round(knnbasic_cv['test_mae'].mean(), 4))\n",
    "print('KNN Means', '\\t', round(knnmeans_cv['test_rmse'].mean(), 4), '\\t', round(knnmeans_cv['test_mae'].mean(), 4))\n",
    "print('KNN ZScore', '\\t', round(knnz_cv['test_rmse'].mean(), 4), '\\t', round(knnz_cv['test_mae'].mean(), 4))\n",
    "print()\n",
    "print('SVD', '\\t\\t', round(svd_cv['test_rmse'].mean(), 4), '\\t', round(svd_cv['test_mae'].mean(), 4))\n",
    "print('SVDpp', '\\t\\t', round(svdpp_cv['test_rmse'].mean(), 4), '\\t', round(svdpp_cv['test_mae'].mean(), 4))\n",
    "print('NMF', '\\t\\t', round(nmf_cv['test_rmse'].mean(), 4), '\\t\\t', round(nmf_cv['test_mae'].mean(), 4))\n",
    "print()\n",
    "print('SlopeOne', '\\t', round(slope_cv['test_rmse'].mean(), 4), '\\t', round(slope_cv['test_mae'].mean(), 4))\n",
    "print('CoClustering', '\\t', round(coclus_cv['test_rmse'].mean(), 4), '\\t', round(coclus_cv['test_mae'].mean(), 4))"
   ]
  },
  {
   "cell_type": "markdown",
   "metadata": {},
   "source": [
    "### Plotting RMSE / MAE via bar graph"
   ]
  },
  {
   "cell_type": "code",
   "execution_count": 366,
   "metadata": {},
   "outputs": [
    {
     "data": {
      "image/png": "[encoded data removed]",
      "text/plain": [
       "<Figure size 864x720 with 2 Axes>"
      ]
     },
     "metadata": {},
     "output_type": "display_data"
    }
   ],
   "source": [
    "x_algo = ['KNN Basic', 'KNN Means', 'KNN ZScore', 'SVD', 'SVDpp', 'NMF', 'SlopeOne', 'CoClustering']\n",
    "all_algos_cv = [knnbasic_cv, knnmeans_cv, knnz_cv, svd_cv, svdpp_cv, nmf_cv, slope_cv, coclus_cv]\n",
    "\n",
    "rmse_cv = [round(res['test_rmse'].mean(), 4) for res in all_algos_cv]\n",
    "mae_cv = [round(res['test_mae'].mean(), 4) for res in all_algos_cv]\n",
    "\n",
    "# manually adding base score data\n",
    "x_algo = ['Base [ALS-Means]']+x_algo\n",
    "rmse_cv = [1.3274]+rmse_cv\n",
    "mae_cv = [1.1416]+mae_cv\n",
    "\n",
    "# fig, axarr = plt.subplots(2, 2)\n",
    "# fig.suptitle(\"This Main Title is Nicely Formatted\", fontsize=16)\n",
    "\n",
    "# axarr[0, 0].plot(x, y)\n",
    "# axarr[0, 0].set_title('Axis [0,0] Subtitle')\n",
    "# axarr[0, 1].scatter(x, y)\n",
    "# axarr[0, 1].set_title('Axis [0,1] Subtitle')\n",
    "# axarr[1, 0].plot(x, y ** 2)\n",
    "# axarr[1, 0].set_title('Axis [1,0] Subtitle')\n",
    "# axarr[1, 1].scatter(x, y ** 2)\n",
    "# axarr[1, 1].set_title('Axis [1,1] Subtitle')\n",
    "\n",
    "# # # Fine-tune figure; hide x ticks for top plots and y ticks for right plots\n",
    "# plt.setp([a.get_xticklabels() for a in axarr[0, :]], visible=False)\n",
    "# plt.setp([a.get_yticklabels() for a in axarr[:, 1]], visible=False)\n",
    "\n",
    "# # Tight layout often produces nice results\n",
    "# # but requires the title to be spaced accordingly\n",
    "# fig.tight_layout()\n",
    "# fig.subplots_adjust(top=0.88)\n",
    "\n",
    "\n",
    "fig, ax = plt.subplots(2,1, figsize=(12,10))\n",
    "fig.suptitle('Comparison of Algorithms vs Baseline\\n(lower is better)', fontsize=20, verticalalignment='top')\n",
    "ax[0].set_title('RMSE', loc='center', fontsize=15)\n",
    "c = ax[0].bar(x_algo, rmse_cv, label='RMSE', color='darkgreen')\n",
    "c[0].set_color('tan')\n",
    "c[4].set_color('lightgreen')\n",
    "ax[0].set_ylim(bottom=1.0, top=max(rmse_cv)+.05)  \n",
    "# ax[0].plot(x_algo, rmse_cv, label='RMSE', color='darkred', marker='o')\n",
    "# ax[0].set_xlabel('Algorithms', fontsize=15)\n",
    "ax[0].set_ylabel('RMSE Value', fontsize=15)\n",
    "patch = mpatches.Patch(label='RMSE')\n",
    "ax[0].legend(handles=[patch])\n",
    "ax[0].grid(ls='dashed')\n",
    "\n",
    "# ax[1].set_title('Comparison of Algorithms on MAE', loc='center', fontsize=15)\n",
    "ax[1].set_title('MAE', loc='center', fontsize=15)\n",
    "c = ax[1].bar(x_algo, mae_cv, label='MAE', color='navy')\n",
    "c[0].set_color('tan')\n",
    "c[3].set_color('lightgreen')\n",
    "ax[1].set_ylim(bottom=0.8, top=max(mae_cv)+.05)  \n",
    "ax[1].set_xlabel('Algorithms', fontsize=15)\n",
    "ax[1].set_ylabel('MAE Value', fontsize=15)\n",
    "patch = mpatches.Patch(label='MAE')\n",
    "ax[1].legend(handles=[patch])\n",
    "ax[1].grid(ls='dashed')\n",
    "\n",
    "# annotate bar graph 1\n",
    "base0=1.3274\n",
    "percent0 = [round(n/base0*100,2) for n in rmse_cv]\n",
    "for i,p in enumerate(ax[0].patches):\n",
    "#     ax[0].annotate(str(p.get_height()), (p.get_x() * 1.005, p.get_height() * 1.005))\n",
    "    ax[0].annotate(str(percent0[i])+'%', (p.get_x() * 1.005, p.get_height() * 1.005))\n",
    "    \n",
    "# annotate bar graph 2\n",
    "base1=1.1416\n",
    "percent1 = [round(n/base1*100,2) for n in mae_cv]\n",
    "for i,p in enumerate(ax[1].patches):\n",
    "    ax[1].annotate(str(percent1[i])+'%', (p.get_x() * 1.005, p.get_height() * 1.005))\n",
    "\n",
    "plt.tight_layout()\n",
    "fig.subplots_adjust(top=0.88)\n",
    "plt.savefig('../img/rmse_mae_barchart.png', dpi=350, alpha=0)\n",
    "plt.show();"
   ]
  },
  {
   "cell_type": "markdown",
   "metadata": {},
   "source": [
    "### Plotting RMSE/MAE via plt.plot"
   ]
  },
  {
   "cell_type": "code",
   "execution_count": 251,
   "metadata": {},
   "outputs": [
    {
     "data": {
      "image/png": "[encoded data removed]",
      "text/plain": [
       "<Figure size 720x432 with 2 Axes>"
      ]
     },
     "metadata": {},
     "output_type": "display_data"
    }
   ],
   "source": [
    "x_algo = ['KNN Basic', 'KNN Means', 'KNN ZScore', 'SVD', 'SVDpp', 'NMF', 'SlopeOne', 'CoClustering']\n",
    "all_algos_cv = [knnbasic_cv, knnmeans_cv, knnz_cv, svd_cv, svdpp_cv, nmf_cv, slope_cv, coclus_cv]\n",
    "\n",
    "rmse_cv = [round(res['test_rmse'].mean(), 4) for res in all_algos_cv]\n",
    "mae_cv = [round(res['test_mae'].mean(), 4) for res in all_algos_cv]\n",
    "\n",
    "fig, ax = plt.subplots(2,1, figsize=(10,6))\n",
    "ax[0].set_title('Comparison of Algorithms RMSE & MAE', loc='center', fontsize=15)\n",
    "ax[0].plot(x_algo, rmse_cv, label='RMSE', color='darkgreen', marker='o')\n",
    "# ax[0].set_xlabel('Algorithms', fontsize=15)\n",
    "ax[0].set_ylabel('RMSE Value', fontsize=15)\n",
    "ax[0].legend()\n",
    "ax[0].grid(ls='dashed')\n",
    "\n",
    "# ax[1].set_title('Comparison of Algorithms on MAE', loc='center', fontsize=15)\n",
    "ax[1].plot(x_algo, mae_cv, label='MAE', color='navy', marker='o')\n",
    "ax[1].set_xlabel('Algorithms', fontsize=15)\n",
    "ax[1].set_ylabel('MAE Value', fontsize=15)\n",
    "ax[1].legend()\n",
    "ax[1].grid(ls='dashed')\n",
    "\n",
    "plt.tight_layout()\n",
    "plt.savefig('../img/rmse_mae_plotchart.png', dpi=300, transparency=True)\n",
    "plt.show();"
   ]
  },
  {
   "cell_type": "markdown",
   "metadata": {},
   "source": [
    "## Evaluation Results\n",
    "\n",
    "<b>Best RMSE</b>: SVD\n",
    "<br>\n",
    "<b>Best MAE</b>: KNN ZScore\n",
    "\n",
    "<font color='green'><h2>Winner SVD!! </h2></font>\n",
    "\n",
    "However SVD and SVDpp both give good results, let's tune the hyperparameters to find the best RMSE score"
   ]
  },
  {
   "cell_type": "markdown",
   "metadata": {},
   "source": [
    "## Tune hyperparameters using GridSearchCV"
   ]
  },
  {
   "cell_type": "code",
   "execution_count": 78,
   "metadata": {},
   "outputs": [
    {
     "name": "stderr",
     "output_type": "stream",
     "text": [
      "[Parallel(n_jobs=-1)]: Using backend LokyBackend with 8 concurrent workers.\n",
      "[Parallel(n_jobs=-1)]: Done  25 tasks      | elapsed: 12.5min\n"
     ]
    },
    {
     "name": "stdout",
     "output_type": "stream",
     "text": [
      "svdpp_gs took 2920.02 seconds\n"
     ]
    },
    {
     "name": "stderr",
     "output_type": "stream",
     "text": [
      "[Parallel(n_jobs=-1)]: Done  60 out of  60 | elapsed: 48.3min finished\n"
     ]
    }
   ],
   "source": [
    "svd_param_grid = {'n_epochs': [5, 10], \n",
    "                  'lr_all': [0.007, 0.009, 0.01],\n",
    "                  'reg_all': [0.2, 0.5]}\n",
    "\n",
    "start = time.time()\n",
    "\n",
    "svdpp_gs = GridSearchCV(SVD, svd_param_grid, measures=['rmse', 'mae'], cv=5, n_jobs=-1, joblib_verbose=2)\n",
    "svdpp_gs.fit(data)\n",
    "\n",
    "end = time.time()\n",
    "print('svdpp_gs took {:.2f} seconds'.format(end-start))\n",
    "notify(\"Notification\", \"Model is complete\")"
   ]
  },
  {
   "cell_type": "code",
   "execution_count": 79,
   "metadata": {},
   "outputs": [
    {
     "name": "stdout",
     "output_type": "stream",
     "text": [
      "SVDpp - RMSE: 1.1775 - MAE: 0.9439\n"
     ]
    }
   ],
   "source": [
    "print('SVDpp - RMSE:', round(svdpp_gs.best_score['rmse'], 4), '- MAE:', round(svdpp_gs.best_score['mae'], 4))"
   ]
  },
  {
   "cell_type": "code",
   "execution_count": 80,
   "metadata": {},
   "outputs": [
    {
     "name": "stderr",
     "output_type": "stream",
     "text": [
      "[Parallel(n_jobs=-1)]: Using backend LokyBackend with 8 concurrent workers.\n",
      "[Parallel(n_jobs=-1)]: Done  25 tasks      | elapsed: 12.5min\n"
     ]
    },
    {
     "name": "stdout",
     "output_type": "stream",
     "text": [
      "svd_gs took 1830.10 seconds\n"
     ]
    },
    {
     "name": "stderr",
     "output_type": "stream",
     "text": [
      "[Parallel(n_jobs=-1)]: Done  60 out of  60 | elapsed: 30.1min finished\n"
     ]
    }
   ],
   "source": [
    "svd_param_grid = {'n_epochs': [5, 10], \n",
    "                  'lr_all': [0.007, 0.009, 0.01],\n",
    "                  'reg_all': [0.2, 0.5]}\n",
    "\n",
    "start = time.time()\n",
    "\n",
    "svd_gs = GridSearchCV(SVD, svd_param_grid, measures=['rmse', 'mae'], cv=5, n_jobs=-1, joblib_verbose=2)\n",
    "svd_gs.fit(data)\n",
    "\n",
    "end = time.time()\n",
    "print('svd_gs took {:.2f} seconds'.format(end-start))\n",
    "notify(\"Notification\", \"Model is complete\")"
   ]
  },
  {
   "cell_type": "code",
   "execution_count": 81,
   "metadata": {},
   "outputs": [
    {
     "name": "stdout",
     "output_type": "stream",
     "text": [
      "SVD   - RMSE: 1.1776 - MAE: 0.944\n"
     ]
    }
   ],
   "source": [
    "print('SVD   - RMSE:', round(svd_gs.best_score['rmse'], 4), '- MAE:', round(svd_gs.best_score['mae'], 4))"
   ]
  },
  {
   "cell_type": "code",
   "execution_count": 295,
   "metadata": {},
   "outputs": [],
   "source": [
    "x = svdpp_gs.cv_results['params']\n",
    "y1 = svdpp_gs.cv_results['mean_test_rmse']\n",
    "y2 = svdpp_gs.cv_results['mean_test_mae']\n",
    "\n",
    "y3 = svd_gs.cv_results['mean_test_rmse']\n",
    "y4 = svd_gs.cv_results['mean_test_mae']"
   ]
  },
  {
   "cell_type": "code",
   "execution_count": 305,
   "metadata": {},
   "outputs": [
    {
     "data": {
      "text/plain": [
       "[\"{'n_epochs': 5, 'lr_all': 0.007, 'reg_all': 0.2}\",\n",
       " \"{'n_epochs': 5, 'lr_all': 0.007, 'reg_all': 0.5}\",\n",
       " \"{'n_epochs': 5, 'lr_all': 0.009, 'reg_all': 0.2}\",\n",
       " \"{'n_epochs': 5, 'lr_all': 0.009, 'reg_all': 0.5}\",\n",
       " \"{'n_epochs': 5, 'lr_all': 0.01, 'reg_all': 0.2}\",\n",
       " \"{'n_epochs': 5, 'lr_all': 0.01, 'reg_all': 0.5}\",\n",
       " \"{'n_epochs': 10, 'lr_all': 0.007, 'reg_all': 0.2}\",\n",
       " \"{'n_epochs': 10, 'lr_all': 0.007, 'reg_all': 0.5}\",\n",
       " \"{'n_epochs': 10, 'lr_all': 0.009, 'reg_all': 0.2}\",\n",
       " \"{'n_epochs': 10, 'lr_all': 0.009, 'reg_all': 0.5}\",\n",
       " \"{'n_epochs': 10, 'lr_all': 0.01, 'reg_all': 0.2}\",\n",
       " \"{'n_epochs': 10, 'lr_all': 0.01, 'reg_all': 0.5}\"]"
      ]
     },
     "execution_count": 305,
     "metadata": {},
     "output_type": "execute_result"
    }
   ],
   "source": [
    "x = [str(x1) for x1 in x]\n",
    "x"
   ]
  },
  {
   "cell_type": "markdown",
   "metadata": {},
   "source": [
    "### Graphing the GridSearchCV results"
   ]
  },
  {
   "cell_type": "code",
   "execution_count": 317,
   "metadata": {},
   "outputs": [
    {
     "data": {
      "image/png": "[encoded data removed]",
      "text/plain": [
       "<Figure size 720x432 with 2 Axes>"
      ]
     },
     "metadata": {},
     "output_type": "display_data"
    }
   ],
   "source": [
    "index = [1, 3, 5, 7, 9, 11, 0, 2, 4, 6, 8, 10]\n",
    "\n",
    "xx = []\n",
    "yy = []\n",
    "for i, j in enumerate(x):\n",
    "    xx = xx+[x[index[i]]]\n",
    "    yy = yy+[y1[index[i]]]\n",
    "\n",
    "fig, ax = plt.subplots(2,1, figsize=(10,6))\n",
    "ax[0].set_title('SVDpp on scores', loc='center', fontsize=15)\n",
    "ax[0].plot([str(x1) for x1 in xx], yy, label='RMSE', color='darkgreen', marker='o')\n",
    "ax[0].set_xticklabels(['','','','','',''])\n",
    "# ax[0].barh([str(x1) for x1 in x], y1)\n",
    "# ax[0].set_xlabel('Algorithms', fontsize=15)\n",
    "ax[0].set_ylabel('RMSE Value', fontsize=15)\n",
    "ax[0].legend()\n",
    "ax[0].grid(ls='dashed')\n",
    "\n",
    "# ax[1].set_title('SVDpp on MAE', loc='center', fontsize=15)\n",
    "ax[1].plot([str(x1) for x1 in xx], y2, label='MAE', color='navy', marker='o')\n",
    "ax[1].set_xticklabels([str(x1) for x1 in x], rotation=90)\n",
    "ax[1].set_xlabel('Algorithms', fontsize=15)\n",
    "ax[1].set_ylabel('MAE Value', fontsize=15)\n",
    "ax[1].legend()\n",
    "ax[1].grid(ls='dashed')\n",
    "\n",
    "plt.savefig('../img/SVDpp_scores.png', dpi=300, transparency=True)\n",
    "plt.show();\n"
   ]
  },
  {
   "cell_type": "code",
   "execution_count": 303,
   "metadata": {},
   "outputs": [
    {
     "data": {
      "text/plain": [
       "array([1.19469029, 1.20215595, 1.18941691, 1.19717721, 1.18749122,\n",
       "       1.19534671, 1.18146586, 1.19002352, 1.178444  , 1.18698353,\n",
       "       1.17747944, 1.18602452])"
      ]
     },
     "execution_count": 303,
     "metadata": {},
     "output_type": "execute_result"
    }
   ],
   "source": [
    "y1"
   ]
  },
  {
   "cell_type": "code",
   "execution_count": 186,
   "metadata": {},
   "outputs": [
    {
     "data": {
      "image/png": "[encoded data removed]",
      "text/plain": [
       "<Figure size 720x432 with 2 Axes>"
      ]
     },
     "metadata": {},
     "output_type": "display_data"
    }
   ],
   "source": [
    "fig, ax = plt.subplots(2,1, figsize=(10,6))\n",
    "ax[0].set_title('SVDpp on scores', loc='center', fontsize=15)\n",
    "ax[0].plot([str(x1) for x1 in x], y1, label='RMSE', color='darkgreen', marker='o')\n",
    "ax[0].set_xticklabels(['','','','','',''])\n",
    "# ax[0].barh([str(x1) for x1 in x], y1)\n",
    "# ax[0].set_xlabel('Algorithms', fontsize=15)\n",
    "ax[0].set_ylabel('RMSE Value', fontsize=15)\n",
    "ax[0].legend()\n",
    "ax[0].grid(ls='dashed')\n",
    "\n",
    "# ax[1].set_title('SVDpp on MAE', loc='center', fontsize=15)\n",
    "ax[1].plot([str(x1) for x1 in x], y2, label='MAE', color='navy', marker='o')\n",
    "ax[1].set_xticklabels([str(x1) for x1 in x], rotation=90)\n",
    "ax[1].set_xlabel('Algorithms', fontsize=15)\n",
    "ax[1].set_ylabel('MAE Value', fontsize=15)\n",
    "ax[1].legend()\n",
    "ax[1].grid(ls='dashed')\n",
    "\n",
    "plt.savefig('../img/SVDpp_scores.png', dpi=300, transparency=True)\n",
    "plt.show();\n"
   ]
  },
  {
   "cell_type": "code",
   "execution_count": 187,
   "metadata": {},
   "outputs": [
    {
     "data": {
      "image/png": "[encoded data removed]",
      "text/plain": [
       "<Figure size 720x432 with 2 Axes>"
      ]
     },
     "metadata": {},
     "output_type": "display_data"
    }
   ],
   "source": [
    "fig, ax = plt.subplots(2,1, figsize=(10,6))\n",
    "ax[0].set_title('SVD on scores', loc='center', fontsize=15)\n",
    "ax[0].plot([str(x1) for x1 in x], y3, label='RMSE', color='darkgreen', marker='o')\n",
    "ax[0].set_xticklabels(['','','','','',''])\n",
    "# ax[0].barh([str(x1) for x1 in x], y1)\n",
    "# ax[0].set_xlabel('Algorithms', fontsize=15)\n",
    "ax[0].set_ylabel('RMSE Value', fontsize=15)\n",
    "ax[0].legend()\n",
    "ax[0].grid(ls='dashed')\n",
    "\n",
    "# ax[1].set_title('SVDpp on MAE', loc='center', fontsize=15)\n",
    "ax[1].plot([str(x1) for x1 in x], y4, label='MAE', color='navy', marker='o')\n",
    "ax[1].set_xticklabels([str(x1) for x1 in x], rotation=90)\n",
    "ax[1].set_xlabel('Algorithms', fontsize=15)\n",
    "ax[1].set_ylabel('MAE Value', fontsize=15)\n",
    "ax[1].legend()\n",
    "ax[1].grid(ls='dashed')\n",
    "\n",
    "plt.savefig('../img/SVD_scores.png', dpi=300, transparency=True)\n",
    "plt.show();"
   ]
  },
  {
   "cell_type": "markdown",
   "metadata": {},
   "source": [
    "## Best model = SVD++\n",
    "* SVD++ (SVDpp) was marginally better than SVD in terms of RSME score (1.1775 vs 1.1776)\n",
    "* SVD++ also took 50% longer to compute over SVD (45min vs 30min)\n",
    "* SVD++ was also the best model from the <a href='http://buzzard.ups.edu/courses/2014spring/420projects/math420-UPS-spring-2014-gower-netflix-SVD.pdf'>$1M netflix competition</a> so it makes sense that it would work well in general\n",
    "\n",
    "#### Final Hyperparameters\n",
    "* epoch 10\n",
    "* learning rate 0.01\n",
    "* reg_all: 0.2"
   ]
  },
  {
   "cell_type": "markdown",
   "metadata": {},
   "source": [
    "## Make Predictions using SVD++\n",
    "\n",
    "on trainset/testset"
   ]
  },
  {
   "cell_type": "code",
   "execution_count": 213,
   "metadata": {},
   "outputs": [
    {
     "name": "stdout",
     "output_type": "stream",
     "text": [
      " processing epoch 0\n",
      " processing epoch 1\n",
      " processing epoch 2\n",
      " processing epoch 3\n",
      " processing epoch 4\n",
      " processing epoch 5\n",
      " processing epoch 6\n",
      " processing epoch 7\n",
      " processing epoch 8\n",
      " processing epoch 9\n"
     ]
    },
    {
     "data": {
      "text/plain": [
       "<surprise.prediction_algorithms.matrix_factorization.SVDpp at 0x1a23230ef0>"
      ]
     },
     "execution_count": 213,
     "metadata": {},
     "output_type": "execute_result"
    },
    {
     "name": "stdout",
     "output_type": "stream",
     "text": [
      "this process took 416.59 seconds\n"
     ]
    }
   ],
   "source": [
    "start = time.time()\n",
    "\n",
    "algo=SVDpp(n_epochs=10, lr_all=0.01, reg_all=0.2, random_state=0, verbose=True)\n",
    "algo.fit(trainset)\n",
    "\n",
    "end = time.time()\n",
    "print('this process took {:.2f} seconds'.format(end-start))"
   ]
  },
  {
   "cell_type": "code",
   "execution_count": 214,
   "metadata": {},
   "outputs": [
    {
     "name": "stdout",
     "output_type": "stream",
     "text": [
      "RMSE: 1.1798\n"
     ]
    },
    {
     "data": {
      "text/plain": [
       "1.1798422331791565"
      ]
     },
     "execution_count": 214,
     "metadata": {},
     "output_type": "execute_result"
    }
   ],
   "source": [
    "predictions = algo.test(testset)\n",
    "accuracy.rmse(predictions)"
   ]
  },
  {
   "cell_type": "code",
   "execution_count": 219,
   "metadata": {},
   "outputs": [
    {
     "data": {
      "text/plain": [
       "Prediction(uid=0, iid=4, r_ui=None, est=3.6549299517898515, details={'was_impossible': False})"
      ]
     },
     "execution_count": 219,
     "metadata": {},
     "output_type": "execute_result"
    }
   ],
   "source": [
    "uid = 0\n",
    "iid = 4\n",
    "algo.predict(uid, iid)"
   ]
  },
  {
   "cell_type": "markdown",
   "metadata": {},
   "source": [
    "### First ten predictions"
   ]
  },
  {
   "cell_type": "code",
   "execution_count": 329,
   "metadata": {},
   "outputs": [
    {
     "data": {
      "text/plain": [
       "[Prediction(uid=20662, iid=3130, r_ui=4.0, est=4.055087464396904, details={'was_impossible': False}),\n",
       " Prediction(uid=43414, iid=7985, r_ui=4.0, est=2.9781895575634163, details={'was_impossible': False}),\n",
       " Prediction(uid=174275, iid=4419, r_ui=5.0, est=3.9836664388041534, details={'was_impossible': False}),\n",
       " Prediction(uid=187680, iid=9265, r_ui=5.0, est=3.9158135809179297, details={'was_impossible': False}),\n",
       " Prediction(uid=1062, iid=9380, r_ui=4.0, est=4.294048462289611, details={'was_impossible': False}),\n",
       " Prediction(uid=9807, iid=5042, r_ui=2.0, est=3.4248082127449866, details={'was_impossible': False}),\n",
       " Prediction(uid=52831, iid=559, r_ui=1.0, est=3.778683791648992, details={'was_impossible': False}),\n",
       " Prediction(uid=1809, iid=23, r_ui=5.0, est=4.36463509056888, details={'was_impossible': False}),\n",
       " Prediction(uid=3768, iid=3371, r_ui=2.0, est=3.9126327911530803, details={'was_impossible': False}),\n",
       " Prediction(uid=2656, iid=1935, r_ui=3.0, est=2.7564351959437463, details={'was_impossible': False})]"
      ]
     },
     "execution_count": 329,
     "metadata": {},
     "output_type": "execute_result"
    }
   ],
   "source": [
    "predictions[:10]"
   ]
  },
  {
   "cell_type": "code",
   "execution_count": 333,
   "metadata": {},
   "outputs": [
    {
     "data": {
      "text/html": [
       "<div>\n",
       "<style scoped>\n",
       "    .dataframe tbody tr th:only-of-type {\n",
       "        vertical-align: middle;\n",
       "    }\n",
       "\n",
       "    .dataframe tbody tr th {\n",
       "        vertical-align: top;\n",
       "    }\n",
       "\n",
       "    .dataframe thead th {\n",
       "        text-align: right;\n",
       "    }\n",
       "</style>\n",
       "<table border=\"1\" class=\"dataframe\">\n",
       "  <thead>\n",
       "    <tr style=\"text-align: right;\">\n",
       "      <th></th>\n",
       "      <th>business_id</th>\n",
       "      <th>name_x</th>\n",
       "      <th>address</th>\n",
       "      <th>city</th>\n",
       "      <th>state</th>\n",
       "      <th>postal_code</th>\n",
       "      <th>latitude</th>\n",
       "      <th>longitude</th>\n",
       "      <th>stars_x</th>\n",
       "      <th>review_count_x</th>\n",
       "      <th>is_open</th>\n",
       "      <th>attributes</th>\n",
       "      <th>categories</th>\n",
       "      <th>hours</th>\n",
       "      <th>review_id</th>\n",
       "      <th>user_id</th>\n",
       "      <th>stars_y</th>\n",
       "      <th>useful</th>\n",
       "      <th>funny</th>\n",
       "      <th>cool</th>\n",
       "      <th>text</th>\n",
       "      <th>date</th>\n",
       "      <th>name_y</th>\n",
       "      <th>review_count_y</th>\n",
       "      <th>yelping_since</th>\n",
       "      <th>friends</th>\n",
       "      <th>fans</th>\n",
       "      <th>average_stars</th>\n",
       "      <th>likes</th>\n",
       "      <th>compliments</th>\n",
       "      <th>elite_years</th>\n",
       "      <th>hotel?</th>\n",
       "      <th>userid</th>\n",
       "      <th>businessid</th>\n",
       "    </tr>\n",
       "  </thead>\n",
       "  <tbody>\n",
       "    <tr>\n",
       "      <th>0</th>\n",
       "      <td>vx4YAA02Qz6khRD1fZ1MFA</td>\n",
       "      <td>Ping Pang Pong</td>\n",
       "      <td>4000 W Flamingo Rd</td>\n",
       "      <td>Las Vegas</td>\n",
       "      <td>NV</td>\n",
       "      <td>89103</td>\n",
       "      <td>36.116901</td>\n",
       "      <td>-115.193512</td>\n",
       "      <td>3.5</td>\n",
       "      <td>1005</td>\n",
       "      <td>1</td>\n",
       "      <td>{'RestaurantsPriceRange2': '2', 'BusinessAccep...</td>\n",
       "      <td>[Cantonese, Seafood, Dim Sum, Restaurants, Chi...</td>\n",
       "      <td>{'Monday': '10:0-3:0', 'Tuesday': '10:0-3:0', ...</td>\n",
       "      <td>FwiJ7DQ3a9cBwp1OYlP5VA</td>\n",
       "      <td>A0kENtCCoVT3m7T35zb2Vg</td>\n",
       "      <td>2.0</td>\n",
       "      <td>0</td>\n",
       "      <td>0</td>\n",
       "      <td>0</td>\n",
       "      <td>There are so many good reviews of this place o...</td>\n",
       "      <td>2010-04-02 20:37:54</td>\n",
       "      <td>Anastasia</td>\n",
       "      <td>348</td>\n",
       "      <td>2009-02-15 16:45:34</td>\n",
       "      <td>BBY1Alonk5V0OLgk_G0rNQ, TY7QgNKJEhvo1zCULlT9Rg...</td>\n",
       "      <td>9</td>\n",
       "      <td>3.66</td>\n",
       "      <td>619</td>\n",
       "      <td>38</td>\n",
       "      <td>3</td>\n",
       "      <td>0</td>\n",
       "      <td>0</td>\n",
       "      <td>0</td>\n",
       "    </tr>\n",
       "    <tr>\n",
       "      <th>1</th>\n",
       "      <td>glTBzDHv9wNhEsZa4bQrOA</td>\n",
       "      <td>CatHouse Boutique Nightclub</td>\n",
       "      <td>3900 Las Vegas Blvd S</td>\n",
       "      <td>Las Vegas</td>\n",
       "      <td>NV</td>\n",
       "      <td>89119</td>\n",
       "      <td>36.094822</td>\n",
       "      <td>-115.173216</td>\n",
       "      <td>3.0</td>\n",
       "      <td>178</td>\n",
       "      <td>0</td>\n",
       "      <td>{'OutdoorSeating': 'False', 'BusinessAcceptsCr...</td>\n",
       "      <td>[Restaurants, Nightlife, Lounges, American (Ne...</td>\n",
       "      <td>{'Monday': '17:0-4:0', 'Tuesday': '17:0-4:0', ...</td>\n",
       "      <td>7ynnTyXiuIWHDkktHsdm4Q</td>\n",
       "      <td>A0kENtCCoVT3m7T35zb2Vg</td>\n",
       "      <td>2.0</td>\n",
       "      <td>1</td>\n",
       "      <td>1</td>\n",
       "      <td>0</td>\n",
       "      <td>Restaurant-only review; based on that, they wo...</td>\n",
       "      <td>2009-02-16 14:53:11</td>\n",
       "      <td>Anastasia</td>\n",
       "      <td>348</td>\n",
       "      <td>2009-02-15 16:45:34</td>\n",
       "      <td>BBY1Alonk5V0OLgk_G0rNQ, TY7QgNKJEhvo1zCULlT9Rg...</td>\n",
       "      <td>9</td>\n",
       "      <td>3.66</td>\n",
       "      <td>619</td>\n",
       "      <td>38</td>\n",
       "      <td>3</td>\n",
       "      <td>0</td>\n",
       "      <td>0</td>\n",
       "      <td>1</td>\n",
       "    </tr>\n",
       "    <tr>\n",
       "      <th>2</th>\n",
       "      <td>8Q6jl7OW8DZzwANggDspcw</td>\n",
       "      <td>Sugar Factory American Brasserie</td>\n",
       "      <td>Paris Las Vegas Hotel, 3655 Las Vegas Blvd S</td>\n",
       "      <td>Las Vegas</td>\n",
       "      <td>NV</td>\n",
       "      <td>89109</td>\n",
       "      <td>36.112015</td>\n",
       "      <td>-115.172532</td>\n",
       "      <td>3.0</td>\n",
       "      <td>745</td>\n",
       "      <td>0</td>\n",
       "      <td>{'RestaurantsDelivery': 'False', 'RestaurantsA...</td>\n",
       "      <td>[Brasseries, Bars, Breakfast &amp; Brunch, Food, C...</td>\n",
       "      <td>{'Monday': '0:0-0:0', 'Tuesday': '0:0-0:0', 'W...</td>\n",
       "      <td>lO_55KRKtw2Rv1ZIHflX2w</td>\n",
       "      <td>A0kENtCCoVT3m7T35zb2Vg</td>\n",
       "      <td>1.0</td>\n",
       "      <td>0</td>\n",
       "      <td>0</td>\n",
       "      <td>0</td>\n",
       "      <td>Are you allowed to post the phrase \"sh*t show\"...</td>\n",
       "      <td>2012-04-26 01:23:24</td>\n",
       "      <td>Anastasia</td>\n",
       "      <td>348</td>\n",
       "      <td>2009-02-15 16:45:34</td>\n",
       "      <td>BBY1Alonk5V0OLgk_G0rNQ, TY7QgNKJEhvo1zCULlT9Rg...</td>\n",
       "      <td>9</td>\n",
       "      <td>3.66</td>\n",
       "      <td>619</td>\n",
       "      <td>38</td>\n",
       "      <td>3</td>\n",
       "      <td>0</td>\n",
       "      <td>0</td>\n",
       "      <td>2</td>\n",
       "    </tr>\n",
       "    <tr>\n",
       "      <th>3</th>\n",
       "      <td>41b2SLmjLcxTGLVRxASiDA</td>\n",
       "      <td>Country Club</td>\n",
       "      <td>3131 Las Vegas Blvd S</td>\n",
       "      <td>Las Vegas</td>\n",
       "      <td>NV</td>\n",
       "      <td>89109</td>\n",
       "      <td>36.126720</td>\n",
       "      <td>-115.163553</td>\n",
       "      <td>4.0</td>\n",
       "      <td>269</td>\n",
       "      <td>0</td>\n",
       "      <td>{'RestaurantsAttire': 'u'dressy'', 'Restaurant...</td>\n",
       "      <td>[Restaurants, Breakfast &amp; Brunch, Seafood, Ame...</td>\n",
       "      <td>{'Monday': '0:0-0:0', 'Tuesday': '11:30-14:30'...</td>\n",
       "      <td>0WHDB3dNcUsybN4zRJbFzw</td>\n",
       "      <td>A0kENtCCoVT3m7T35zb2Vg</td>\n",
       "      <td>4.0</td>\n",
       "      <td>0</td>\n",
       "      <td>0</td>\n",
       "      <td>0</td>\n",
       "      <td>Our party of six enjoyed the Sunday jazz brunc...</td>\n",
       "      <td>2011-04-27 00:35:55</td>\n",
       "      <td>Anastasia</td>\n",
       "      <td>348</td>\n",
       "      <td>2009-02-15 16:45:34</td>\n",
       "      <td>BBY1Alonk5V0OLgk_G0rNQ, TY7QgNKJEhvo1zCULlT9Rg...</td>\n",
       "      <td>9</td>\n",
       "      <td>3.66</td>\n",
       "      <td>619</td>\n",
       "      <td>38</td>\n",
       "      <td>3</td>\n",
       "      <td>0</td>\n",
       "      <td>0</td>\n",
       "      <td>3</td>\n",
       "    </tr>\n",
       "    <tr>\n",
       "      <th>4</th>\n",
       "      <td>Ehy00JWQixgoXzisVKhvag</td>\n",
       "      <td>Cucina by Wolfgang Puck</td>\n",
       "      <td>3720 S Las Vegas Blvd</td>\n",
       "      <td>Las Vegas</td>\n",
       "      <td>NV</td>\n",
       "      <td>89158</td>\n",
       "      <td>36.107677</td>\n",
       "      <td>-115.175062</td>\n",
       "      <td>4.0</td>\n",
       "      <td>921</td>\n",
       "      <td>1</td>\n",
       "      <td>{'RestaurantsDelivery': 'False', 'RestaurantsP...</td>\n",
       "      <td>[Restaurants, Italian, Pizza]</td>\n",
       "      <td>{'Monday': '11:30-22:0', 'Tuesday': '11:30-22:...</td>\n",
       "      <td>tL3FZuCRK4q4d_bAF-VDOQ</td>\n",
       "      <td>A0kENtCCoVT3m7T35zb2Vg</td>\n",
       "      <td>5.0</td>\n",
       "      <td>0</td>\n",
       "      <td>0</td>\n",
       "      <td>0</td>\n",
       "      <td>This was the best surprise of our recent trip ...</td>\n",
       "      <td>2012-04-26 01:11:46</td>\n",
       "      <td>Anastasia</td>\n",
       "      <td>348</td>\n",
       "      <td>2009-02-15 16:45:34</td>\n",
       "      <td>BBY1Alonk5V0OLgk_G0rNQ, TY7QgNKJEhvo1zCULlT9Rg...</td>\n",
       "      <td>9</td>\n",
       "      <td>3.66</td>\n",
       "      <td>619</td>\n",
       "      <td>38</td>\n",
       "      <td>3</td>\n",
       "      <td>0</td>\n",
       "      <td>0</td>\n",
       "      <td>4</td>\n",
       "    </tr>\n",
       "  </tbody>\n",
       "</table>\n",
       "</div>"
      ],
      "text/plain": [
       "              business_id                            name_x  \\\n",
       "0  vx4YAA02Qz6khRD1fZ1MFA                    Ping Pang Pong   \n",
       "1  glTBzDHv9wNhEsZa4bQrOA       CatHouse Boutique Nightclub   \n",
       "2  8Q6jl7OW8DZzwANggDspcw  Sugar Factory American Brasserie   \n",
       "3  41b2SLmjLcxTGLVRxASiDA                      Country Club   \n",
       "4  Ehy00JWQixgoXzisVKhvag           Cucina by Wolfgang Puck   \n",
       "\n",
       "                                        address       city state postal_code  \\\n",
       "0                            4000 W Flamingo Rd  Las Vegas    NV       89103   \n",
       "1                         3900 Las Vegas Blvd S  Las Vegas    NV       89119   \n",
       "2  Paris Las Vegas Hotel, 3655 Las Vegas Blvd S  Las Vegas    NV       89109   \n",
       "3                         3131 Las Vegas Blvd S  Las Vegas    NV       89109   \n",
       "4                         3720 S Las Vegas Blvd  Las Vegas    NV       89158   \n",
       "\n",
       "    latitude   longitude  stars_x  review_count_x  is_open  \\\n",
       "0  36.116901 -115.193512      3.5            1005        1   \n",
       "1  36.094822 -115.173216      3.0             178        0   \n",
       "2  36.112015 -115.172532      3.0             745        0   \n",
       "3  36.126720 -115.163553      4.0             269        0   \n",
       "4  36.107677 -115.175062      4.0             921        1   \n",
       "\n",
       "                                          attributes  \\\n",
       "0  {'RestaurantsPriceRange2': '2', 'BusinessAccep...   \n",
       "1  {'OutdoorSeating': 'False', 'BusinessAcceptsCr...   \n",
       "2  {'RestaurantsDelivery': 'False', 'RestaurantsA...   \n",
       "3  {'RestaurantsAttire': 'u'dressy'', 'Restaurant...   \n",
       "4  {'RestaurantsDelivery': 'False', 'RestaurantsP...   \n",
       "\n",
       "                                          categories  \\\n",
       "0  [Cantonese, Seafood, Dim Sum, Restaurants, Chi...   \n",
       "1  [Restaurants, Nightlife, Lounges, American (Ne...   \n",
       "2  [Brasseries, Bars, Breakfast & Brunch, Food, C...   \n",
       "3  [Restaurants, Breakfast & Brunch, Seafood, Ame...   \n",
       "4                      [Restaurants, Italian, Pizza]   \n",
       "\n",
       "                                               hours               review_id  \\\n",
       "0  {'Monday': '10:0-3:0', 'Tuesday': '10:0-3:0', ...  FwiJ7DQ3a9cBwp1OYlP5VA   \n",
       "1  {'Monday': '17:0-4:0', 'Tuesday': '17:0-4:0', ...  7ynnTyXiuIWHDkktHsdm4Q   \n",
       "2  {'Monday': '0:0-0:0', 'Tuesday': '0:0-0:0', 'W...  lO_55KRKtw2Rv1ZIHflX2w   \n",
       "3  {'Monday': '0:0-0:0', 'Tuesday': '11:30-14:30'...  0WHDB3dNcUsybN4zRJbFzw   \n",
       "4  {'Monday': '11:30-22:0', 'Tuesday': '11:30-22:...  tL3FZuCRK4q4d_bAF-VDOQ   \n",
       "\n",
       "                  user_id  stars_y  useful  funny  cool  \\\n",
       "0  A0kENtCCoVT3m7T35zb2Vg      2.0       0      0     0   \n",
       "1  A0kENtCCoVT3m7T35zb2Vg      2.0       1      1     0   \n",
       "2  A0kENtCCoVT3m7T35zb2Vg      1.0       0      0     0   \n",
       "3  A0kENtCCoVT3m7T35zb2Vg      4.0       0      0     0   \n",
       "4  A0kENtCCoVT3m7T35zb2Vg      5.0       0      0     0   \n",
       "\n",
       "                                                text                 date  \\\n",
       "0  There are so many good reviews of this place o...  2010-04-02 20:37:54   \n",
       "1  Restaurant-only review; based on that, they wo...  2009-02-16 14:53:11   \n",
       "2  Are you allowed to post the phrase \"sh*t show\"...  2012-04-26 01:23:24   \n",
       "3  Our party of six enjoyed the Sunday jazz brunc...  2011-04-27 00:35:55   \n",
       "4  This was the best surprise of our recent trip ...  2012-04-26 01:11:46   \n",
       "\n",
       "      name_y  review_count_y        yelping_since  \\\n",
       "0  Anastasia             348  2009-02-15 16:45:34   \n",
       "1  Anastasia             348  2009-02-15 16:45:34   \n",
       "2  Anastasia             348  2009-02-15 16:45:34   \n",
       "3  Anastasia             348  2009-02-15 16:45:34   \n",
       "4  Anastasia             348  2009-02-15 16:45:34   \n",
       "\n",
       "                                             friends  fans  average_stars  \\\n",
       "0  BBY1Alonk5V0OLgk_G0rNQ, TY7QgNKJEhvo1zCULlT9Rg...     9           3.66   \n",
       "1  BBY1Alonk5V0OLgk_G0rNQ, TY7QgNKJEhvo1zCULlT9Rg...     9           3.66   \n",
       "2  BBY1Alonk5V0OLgk_G0rNQ, TY7QgNKJEhvo1zCULlT9Rg...     9           3.66   \n",
       "3  BBY1Alonk5V0OLgk_G0rNQ, TY7QgNKJEhvo1zCULlT9Rg...     9           3.66   \n",
       "4  BBY1Alonk5V0OLgk_G0rNQ, TY7QgNKJEhvo1zCULlT9Rg...     9           3.66   \n",
       "\n",
       "   likes  compliments  elite_years  hotel?  userid  businessid  \n",
       "0    619           38            3       0       0           0  \n",
       "1    619           38            3       0       0           1  \n",
       "2    619           38            3       0       0           2  \n",
       "3    619           38            3       0       0           3  \n",
       "4    619           38            3       0       0           4  "
      ]
     },
     "execution_count": 333,
     "metadata": {},
     "output_type": "execute_result"
    }
   ],
   "source": [
    "AZNV_df.head()"
   ]
  },
  {
   "cell_type": "code",
   "execution_count": 343,
   "metadata": {},
   "outputs": [
    {
     "data": {
      "text/html": [
       "<div>\n",
       "<style scoped>\n",
       "    .dataframe tbody tr th:only-of-type {\n",
       "        vertical-align: middle;\n",
       "    }\n",
       "\n",
       "    .dataframe tbody tr th {\n",
       "        vertical-align: top;\n",
       "    }\n",
       "\n",
       "    .dataframe thead th {\n",
       "        text-align: right;\n",
       "    }\n",
       "</style>\n",
       "<table border=\"1\" class=\"dataframe\">\n",
       "  <thead>\n",
       "    <tr style=\"text-align: right;\">\n",
       "      <th></th>\n",
       "      <th>state</th>\n",
       "      <th>city</th>\n",
       "      <th>name_x</th>\n",
       "      <th>business_id</th>\n",
       "      <th>stars_x</th>\n",
       "      <th>review_id</th>\n",
       "    </tr>\n",
       "  </thead>\n",
       "  <tbody>\n",
       "    <tr>\n",
       "      <th>0</th>\n",
       "      <td>NV</td>\n",
       "      <td>Las Vegas</td>\n",
       "      <td>Mon Ami Gabi</td>\n",
       "      <td>4JNXUYY8wbaaDmk3BPzlWw</td>\n",
       "      <td>4.0</td>\n",
       "      <td>5362</td>\n",
       "    </tr>\n",
       "    <tr>\n",
       "      <th>1</th>\n",
       "      <td>NV</td>\n",
       "      <td>Las Vegas</td>\n",
       "      <td>Bacchanal Buffet</td>\n",
       "      <td>RESDUcs7fIiihp38-d6_6g</td>\n",
       "      <td>4.0</td>\n",
       "      <td>5162</td>\n",
       "    </tr>\n",
       "    <tr>\n",
       "      <th>2</th>\n",
       "      <td>NV</td>\n",
       "      <td>Las Vegas</td>\n",
       "      <td>Wicked Spoon</td>\n",
       "      <td>K7lWdNUhCbcnEvI0NhGewg</td>\n",
       "      <td>3.5</td>\n",
       "      <td>4371</td>\n",
       "    </tr>\n",
       "    <tr>\n",
       "      <th>3</th>\n",
       "      <td>NV</td>\n",
       "      <td>Las Vegas</td>\n",
       "      <td>Earl of Sandwich</td>\n",
       "      <td>DkYS3arLOhA8si5uUEmHOw</td>\n",
       "      <td>4.5</td>\n",
       "      <td>3735</td>\n",
       "    </tr>\n",
       "    <tr>\n",
       "      <th>4</th>\n",
       "      <td>NV</td>\n",
       "      <td>Las Vegas</td>\n",
       "      <td>Hash House A Go Go</td>\n",
       "      <td>f4x1YBxkLrZg652xt2KR5g</td>\n",
       "      <td>4.0</td>\n",
       "      <td>3330</td>\n",
       "    </tr>\n",
       "    <tr>\n",
       "      <th>5</th>\n",
       "      <td>NV</td>\n",
       "      <td>Las Vegas</td>\n",
       "      <td>Gordon Ramsay BurGR</td>\n",
       "      <td>cYwJA2A6I12KNkm2rtXd5g</td>\n",
       "      <td>4.0</td>\n",
       "      <td>3159</td>\n",
       "    </tr>\n",
       "    <tr>\n",
       "      <th>6</th>\n",
       "      <td>NV</td>\n",
       "      <td>Las Vegas</td>\n",
       "      <td>Secret Pizza</td>\n",
       "      <td>iCQpiavjjPzJ5_3gPD5Ebg</td>\n",
       "      <td>4.0</td>\n",
       "      <td>3076</td>\n",
       "    </tr>\n",
       "    <tr>\n",
       "      <th>7</th>\n",
       "      <td>NV</td>\n",
       "      <td>Las Vegas</td>\n",
       "      <td>Lotus of Siam</td>\n",
       "      <td>KskYqH1Bi7Z_61pH6Om8pg</td>\n",
       "      <td>4.0</td>\n",
       "      <td>2771</td>\n",
       "    </tr>\n",
       "    <tr>\n",
       "      <th>8</th>\n",
       "      <td>NV</td>\n",
       "      <td>Las Vegas</td>\n",
       "      <td>The Buffet at Bellagio</td>\n",
       "      <td>ujHiaprwCQ5ewziu0Vi9rw</td>\n",
       "      <td>3.5</td>\n",
       "      <td>2762</td>\n",
       "    </tr>\n",
       "    <tr>\n",
       "      <th>9</th>\n",
       "      <td>NV</td>\n",
       "      <td>Las Vegas</td>\n",
       "      <td>Serendipity 3</td>\n",
       "      <td>eoHdUeQDNgQ6WYEnP2aiRw</td>\n",
       "      <td>3.0</td>\n",
       "      <td>2696</td>\n",
       "    </tr>\n",
       "  </tbody>\n",
       "</table>\n",
       "</div>"
      ],
      "text/plain": [
       "  state       city                  name_x             business_id  stars_x  \\\n",
       "0    NV  Las Vegas            Mon Ami Gabi  4JNXUYY8wbaaDmk3BPzlWw      4.0   \n",
       "1    NV  Las Vegas        Bacchanal Buffet  RESDUcs7fIiihp38-d6_6g      4.0   \n",
       "2    NV  Las Vegas            Wicked Spoon  K7lWdNUhCbcnEvI0NhGewg      3.5   \n",
       "3    NV  Las Vegas        Earl of Sandwich  DkYS3arLOhA8si5uUEmHOw      4.5   \n",
       "4    NV  Las Vegas      Hash House A Go Go  f4x1YBxkLrZg652xt2KR5g      4.0   \n",
       "5    NV  Las Vegas     Gordon Ramsay BurGR  cYwJA2A6I12KNkm2rtXd5g      4.0   \n",
       "6    NV  Las Vegas            Secret Pizza  iCQpiavjjPzJ5_3gPD5Ebg      4.0   \n",
       "7    NV  Las Vegas           Lotus of Siam  KskYqH1Bi7Z_61pH6Om8pg      4.0   \n",
       "8    NV  Las Vegas  The Buffet at Bellagio  ujHiaprwCQ5ewziu0Vi9rw      3.5   \n",
       "9    NV  Las Vegas           Serendipity 3  eoHdUeQDNgQ6WYEnP2aiRw      3.0   \n",
       "\n",
       "   review_id  \n",
       "0       5362  \n",
       "1       5162  \n",
       "2       4371  \n",
       "3       3735  \n",
       "4       3330  \n",
       "5       3159  \n",
       "6       3076  \n",
       "7       2771  \n",
       "8       2762  \n",
       "9       2696  "
      ]
     },
     "execution_count": 343,
     "metadata": {},
     "output_type": "execute_result"
    }
   ],
   "source": [
    "summary_df = AZNV_df.groupby(['state', 'city', 'name_x', 'business_id', 'stars_x'])['review_id'].count().sort_values(axis=0, ascending=False, inplace=False, kind='quicksort', na_position='last').to_frame()\n",
    "summary_df = summary_df.reset_index()\n",
    "summary_df.head(10)"
   ]
  },
  {
   "cell_type": "code",
   "execution_count": 345,
   "metadata": {},
   "outputs": [
    {
     "data": {
      "text/html": [
       "<div>\n",
       "<style scoped>\n",
       "    .dataframe tbody tr th:only-of-type {\n",
       "        vertical-align: middle;\n",
       "    }\n",
       "\n",
       "    .dataframe tbody tr th {\n",
       "        vertical-align: top;\n",
       "    }\n",
       "\n",
       "    .dataframe thead th {\n",
       "        text-align: right;\n",
       "    }\n",
       "</style>\n",
       "<table border=\"1\" class=\"dataframe\">\n",
       "  <thead>\n",
       "    <tr style=\"text-align: right;\">\n",
       "      <th></th>\n",
       "      <th>state</th>\n",
       "      <th>city</th>\n",
       "      <th>review_id</th>\n",
       "    </tr>\n",
       "  </thead>\n",
       "  <tbody>\n",
       "    <tr>\n",
       "      <th>0</th>\n",
       "      <td>NV</td>\n",
       "      <td>Las Vegas</td>\n",
       "      <td>807921</td>\n",
       "    </tr>\n",
       "    <tr>\n",
       "      <th>1</th>\n",
       "      <td>AZ</td>\n",
       "      <td>Phoenix</td>\n",
       "      <td>324853</td>\n",
       "    </tr>\n",
       "    <tr>\n",
       "      <th>2</th>\n",
       "      <td>AZ</td>\n",
       "      <td>Scottsdale</td>\n",
       "      <td>172281</td>\n",
       "    </tr>\n",
       "    <tr>\n",
       "      <th>3</th>\n",
       "      <td>AZ</td>\n",
       "      <td>Tempe</td>\n",
       "      <td>89927</td>\n",
       "    </tr>\n",
       "    <tr>\n",
       "      <th>4</th>\n",
       "      <td>NV</td>\n",
       "      <td>Henderson</td>\n",
       "      <td>85176</td>\n",
       "    </tr>\n",
       "    <tr>\n",
       "      <th>5</th>\n",
       "      <td>AZ</td>\n",
       "      <td>Chandler</td>\n",
       "      <td>68830</td>\n",
       "    </tr>\n",
       "    <tr>\n",
       "      <th>6</th>\n",
       "      <td>AZ</td>\n",
       "      <td>Mesa</td>\n",
       "      <td>66943</td>\n",
       "    </tr>\n",
       "    <tr>\n",
       "      <th>7</th>\n",
       "      <td>AZ</td>\n",
       "      <td>Gilbert</td>\n",
       "      <td>53971</td>\n",
       "    </tr>\n",
       "    <tr>\n",
       "      <th>8</th>\n",
       "      <td>AZ</td>\n",
       "      <td>Glendale</td>\n",
       "      <td>42317</td>\n",
       "    </tr>\n",
       "    <tr>\n",
       "      <th>9</th>\n",
       "      <td>AZ</td>\n",
       "      <td>Peoria</td>\n",
       "      <td>22914</td>\n",
       "    </tr>\n",
       "  </tbody>\n",
       "</table>\n",
       "</div>"
      ],
      "text/plain": [
       "  state        city  review_id\n",
       "0    NV   Las Vegas     807921\n",
       "1    AZ     Phoenix     324853\n",
       "2    AZ  Scottsdale     172281\n",
       "3    AZ       Tempe      89927\n",
       "4    NV   Henderson      85176\n",
       "5    AZ    Chandler      68830\n",
       "6    AZ        Mesa      66943\n",
       "7    AZ     Gilbert      53971\n",
       "8    AZ    Glendale      42317\n",
       "9    AZ      Peoria      22914"
      ]
     },
     "execution_count": 345,
     "metadata": {},
     "output_type": "execute_result"
    }
   ],
   "source": [
    "city_df = summary_df.groupby(['state', 'city'])['review_id'].sum().sort_values(axis=0, ascending=False, inplace=False, kind='quicksort', na_position='last').to_frame()\n",
    "city_df = city_df.reset_index()\n",
    "city_df.head(10)"
   ]
  },
  {
   "cell_type": "markdown",
   "metadata": {},
   "source": [
    "## Get User Preferences"
   ]
  },
  {
   "cell_type": "code",
   "execution_count": null,
   "metadata": {},
   "outputs": [],
   "source": [
    "Bacchanal Buffet\n",
    "Wicked Spoon\n",
    "Earl of Sandwich\n",
    "Hash House A Go Go\n",
    "Gordon Ramsay BurGR"
   ]
  },
  {
   "cell_type": "code",
   "execution_count": null,
   "metadata": {},
   "outputs": [],
   "source": []
  },
  {
   "cell_type": "code",
   "execution_count": null,
   "metadata": {},
   "outputs": [],
   "source": []
  },
  {
   "cell_type": "code",
   "execution_count": null,
   "metadata": {},
   "outputs": [],
   "source": []
  },
  {
   "cell_type": "code",
   "execution_count": null,
   "metadata": {},
   "outputs": [],
   "source": []
  },
  {
   "cell_type": "code",
   "execution_count": null,
   "metadata": {},
   "outputs": [],
   "source": []
  },
  {
   "cell_type": "code",
   "execution_count": null,
   "metadata": {},
   "outputs": [],
   "source": []
  },
  {
   "cell_type": "code",
   "execution_count": null,
   "metadata": {},
   "outputs": [],
   "source": []
  },
  {
   "cell_type": "code",
   "execution_count": null,
   "metadata": {},
   "outputs": [],
   "source": []
  },
  {
   "cell_type": "code",
   "execution_count": null,
   "metadata": {},
   "outputs": [],
   "source": [
    "def recommend_restaurants(predictions, userID, df, original_ratings, num_recommendations):\n",
    "    \n",
    "    # Get and sort the user's predictions\n",
    "    user_row_number = userID - 1 # User ID starts at 1, not 0\n",
    "    sorted_user_predictions = preds.iloc[user_row_number].sort_values(ascending=False) # User ID starts at 1\n",
    "    \n",
    "    # Get the user's data and merge in the movie information.\n",
    "    user_data = original_ratings[original_ratings.user_id == (userID)]\n",
    "    user_full = (user_data.merge(df, how = 'left', left_on = 'business_id', right_on = 'business_id').\n",
    "                     sort_values(['rating'], ascending=False)\n",
    "                 )\n",
    "    \n",
    "    # Recommend the highest predicted rating movies that the user hasn't seen yet.\n",
    "    recommendations = (df[~df['business_id'].isin(user_full['business_id'])].\n",
    "         merge(pd.DataFrame(sorted_user_predictions).reset_index(), how = 'left',\n",
    "               left_on = 'business_id',\n",
    "               right_on = 'business_id').\n",
    "         rename(columns = {user_row_number: 'Predictions'}).\n",
    "         sort_values('Predictions', ascending = False).\n",
    "                       iloc[:num_recommendations, :-1]\n",
    "                      )\n",
    "\n",
    "    return user_full, recommendations"
   ]
  },
  {
   "cell_type": "code",
   "execution_count": null,
   "metadata": {},
   "outputs": [],
   "source": []
  },
  {
   "cell_type": "code",
   "execution_count": null,
   "metadata": {},
   "outputs": [],
   "source": []
  },
  {
   "cell_type": "code",
   "execution_count": null,
   "metadata": {},
   "outputs": [],
   "source": [
    "#https://medium.com/@james_aka_yale/the-4-recommendation-engines-that-can-predict-your-movie-tastes-bbec857b8223"
   ]
  },
  {
   "cell_type": "code",
   "execution_count": null,
   "metadata": {},
   "outputs": [],
   "source": [
    "# get % recommendation and provide them back similiar cateogires\n",
    "# look at submit.py from case study\n",
    "# also let user choose top 5, different types of filters"
   ]
  },
  {
   "cell_type": "code",
   "execution_count": null,
   "metadata": {},
   "outputs": [],
   "source": []
  }
 ],
 "metadata": {
  "kernelspec": {
   "display_name": "Python 3",
   "language": "python",
   "name": "python3"
  },
  "language_info": {
   "codemirror_mode": {
    "name": "ipython",
    "version": 3
   },
   "file_extension": ".py",
   "mimetype": "text/x-python",
   "name": "python",
   "nbconvert_exporter": "python",
   "pygments_lexer": "ipython3",
   "version": "3.7.1"
  }
 },
 "nbformat": 4,
 "nbformat_minor": 2
}
