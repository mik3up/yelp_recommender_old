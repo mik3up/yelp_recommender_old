{
 "cells": [
  {
   "cell_type": "markdown",
   "metadata": {},
   "source": [
    "# Modelling"
   ]
  },
  {
   "cell_type": "code",
   "execution_count": 211,
   "metadata": {},
   "outputs": [],
   "source": [
    "import os\n",
    "import time\n",
    "import json\n",
    "import pickle\n",
    "from collections import Counter\n",
    "\n",
    "import numpy as np\n",
    "import pandas as pd\n",
    "pd.set_option('display.max_columns', None)\n",
    "pd.set_option('display.max_rows', None)\n",
    "# import databricks.koalas as ks\n",
    "\n",
    "import pyspark\n",
    "from pyspark.sql import SparkSession\n",
    "import pandas as pd\n",
    "\n",
    "# Setup a SparkSession\n",
    "spark = SparkSession.builder.getOrCreate()\n",
    "\n",
    "import pandas_profiling\n",
    "# df.profile_report(style={'full_width':True})\n",
    "# df.profile_report(title='Pandas Profiling Report')\n",
    "\n",
    "import matplotlib.pyplot as plt\n",
    "%matplotlib inline\n",
    "plt.style.use('seaborn')\n",
    "font = {'size':16}\n",
    "import seaborn as sns\n",
    "\n",
    "from sklearn.metrics import mean_absolute_error\n",
    "\n",
    "import surprise\n",
    "from surprise import Dataset\n",
    "from surprise import Reader\n",
    "from surprise.model_selection import cross_validate\n",
    "from surprise.model_selection import GridSearchCV\n",
    "from surprise import KNNBasic, KNNWithMeans, KNNWithZScore\n",
    "from surprise import SVD, SVDpp, NMF\n",
    "from surprise import accuracy\n",
    "from surprise import SlopeOne, CoClustering\n",
    "from surprise.model_selection import train_test_split\n",
    "\n",
    "from IPython.core.interactiveshell import InteractiveShell\n",
    "InteractiveShell.ast_node_interactivity = \"all\"\n",
    "\n",
    "import warnings\n",
    "warnings.simplefilter('ignore')"
   ]
  },
  {
   "cell_type": "code",
   "execution_count": 21,
   "metadata": {},
   "outputs": [],
   "source": [
    "def notify(title, text):\n",
    "    os.system(\"\"\"\n",
    "              osascript -e 'display notification \"{}\" with title \"{}\"'\n",
    "              \"\"\".format(text, title))\n",
    "\n",
    "notify(\"Test Title\", \"Heres an alert\")"
   ]
  },
  {
   "cell_type": "markdown",
   "metadata": {},
   "source": [
    "## Reading in AZNV dataframe"
   ]
  },
  {
   "cell_type": "code",
   "execution_count": 87,
   "metadata": {},
   "outputs": [
    {
     "name": "stdout",
     "output_type": "stream",
     "text": [
      "(1818490, 32)\n"
     ]
    },
    {
     "data": {
      "text/html": [
       "<div>\n",
       "<style scoped>\n",
       "    .dataframe tbody tr th:only-of-type {\n",
       "        vertical-align: middle;\n",
       "    }\n",
       "\n",
       "    .dataframe tbody tr th {\n",
       "        vertical-align: top;\n",
       "    }\n",
       "\n",
       "    .dataframe thead th {\n",
       "        text-align: right;\n",
       "    }\n",
       "</style>\n",
       "<table border=\"1\" class=\"dataframe\">\n",
       "  <thead>\n",
       "    <tr style=\"text-align: right;\">\n",
       "      <th></th>\n",
       "      <th>business_id</th>\n",
       "      <th>name_x</th>\n",
       "      <th>address</th>\n",
       "      <th>city</th>\n",
       "      <th>state</th>\n",
       "      <th>postal_code</th>\n",
       "      <th>latitude</th>\n",
       "      <th>longitude</th>\n",
       "      <th>stars_x</th>\n",
       "      <th>review_count_x</th>\n",
       "      <th>is_open</th>\n",
       "      <th>attributes</th>\n",
       "      <th>categories</th>\n",
       "      <th>hours</th>\n",
       "      <th>review_id</th>\n",
       "      <th>user_id</th>\n",
       "      <th>stars_y</th>\n",
       "      <th>useful</th>\n",
       "      <th>funny</th>\n",
       "      <th>cool</th>\n",
       "      <th>text</th>\n",
       "      <th>date</th>\n",
       "      <th>name_y</th>\n",
       "      <th>review_count_y</th>\n",
       "      <th>yelping_since</th>\n",
       "      <th>friends</th>\n",
       "      <th>fans</th>\n",
       "      <th>average_stars</th>\n",
       "      <th>likes</th>\n",
       "      <th>compliments</th>\n",
       "      <th>elite_years</th>\n",
       "      <th>hotel?</th>\n",
       "    </tr>\n",
       "  </thead>\n",
       "  <tbody>\n",
       "    <tr>\n",
       "      <th>0</th>\n",
       "      <td>vx4YAA02Qz6khRD1fZ1MFA</td>\n",
       "      <td>Ping Pang Pong</td>\n",
       "      <td>4000 W Flamingo Rd</td>\n",
       "      <td>Las Vegas</td>\n",
       "      <td>NV</td>\n",
       "      <td>89103</td>\n",
       "      <td>36.116901</td>\n",
       "      <td>-115.193512</td>\n",
       "      <td>3.5</td>\n",
       "      <td>1005</td>\n",
       "      <td>1</td>\n",
       "      <td>{'RestaurantsPriceRange2': '2', 'BusinessAccep...</td>\n",
       "      <td>[Cantonese, Seafood, Dim Sum, Restaurants, Chi...</td>\n",
       "      <td>{'Monday': '10:0-3:0', 'Tuesday': '10:0-3:0', ...</td>\n",
       "      <td>FwiJ7DQ3a9cBwp1OYlP5VA</td>\n",
       "      <td>A0kENtCCoVT3m7T35zb2Vg</td>\n",
       "      <td>2.0</td>\n",
       "      <td>0</td>\n",
       "      <td>0</td>\n",
       "      <td>0</td>\n",
       "      <td>There are so many good reviews of this place o...</td>\n",
       "      <td>2010-04-02 20:37:54</td>\n",
       "      <td>Anastasia</td>\n",
       "      <td>348</td>\n",
       "      <td>2009-02-15 16:45:34</td>\n",
       "      <td>BBY1Alonk5V0OLgk_G0rNQ, TY7QgNKJEhvo1zCULlT9Rg...</td>\n",
       "      <td>9</td>\n",
       "      <td>3.66</td>\n",
       "      <td>619</td>\n",
       "      <td>38</td>\n",
       "      <td>3</td>\n",
       "      <td>0</td>\n",
       "    </tr>\n",
       "    <tr>\n",
       "      <th>1</th>\n",
       "      <td>glTBzDHv9wNhEsZa4bQrOA</td>\n",
       "      <td>CatHouse Boutique Nightclub</td>\n",
       "      <td>3900 Las Vegas Blvd S</td>\n",
       "      <td>Las Vegas</td>\n",
       "      <td>NV</td>\n",
       "      <td>89119</td>\n",
       "      <td>36.094822</td>\n",
       "      <td>-115.173216</td>\n",
       "      <td>3.0</td>\n",
       "      <td>178</td>\n",
       "      <td>0</td>\n",
       "      <td>{'OutdoorSeating': 'False', 'BusinessAcceptsCr...</td>\n",
       "      <td>[Restaurants, Nightlife, Lounges, American (Ne...</td>\n",
       "      <td>{'Monday': '17:0-4:0', 'Tuesday': '17:0-4:0', ...</td>\n",
       "      <td>7ynnTyXiuIWHDkktHsdm4Q</td>\n",
       "      <td>A0kENtCCoVT3m7T35zb2Vg</td>\n",
       "      <td>2.0</td>\n",
       "      <td>1</td>\n",
       "      <td>1</td>\n",
       "      <td>0</td>\n",
       "      <td>Restaurant-only review; based on that, they wo...</td>\n",
       "      <td>2009-02-16 14:53:11</td>\n",
       "      <td>Anastasia</td>\n",
       "      <td>348</td>\n",
       "      <td>2009-02-15 16:45:34</td>\n",
       "      <td>BBY1Alonk5V0OLgk_G0rNQ, TY7QgNKJEhvo1zCULlT9Rg...</td>\n",
       "      <td>9</td>\n",
       "      <td>3.66</td>\n",
       "      <td>619</td>\n",
       "      <td>38</td>\n",
       "      <td>3</td>\n",
       "      <td>0</td>\n",
       "    </tr>\n",
       "  </tbody>\n",
       "</table>\n",
       "</div>"
      ],
      "text/plain": [
       "              business_id                       name_x                address  \\\n",
       "0  vx4YAA02Qz6khRD1fZ1MFA               Ping Pang Pong     4000 W Flamingo Rd   \n",
       "1  glTBzDHv9wNhEsZa4bQrOA  CatHouse Boutique Nightclub  3900 Las Vegas Blvd S   \n",
       "\n",
       "        city state postal_code   latitude   longitude  stars_x  \\\n",
       "0  Las Vegas    NV       89103  36.116901 -115.193512      3.5   \n",
       "1  Las Vegas    NV       89119  36.094822 -115.173216      3.0   \n",
       "\n",
       "   review_count_x  is_open                                         attributes  \\\n",
       "0            1005        1  {'RestaurantsPriceRange2': '2', 'BusinessAccep...   \n",
       "1             178        0  {'OutdoorSeating': 'False', 'BusinessAcceptsCr...   \n",
       "\n",
       "                                          categories  \\\n",
       "0  [Cantonese, Seafood, Dim Sum, Restaurants, Chi...   \n",
       "1  [Restaurants, Nightlife, Lounges, American (Ne...   \n",
       "\n",
       "                                               hours               review_id  \\\n",
       "0  {'Monday': '10:0-3:0', 'Tuesday': '10:0-3:0', ...  FwiJ7DQ3a9cBwp1OYlP5VA   \n",
       "1  {'Monday': '17:0-4:0', 'Tuesday': '17:0-4:0', ...  7ynnTyXiuIWHDkktHsdm4Q   \n",
       "\n",
       "                  user_id  stars_y  useful  funny  cool  \\\n",
       "0  A0kENtCCoVT3m7T35zb2Vg      2.0       0      0     0   \n",
       "1  A0kENtCCoVT3m7T35zb2Vg      2.0       1      1     0   \n",
       "\n",
       "                                                text                 date  \\\n",
       "0  There are so many good reviews of this place o...  2010-04-02 20:37:54   \n",
       "1  Restaurant-only review; based on that, they wo...  2009-02-16 14:53:11   \n",
       "\n",
       "      name_y  review_count_y        yelping_since  \\\n",
       "0  Anastasia             348  2009-02-15 16:45:34   \n",
       "1  Anastasia             348  2009-02-15 16:45:34   \n",
       "\n",
       "                                             friends  fans  average_stars  \\\n",
       "0  BBY1Alonk5V0OLgk_G0rNQ, TY7QgNKJEhvo1zCULlT9Rg...     9           3.66   \n",
       "1  BBY1Alonk5V0OLgk_G0rNQ, TY7QgNKJEhvo1zCULlT9Rg...     9           3.66   \n",
       "\n",
       "   likes  compliments  elite_years  hotel?  \n",
       "0    619           38            3       0  \n",
       "1    619           38            3       0  "
      ]
     },
     "execution_count": 87,
     "metadata": {},
     "output_type": "execute_result"
    }
   ],
   "source": [
    "AZNV_df = pd.read_pickle('../data/AZNV_df.p')\n",
    "print(AZNV_df.shape)\n",
    "AZNV_df.head(2)"
   ]
  },
  {
   "cell_type": "code",
   "execution_count": 88,
   "metadata": {},
   "outputs": [
    {
     "data": {
      "text/plain": [
       "3.7818712228277307"
      ]
     },
     "execution_count": 88,
     "metadata": {},
     "output_type": "execute_result"
    }
   ],
   "source": [
    "np.mean(AZNV_df['stars_x'])"
   ]
  },
  {
   "cell_type": "markdown",
   "metadata": {},
   "source": [
    "### Create numerical features for IDs"
   ]
  },
  {
   "cell_type": "code",
   "execution_count": 89,
   "metadata": {},
   "outputs": [],
   "source": [
    "user_labels, user_uniques = pd.factorize(AZNV_df['user_id'])\n",
    "business_labels, business_uniques = pd.factorize(AZNV_df['business_id'])\n",
    "\n",
    "AZNV_df['userid'] = user_labels\n",
    "AZNV_df['businessid'] = business_labels"
   ]
  },
  {
   "cell_type": "markdown",
   "metadata": {},
   "source": [
    "### Create pandas and spark DF for recommender models"
   ]
  },
  {
   "cell_type": "code",
   "execution_count": 90,
   "metadata": {},
   "outputs": [
    {
     "data": {
      "text/html": [
       "<div>\n",
       "<style scoped>\n",
       "    .dataframe tbody tr th:only-of-type {\n",
       "        vertical-align: middle;\n",
       "    }\n",
       "\n",
       "    .dataframe tbody tr th {\n",
       "        vertical-align: top;\n",
       "    }\n",
       "\n",
       "    .dataframe thead th {\n",
       "        text-align: right;\n",
       "    }\n",
       "</style>\n",
       "<table border=\"1\" class=\"dataframe\">\n",
       "  <thead>\n",
       "    <tr style=\"text-align: right;\">\n",
       "      <th></th>\n",
       "      <th>userid</th>\n",
       "      <th>restaurantid</th>\n",
       "      <th>rating</th>\n",
       "    </tr>\n",
       "  </thead>\n",
       "  <tbody>\n",
       "    <tr>\n",
       "      <th>0</th>\n",
       "      <td>0</td>\n",
       "      <td>0</td>\n",
       "      <td>2.0</td>\n",
       "    </tr>\n",
       "    <tr>\n",
       "      <th>1</th>\n",
       "      <td>0</td>\n",
       "      <td>1</td>\n",
       "      <td>2.0</td>\n",
       "    </tr>\n",
       "    <tr>\n",
       "      <th>2</th>\n",
       "      <td>0</td>\n",
       "      <td>2</td>\n",
       "      <td>1.0</td>\n",
       "    </tr>\n",
       "    <tr>\n",
       "      <th>3</th>\n",
       "      <td>0</td>\n",
       "      <td>3</td>\n",
       "      <td>4.0</td>\n",
       "    </tr>\n",
       "    <tr>\n",
       "      <th>4</th>\n",
       "      <td>0</td>\n",
       "      <td>4</td>\n",
       "      <td>5.0</td>\n",
       "    </tr>\n",
       "  </tbody>\n",
       "</table>\n",
       "</div>"
      ],
      "text/plain": [
       "   userid  restaurantid  rating\n",
       "0       0             0     2.0\n",
       "1       0             1     2.0\n",
       "2       0             2     1.0\n",
       "3       0             3     4.0\n",
       "4       0             4     5.0"
      ]
     },
     "execution_count": 90,
     "metadata": {},
     "output_type": "execute_result"
    }
   ],
   "source": [
    "pandas_df = AZNV_df[['userid', 'businessid', 'stars_y']]\n",
    "pandas_df = pandas_df.rename(columns={\"businessid\": \"restaurantid\", \"stars_y\":\"rating\"})\n",
    "\n",
    "pandas_df.head()"
   ]
  },
  {
   "cell_type": "code",
   "execution_count": 91,
   "metadata": {},
   "outputs": [],
   "source": [
    "pandas_df.to_pickle('../data/model_pandas_df.p')"
   ]
  },
  {
   "cell_type": "code",
   "execution_count": 92,
   "metadata": {},
   "outputs": [
    {
     "data": {
      "text/html": [
       "<div>\n",
       "<style scoped>\n",
       "    .dataframe tbody tr th:only-of-type {\n",
       "        vertical-align: middle;\n",
       "    }\n",
       "\n",
       "    .dataframe tbody tr th {\n",
       "        vertical-align: top;\n",
       "    }\n",
       "\n",
       "    .dataframe thead th {\n",
       "        text-align: right;\n",
       "    }\n",
       "</style>\n",
       "<table border=\"1\" class=\"dataframe\">\n",
       "  <thead>\n",
       "    <tr style=\"text-align: right;\">\n",
       "      <th></th>\n",
       "      <th>userid</th>\n",
       "      <th>restaurantid</th>\n",
       "      <th>rating</th>\n",
       "    </tr>\n",
       "  </thead>\n",
       "  <tbody>\n",
       "    <tr>\n",
       "      <th>0</th>\n",
       "      <td>0</td>\n",
       "      <td>0</td>\n",
       "      <td>2.0</td>\n",
       "    </tr>\n",
       "    <tr>\n",
       "      <th>1</th>\n",
       "      <td>0</td>\n",
       "      <td>1</td>\n",
       "      <td>2.0</td>\n",
       "    </tr>\n",
       "  </tbody>\n",
       "</table>\n",
       "</div>"
      ],
      "text/plain": [
       "   userid  restaurantid  rating\n",
       "0       0             0     2.0\n",
       "1       0             1     2.0"
      ]
     },
     "execution_count": 92,
     "metadata": {},
     "output_type": "execute_result"
    }
   ],
   "source": [
    "pandas_df = pd.read_pickle('../data/model_pandas_df.p')\n",
    "pandas_df.head(2)"
   ]
  },
  {
   "cell_type": "code",
   "execution_count": 93,
   "metadata": {},
   "outputs": [],
   "source": [
    "spark_df = spark.createDataFrame(pandas_df)"
   ]
  },
  {
   "cell_type": "markdown",
   "metadata": {},
   "source": [
    "## ALS Model - Base Model\n",
    "\n",
    "Train ALS model using np.mean of ratings"
   ]
  },
  {
   "cell_type": "code",
   "execution_count": 94,
   "metadata": {},
   "outputs": [
    {
     "name": "stdout",
     "output_type": "stream",
     "text": [
      "+------+------------+------+\n",
      "|userid|restaurantid|rating|\n",
      "+------+------------+------+\n",
      "|     0|           1|   2.0|\n",
      "|     0|           2|   1.0|\n",
      "|     0|           4|   5.0|\n",
      "|     0|           6|   5.0|\n",
      "|     0|           7|   3.0|\n",
      "+------+------------+------+\n",
      "only showing top 5 rows\n",
      "\n"
     ]
    },
    {
     "data": {
      "text/plain": [
       "1455147"
      ]
     },
     "execution_count": 94,
     "metadata": {},
     "output_type": "execute_result"
    }
   ],
   "source": [
    "train, test = spark_df.randomSplit([0.8, 0.2], seed=0)\n",
    "\n",
    "train.show(5)\n",
    "\n",
    "train.count()"
   ]
  },
  {
   "cell_type": "code",
   "execution_count": 95,
   "metadata": {},
   "outputs": [
    {
     "name": "stdout",
     "output_type": "stream",
     "text": [
      "+------+------------+------------------+\n",
      "|userid|restaurantid|            rating|\n",
      "+------+------------+------------------+\n",
      "|     0|           1|3.7893498045214677|\n",
      "|     0|           2|3.7893498045214677|\n",
      "+------+------------+------------------+\n",
      "only showing top 2 rows\n",
      "\n"
     ]
    }
   ],
   "source": [
    "train_with_mean = train.toPandas()\n",
    "train_with_mean['rating'] = np.mean(train_with_mean['rating'])\n",
    "train_with_mean = spark.createDataFrame(train_with_mean)\n",
    "train_with_mean.show(2)"
   ]
  },
  {
   "cell_type": "code",
   "execution_count": 96,
   "metadata": {},
   "outputs": [
    {
     "name": "stdout",
     "output_type": "stream",
     "text": [
      "ALS model has been fitted on train_with_mean data.\n"
     ]
    }
   ],
   "source": [
    "from pyspark.ml.recommendation import ALS\n",
    "als_model = ALS(\n",
    "    itemCol='restaurantid',\n",
    "    userCol='userid',\n",
    "    ratingCol='rating',\n",
    "    nonnegative=True,    \n",
    "    regParam=0.1,\n",
    "    rank=10) \n",
    "\n",
    "recommender = als_model.fit(train_with_mean)\n",
    "\n",
    "print('ALS model has been fitted on train_with_mean data.')"
   ]
  },
  {
   "cell_type": "code",
   "execution_count": 97,
   "metadata": {},
   "outputs": [
    {
     "name": "stdout",
     "output_type": "stream",
     "text": [
      "+------+------------+----------+\n",
      "|userid|restaurantid|prediction|\n",
      "+------+------------+----------+\n",
      "|     0|           3| 3.6294148|\n",
      "+------+------------+----------+\n",
      "\n"
     ]
    }
   ],
   "source": [
    "# look at a random prediction\n",
    "\n",
    "data = [(0, 3)]\n",
    "columns = ('userid', 'restaurantid')\n",
    "one_row_spark_df = spark.createDataFrame(data, columns)\n",
    "user_factor_df = recommender.userFactors.filter('id = 1')\n",
    "item_factor_df = recommender.itemFactors.filter('id = 100')\n",
    "user_factors = user_factor_df.collect()[0]['features']\n",
    "item_factors = item_factor_df.collect()[0]['features']\n",
    "recommender.transform(one_row_spark_df).show()"
   ]
  },
  {
   "cell_type": "code",
   "execution_count": 98,
   "metadata": {},
   "outputs": [
    {
     "name": "stdout",
     "output_type": "stream",
     "text": [
      "+-------+-----------------+------------------+------------------+----------+\n",
      "|summary|           userid|      restaurantid|            rating|prediction|\n",
      "+-------+-----------------+------------------+------------------+----------+\n",
      "|  count|           363343|            363343|            363343|    363343|\n",
      "|   mean|67019.54313692571| 4357.848828792628|3.7901789768896057|       NaN|\n",
      "| stddev|56886.59800722874|3628.5879309853876|1.3181072931108382|       NaN|\n",
      "|    min|                0|                 0|               1.0| 2.9763389|\n",
      "|    max|           203358|             14796|               5.0|       NaN|\n",
      "+-------+-----------------+------------------+------------------+----------+\n",
      "\n"
     ]
    }
   ],
   "source": [
    "predictions = recommender.transform(test)\n",
    "predictions.describe().show()"
   ]
  },
  {
   "cell_type": "code",
   "execution_count": 99,
   "metadata": {},
   "outputs": [],
   "source": [
    "# Dump the predictions to Pandas DataFrames to make our final calculations easier\n",
    "predictions_df = predictions.toPandas()\n",
    "train_df = train.toPandas()"
   ]
  },
  {
   "cell_type": "code",
   "execution_count": 100,
   "metadata": {},
   "outputs": [],
   "source": [
    "# Fill any missing values with the mean rating\n",
    "predictions_df = predictions.toPandas().fillna(train_df['rating'].mean())"
   ]
  },
  {
   "cell_type": "code",
   "execution_count": 101,
   "metadata": {},
   "outputs": [
    {
     "name": "stdout",
     "output_type": "stream",
     "text": [
      "RMSE of base (train data with mean): 1.3274137815483629\n"
     ]
    }
   ],
   "source": [
    "# Calculate Root Mean Squared Error (RMSE)\n",
    "\n",
    "predictions_df['squared_error'] = (predictions_df['rating'] - predictions_df['prediction'])**2\n",
    "\n",
    "rmse = np.sqrt(sum(predictions_df['squared_error']) / len(predictions_df))\n",
    "\n",
    "print('RMSE of base (train data with mean): {}'.format(rmse))"
   ]
  },
  {
   "cell_type": "code",
   "execution_count": 104,
   "metadata": {},
   "outputs": [
    {
     "name": "stdout",
     "output_type": "stream",
     "text": [
      "MAE of base (train data with mean): 1.141648958873738\n"
     ]
    }
   ],
   "source": [
    "# Calculate Mean Absolute Error (MAE)\n",
    "\n",
    "y_true = predictions_df['rating']\n",
    "y_pred = predictions_df['prediction']\n",
    "mae = mean_absolute_error(y_true, y_pred)\n",
    "\n",
    "print('MAE of base (train data with mean): {}'.format(mae))"
   ]
  },
  {
   "cell_type": "markdown",
   "metadata": {},
   "source": [
    "### RMSE 1.3274 is the score to beat!\n",
    "\n",
    "Using RMSE because it punishes error more highly than MAE"
   ]
  },
  {
   "cell_type": "markdown",
   "metadata": {},
   "source": [
    "## ALS on train dataset"
   ]
  },
  {
   "cell_type": "code",
   "execution_count": 13,
   "metadata": {},
   "outputs": [
    {
     "name": "stdout",
     "output_type": "stream",
     "text": [
      "ALS model has been fitted on train data.\n"
     ]
    }
   ],
   "source": [
    "from pyspark.ml.recommendation import ALS\n",
    "als_model = ALS(\n",
    "    itemCol='restaurantid',\n",
    "    userCol='userid',\n",
    "    ratingCol='rating',\n",
    "    nonnegative=True,    \n",
    "    regParam=0.1,\n",
    "    rank=10) \n",
    "\n",
    "recommender = als_model.fit(train)\n",
    "\n",
    "print('ALS model has been fitted on train data.')"
   ]
  },
  {
   "cell_type": "code",
   "execution_count": 14,
   "metadata": {},
   "outputs": [
    {
     "name": "stdout",
     "output_type": "stream",
     "text": [
      "RMSE of train: 1.4427868868935185\n"
     ]
    }
   ],
   "source": [
    "predictions = recommender.transform(test)\n",
    "predictions_df = predictions.toPandas()\n",
    "train_df = train.toPandas()\n",
    "predictions_df = predictions.toPandas().fillna(train_df['rating'].mean())\n",
    "\n",
    "predictions_df['squared_error'] = (predictions_df['rating'] - predictions_df['prediction'])**2\n",
    "\n",
    "rmse = np.sqrt(sum(predictions_df['squared_error']) / len(predictions_df))\n",
    "\n",
    "print('RMSE of train: {}'.format(rmse))"
   ]
  },
  {
   "cell_type": "code",
   "execution_count": 15,
   "metadata": {},
   "outputs": [
    {
     "data": {
      "text/html": [
       "<div>\n",
       "<style scoped>\n",
       "    .dataframe tbody tr th:only-of-type {\n",
       "        vertical-align: middle;\n",
       "    }\n",
       "\n",
       "    .dataframe tbody tr th {\n",
       "        vertical-align: top;\n",
       "    }\n",
       "\n",
       "    .dataframe thead th {\n",
       "        text-align: right;\n",
       "    }\n",
       "</style>\n",
       "<table border=\"1\" class=\"dataframe\">\n",
       "  <thead>\n",
       "    <tr style=\"text-align: right;\">\n",
       "      <th></th>\n",
       "      <th>userid</th>\n",
       "      <th>restaurantid</th>\n",
       "      <th>rating</th>\n",
       "      <th>prediction</th>\n",
       "      <th>squared_error</th>\n",
       "    </tr>\n",
       "  </thead>\n",
       "  <tbody>\n",
       "    <tr>\n",
       "      <th>0</th>\n",
       "      <td>29054</td>\n",
       "      <td>148</td>\n",
       "      <td>5.0</td>\n",
       "      <td>4.522486</td>\n",
       "      <td>0.228020</td>\n",
       "    </tr>\n",
       "    <tr>\n",
       "      <th>1</th>\n",
       "      <td>14514</td>\n",
       "      <td>148</td>\n",
       "      <td>3.0</td>\n",
       "      <td>2.615818</td>\n",
       "      <td>0.147596</td>\n",
       "    </tr>\n",
       "    <tr>\n",
       "      <th>2</th>\n",
       "      <td>122710</td>\n",
       "      <td>148</td>\n",
       "      <td>4.0</td>\n",
       "      <td>3.924699</td>\n",
       "      <td>0.005670</td>\n",
       "    </tr>\n",
       "    <tr>\n",
       "      <th>3</th>\n",
       "      <td>14958</td>\n",
       "      <td>148</td>\n",
       "      <td>3.0</td>\n",
       "      <td>3.699966</td>\n",
       "      <td>0.489952</td>\n",
       "    </tr>\n",
       "    <tr>\n",
       "      <th>4</th>\n",
       "      <td>106608</td>\n",
       "      <td>148</td>\n",
       "      <td>3.0</td>\n",
       "      <td>2.643519</td>\n",
       "      <td>0.127078</td>\n",
       "    </tr>\n",
       "  </tbody>\n",
       "</table>\n",
       "</div>"
      ],
      "text/plain": [
       "   userid  restaurantid  rating  prediction  squared_error\n",
       "0   29054           148     5.0    4.522486       0.228020\n",
       "1   14514           148     3.0    2.615818       0.147596\n",
       "2  122710           148     4.0    3.924699       0.005670\n",
       "3   14958           148     3.0    3.699966       0.489952\n",
       "4  106608           148     3.0    2.643519       0.127078"
      ]
     },
     "execution_count": 15,
     "metadata": {},
     "output_type": "execute_result"
    }
   ],
   "source": [
    "predictions_df.head()"
   ]
  },
  {
   "cell_type": "code",
   "execution_count": 16,
   "metadata": {},
   "outputs": [
    {
     "data": {
      "image/png": "[encoded data removed]",
      "text/plain": [
       "<Figure size 432x288 with 1 Axes>"
      ]
     },
     "metadata": {
      "needs_background": "light"
     },
     "output_type": "display_data"
    }
   ],
   "source": [
    "# Create array of predictions for violinplot\n",
    "data = [predictions_df['prediction'][predictions_df['rating'] == rating].values for rating in range(1, 6)]\n",
    "plt.violinplot(data, range(1,6), showmeans=True, )\n",
    "plt.xlabel('True Ratings')\n",
    "plt.ylabel('Predicted Ratings')\n",
    "plt.title('True vs. ALS Recommender Predicted Ratings')\n",
    "plt.show();"
   ]
  },
  {
   "cell_type": "markdown",
   "metadata": {},
   "source": [
    "### Model turned out to be worse than the base..."
   ]
  },
  {
   "cell_type": "markdown",
   "metadata": {},
   "source": [
    "## Collaborative Filtering\n",
    "\n",
    "Item-Item Collaborative Filtering (IBCF) measures the similarity between the items that target users rates/ interacts with and other items\n",
    "\n",
    "#### Advantages of item-based filtering over user-based filtering :\n",
    "\n",
    "* Computationally less expensive : When users >> items, It makes sense to use item-based filtering in this case. \n",
    "* Item-item is less sparse than user-user matrix\n",
    "* A famous example of item-based filtering is <a href = 'https://www.cs.umd.edu/~samir/498/Amazon-Recommendations.pdf'>Amazon’s recommendation engine</a>."
   ]
  },
  {
   "cell_type": "markdown",
   "metadata": {},
   "source": [
    "## Surprise library\n",
    "\n",
    "<a href='http://surpriselib.com/'>Surprise library</a> is a great tool for building and analyzing recommender models.\n",
    "<br><br>\n",
    "Thank you to bmanohar16's work used as reference"
   ]
  },
  {
   "cell_type": "markdown",
   "metadata": {},
   "source": [
    "### Split data into train/test"
   ]
  },
  {
   "cell_type": "code",
   "execution_count": 17,
   "metadata": {},
   "outputs": [
    {
     "data": {
      "text/plain": [
       "(1818490, 3)"
      ]
     },
     "execution_count": 17,
     "metadata": {},
     "output_type": "execute_result"
    }
   ],
   "source": [
    "pandas_df.shape"
   ]
  },
  {
   "cell_type": "code",
   "execution_count": 18,
   "metadata": {},
   "outputs": [
    {
     "name": "stdout",
     "output_type": "stream",
     "text": [
      "Unique Users    : 203359\n",
      "Unique Restaurant : 14797\n",
      "Unique Ratings  : 5\n"
     ]
    }
   ],
   "source": [
    "print('Unique Users    :', pandas_df.userid.nunique())\n",
    "print('Unique Restaurant :', pandas_df.restaurantid.nunique())\n",
    "print('Unique Ratings  :', pandas_df.rating.nunique())"
   ]
  },
  {
   "cell_type": "code",
   "execution_count": 208,
   "metadata": {},
   "outputs": [],
   "source": [
    "# Set Rating Scale\n",
    "reader = Reader(rating_scale=(1, 5))\n",
    "\n",
    "# Load data with rating scale\n",
    "data = Dataset.load_from_df(pandas_df, reader)"
   ]
  },
  {
   "cell_type": "markdown",
   "metadata": {},
   "source": [
    "### KNN Basic\n",
    "\n",
    "computes similiarities between item-item where k=40 (down to 1 if less than 40)"
   ]
  },
  {
   "cell_type": "code",
   "execution_count": 7,
   "metadata": {},
   "outputs": [
    {
     "name": "stdout",
     "output_type": "stream",
     "text": [
      "Evaluating RMSE, MAE of algorithm KNNBasic on 5 split(s).\n",
      "\n",
      "                  Fold 1  Fold 2  Fold 3  Fold 4  Fold 5  Mean    Std     \n",
      "RMSE (testset)    1.3620  1.3590  1.3630  1.3586  1.3600  1.3605  0.0017  \n",
      "MAE (testset)     1.0236  1.0218  1.0249  1.0202  1.0224  1.0226  0.0016  \n",
      "Fit time          30.83   31.05   30.42   31.61   28.49   30.48   1.07    \n",
      "Test time         21.81   20.72   22.87   19.97   18.51   20.78   1.50    \n",
      "this took 235.93 seconds to run\n"
     ]
    }
   ],
   "source": [
    "start = time.time()\n",
    "\n",
    "sim_options = {'name': 'cosine',\n",
    "               'user_based': False  # compute  similarities between items\n",
    "               }\n",
    "algo = KNNBasic(sim_options=sim_options)\n",
    "\n",
    "knnbasic_cv = cross_validate(algo, data, cv=5, n_jobs=-1, verbose=True)\n",
    "\n",
    "end = time.time()\n",
    "print('\\nthis took {:.2f} seconds to run'.format(end-start))\n",
    "notify(\"Notification\", \"Model is complete\")"
   ]
  },
  {
   "cell_type": "markdown",
   "metadata": {},
   "source": [
    "### KNNWithMeans\n",
    "\n",
    "Using an item-item similiarity measure with k between 1 and 40"
   ]
  },
  {
   "cell_type": "code",
   "execution_count": 8,
   "metadata": {},
   "outputs": [
    {
     "name": "stdout",
     "output_type": "stream",
     "text": [
      "Evaluating RMSE, MAE of algorithm KNNWithMeans on 5 split(s).\n",
      "\n",
      "                  Fold 1  Fold 2  Fold 3  Fold 4  Fold 5  Mean    Std     \n",
      "RMSE (testset)    1.2530  1.2540  1.2519  1.2546  1.2522  1.2531  0.0010  \n",
      "MAE (testset)     0.9448  0.9454  0.9445  0.9462  0.9435  0.9449  0.0009  \n",
      "Fit time          28.53   31.86   29.81   29.90   29.04   29.83   1.13    \n",
      "Test time         24.83   21.97   21.61   20.79   20.49   21.94   1.54    \n",
      "\n",
      "this took 230.03 seconds to run\n"
     ]
    },
    {
     "ename": "NameError",
     "evalue": "name 'notify' is not defined",
     "output_type": "error",
     "traceback": [
      "\u001b[0;31m---------------------------------------------------------------------------\u001b[0m",
      "\u001b[0;31mNameError\u001b[0m                                 Traceback (most recent call last)",
      "\u001b[0;32m<ipython-input-8-8d087fdf2c7f>\u001b[0m in \u001b[0;36m<module>\u001b[0;34m\u001b[0m\n\u001b[1;32m     10\u001b[0m \u001b[0mend\u001b[0m \u001b[0;34m=\u001b[0m \u001b[0mtime\u001b[0m\u001b[0;34m.\u001b[0m\u001b[0mtime\u001b[0m\u001b[0;34m(\u001b[0m\u001b[0;34m)\u001b[0m\u001b[0;34m\u001b[0m\u001b[0;34m\u001b[0m\u001b[0m\n\u001b[1;32m     11\u001b[0m \u001b[0mprint\u001b[0m\u001b[0;34m(\u001b[0m\u001b[0;34m'\\nthis took {:.2f} seconds to run'\u001b[0m\u001b[0;34m.\u001b[0m\u001b[0mformat\u001b[0m\u001b[0;34m(\u001b[0m\u001b[0mend\u001b[0m\u001b[0;34m-\u001b[0m\u001b[0mstart\u001b[0m\u001b[0;34m)\u001b[0m\u001b[0;34m)\u001b[0m\u001b[0;34m\u001b[0m\u001b[0;34m\u001b[0m\u001b[0m\n\u001b[0;32m---> 12\u001b[0;31m \u001b[0mnotify\u001b[0m\u001b[0;34m(\u001b[0m\u001b[0mtitle\u001b[0m \u001b[0;34m=\u001b[0m \u001b[0;34m'Model Complete'\u001b[0m\u001b[0;34m)\u001b[0m\u001b[0;34m\u001b[0m\u001b[0;34m\u001b[0m\u001b[0m\n\u001b[0m",
      "\u001b[0;31mNameError\u001b[0m: name 'notify' is not defined"
     ]
    }
   ],
   "source": [
    "start = time.time()\n",
    "\n",
    "sim_options = {'name': 'cosine',\n",
    "               'user_based': False  # compute  similarities between items\n",
    "               }\n",
    "algo = KNNWithMeans(sim_options=sim_options)\n",
    "\n",
    "knnmeans_cv = cross_validate(algo, data, cv=5, n_jobs=-1, verbose=True)\n",
    "\n",
    "end = time.time()\n",
    "print('\\nthis took {:.2f} seconds to run'.format(end-start))\n",
    "notify(\"Notification\", \"Model is complete\")"
   ]
  },
  {
   "cell_type": "markdown",
   "metadata": {},
   "source": [
    "### KNNWithZScore"
   ]
  },
  {
   "cell_type": "code",
   "execution_count": 11,
   "metadata": {},
   "outputs": [
    {
     "name": "stdout",
     "output_type": "stream",
     "text": [
      "Evaluating RMSE, MAE of algorithm KNNWithZScore on 5 split(s).\n",
      "\n",
      "                  Fold 1  Fold 2  Fold 3  Fold 4  Fold 5  Mean    Std     \n",
      "RMSE (testset)    1.2524  1.2543  1.2562  1.2551  1.2549  1.2546  0.0012  \n",
      "MAE (testset)     0.9397  0.9414  0.9441  0.9418  0.9417  0.9417  0.0014  \n",
      "Fit time          32.71   37.81   36.07   34.22   31.72   34.50   2.21    \n",
      "Test time         30.26   27.80   26.57   24.80   23.21   26.53   2.43    \n",
      "\n",
      "this took 255.27 seconds to run\n"
     ]
    },
    {
     "ename": "TypeError",
     "evalue": "notify() missing 2 required positional arguments: 'subtitle' and 'message'",
     "output_type": "error",
     "traceback": [
      "\u001b[0;31m---------------------------------------------------------------------------\u001b[0m",
      "\u001b[0;31mTypeError\u001b[0m                                 Traceback (most recent call last)",
      "\u001b[0;32m<ipython-input-11-53fd8f24f981>\u001b[0m in \u001b[0;36m<module>\u001b[0;34m\u001b[0m\n\u001b[1;32m     10\u001b[0m \u001b[0mend\u001b[0m \u001b[0;34m=\u001b[0m \u001b[0mtime\u001b[0m\u001b[0;34m.\u001b[0m\u001b[0mtime\u001b[0m\u001b[0;34m(\u001b[0m\u001b[0;34m)\u001b[0m\u001b[0;34m\u001b[0m\u001b[0;34m\u001b[0m\u001b[0m\n\u001b[1;32m     11\u001b[0m \u001b[0mprint\u001b[0m\u001b[0;34m(\u001b[0m\u001b[0;34m'\\nthis took {:.2f} seconds to run'\u001b[0m\u001b[0;34m.\u001b[0m\u001b[0mformat\u001b[0m\u001b[0;34m(\u001b[0m\u001b[0mend\u001b[0m\u001b[0;34m-\u001b[0m\u001b[0mstart\u001b[0m\u001b[0;34m)\u001b[0m\u001b[0;34m)\u001b[0m\u001b[0;34m\u001b[0m\u001b[0;34m\u001b[0m\u001b[0m\n\u001b[0;32m---> 12\u001b[0;31m \u001b[0mnotify\u001b[0m\u001b[0;34m(\u001b[0m\u001b[0mtitle\u001b[0m \u001b[0;34m=\u001b[0m \u001b[0;34m'Model Complete'\u001b[0m\u001b[0;34m)\u001b[0m\u001b[0;34m\u001b[0m\u001b[0;34m\u001b[0m\u001b[0m\n\u001b[0m",
      "\u001b[0;31mTypeError\u001b[0m: notify() missing 2 required positional arguments: 'subtitle' and 'message'"
     ]
    }
   ],
   "source": [
    "start = time.time()\n",
    "\n",
    "sim_options = {'name': 'cosine',\n",
    "               'user_based': False  # compute  similarities between items\n",
    "               }\n",
    "algo = KNNWithZScore(sim_options=sim_options)\n",
    "\n",
    "knnz_cv = cross_validate(algo, data, cv=5, n_jobs=-1, verbose=True)\n",
    "\n",
    "end = time.time()\n",
    "print('\\nthis took {:.2f} seconds to run'.format(end-start))\n",
    "notify(\"Notification\", \"Model is complete\")"
   ]
  },
  {
   "cell_type": "markdown",
   "metadata": {},
   "source": [
    "### Matrix Factorization Based Algorithms"
   ]
  },
  {
   "cell_type": "code",
   "execution_count": 13,
   "metadata": {},
   "outputs": [
    {
     "name": "stdout",
     "output_type": "stream",
     "text": [
      "Evaluating RMSE, MAE of algorithm SVD on 5 split(s).\n",
      "\n",
      "                  Fold 1  Fold 2  Fold 3  Fold 4  Fold 5  Mean    Std     \n",
      "RMSE (testset)    1.1934  1.1932  1.1936  1.1928  1.1940  1.1934  0.0004  \n",
      "MAE (testset)     0.9465  0.9464  0.9477  0.9469  0.9473  0.9470  0.0005  \n",
      "Fit time          110.08  114.72  112.34  105.94  101.61  108.94  4.67    \n",
      "Test time         5.15    4.39    3.91    3.82    3.75    4.21    0.52    \n",
      "\n",
      "this took 309.10 seconds to run\n"
     ]
    },
    {
     "ename": "TypeError",
     "evalue": "notify() missing 2 required positional arguments: 'subtitle' and 'message'",
     "output_type": "error",
     "traceback": [
      "\u001b[0;31m---------------------------------------------------------------------------\u001b[0m",
      "\u001b[0;31mTypeError\u001b[0m                                 Traceback (most recent call last)",
      "\u001b[0;32m<ipython-input-13-8b794633d7eb>\u001b[0m in \u001b[0;36m<module>\u001b[0;34m\u001b[0m\n\u001b[1;32m      5\u001b[0m \u001b[0mend\u001b[0m \u001b[0;34m=\u001b[0m \u001b[0mtime\u001b[0m\u001b[0;34m.\u001b[0m\u001b[0mtime\u001b[0m\u001b[0;34m(\u001b[0m\u001b[0;34m)\u001b[0m\u001b[0;34m\u001b[0m\u001b[0;34m\u001b[0m\u001b[0m\n\u001b[1;32m      6\u001b[0m \u001b[0mprint\u001b[0m\u001b[0;34m(\u001b[0m\u001b[0;34m'\\nthis took {:.2f} seconds to run'\u001b[0m\u001b[0;34m.\u001b[0m\u001b[0mformat\u001b[0m\u001b[0;34m(\u001b[0m\u001b[0mend\u001b[0m\u001b[0;34m-\u001b[0m\u001b[0mstart\u001b[0m\u001b[0;34m)\u001b[0m\u001b[0;34m)\u001b[0m\u001b[0;34m\u001b[0m\u001b[0;34m\u001b[0m\u001b[0m\n\u001b[0;32m----> 7\u001b[0;31m \u001b[0mnotify\u001b[0m\u001b[0;34m(\u001b[0m\u001b[0mtitle\u001b[0m \u001b[0;34m=\u001b[0m \u001b[0;34m'Model Complete'\u001b[0m\u001b[0;34m)\u001b[0m\u001b[0;34m\u001b[0m\u001b[0;34m\u001b[0m\u001b[0m\n\u001b[0m",
      "\u001b[0;31mTypeError\u001b[0m: notify() missing 2 required positional arguments: 'subtitle' and 'message'"
     ]
    }
   ],
   "source": [
    "start = time.time()\n",
    "\n",
    "svd_cv = cross_validate(SVD(), data, cv=5, n_jobs=-1, verbose=True)\n",
    "\n",
    "end = time.time()\n",
    "print('\\nthis took {:.2f} seconds to run'.format(end-start))\n",
    "notify(\"Notification\", \"Model is complete\")"
   ]
  },
  {
   "cell_type": "code",
   "execution_count": 22,
   "metadata": {},
   "outputs": [
    {
     "name": "stdout",
     "output_type": "stream",
     "text": [
      "Evaluating RMSE, MAE of algorithm SVDpp on 5 split(s).\n",
      "\n",
      "                  Fold 1  Fold 2  Fold 3  Fold 4  Fold 5  Mean    Std     \n",
      "RMSE (testset)    1.1993  1.1993  1.1989  1.2015  1.1970  1.1992  0.0014  \n",
      "MAE (testset)     0.9461  0.9471  0.9464  0.9475  0.9454  0.9465  0.0007  \n",
      "Fit time          1414.89 1418.26 1417.86 1434.24 1408.60 1418.77 8.47    \n",
      "Test time         31.60   31.58   21.10   19.11   19.95   24.67   5.69    \n",
      "\n",
      "this took 1637.75 seconds to run\n"
     ]
    }
   ],
   "source": [
    "start = time.time()\n",
    "\n",
    "svdpp_cv = cross_validate(SVDpp(), data, cv=5, n_jobs=-1, verbose=True)\n",
    "\n",
    "end = time.time()\n",
    "print('\\nthis took {:.2f} seconds to run'.format(end-start))\n",
    "notify(\"Notification\", \"Model is complete\")"
   ]
  },
  {
   "cell_type": "code",
   "execution_count": 23,
   "metadata": {},
   "outputs": [
    {
     "name": "stdout",
     "output_type": "stream",
     "text": [
      "Evaluating RMSE, MAE of algorithm NMF on 5 split(s).\n",
      "\n",
      "                  Fold 1  Fold 2  Fold 3  Fold 4  Fold 5  Mean    Std     \n",
      "RMSE (testset)    1.3246  1.3255  1.3246  1.3258  1.3243  1.3250  0.0006  \n",
      "MAE (testset)     1.0165  1.0177  1.0169  1.0184  1.0172  1.0173  0.0007  \n",
      "Fit time          119.38  124.66  126.34  121.72  108.79  120.18  6.18    \n",
      "Test time         4.10    3.58    3.24    3.13    3.11    3.43    0.38    \n",
      "\n",
      "this took 297.22 seconds to run\n"
     ]
    }
   ],
   "source": [
    "start = time.time()\n",
    "\n",
    "nmf_cv = cross_validate(NMF(), data, cv=5, n_jobs=-1, verbose=True)\n",
    "\n",
    "end = time.time()\n",
    "print('\\nthis took {:.2f} seconds to run'.format(end-start))\n",
    "notify(\"Notification\", \"Model is complete\")"
   ]
  },
  {
   "cell_type": "markdown",
   "metadata": {},
   "source": [
    "### Other Collaborative Filtering Algorithms"
   ]
  },
  {
   "cell_type": "code",
   "execution_count": 25,
   "metadata": {},
   "outputs": [
    {
     "name": "stdout",
     "output_type": "stream",
     "text": [
      "Evaluating RMSE, MAE of algorithm SlopeOne on 5 split(s).\n",
      "\n",
      "                  Fold 1  Fold 2  Fold 3  Fold 4  Fold 5  Mean    Std     \n",
      "RMSE (testset)    1.3077  1.3083  1.3050  1.3073  1.3042  1.3065  0.0016  \n",
      "MAE (testset)     0.9811  0.9808  0.9797  0.9803  0.9792  0.9802  0.0007  \n",
      "Fit time          14.29   14.33   14.50   19.49   15.18   15.56   1.99    \n",
      "Test time         14.42   14.24   15.73   16.36   16.99   15.55   1.07    \n",
      "\n",
      "this took 223.36 seconds to run\n"
     ]
    }
   ],
   "source": [
    "start = time.time()\n",
    "\n",
    "slope_cv = cross_validate(SlopeOne(), data, cv=5, n_jobs=-1, verbose=True)\n",
    "\n",
    "end = time.time()\n",
    "print('\\nthis took {:.2f} seconds to run'.format(end-start))\n",
    "notify(\"Notification\", \"Model is complete\")"
   ]
  },
  {
   "cell_type": "code",
   "execution_count": 26,
   "metadata": {},
   "outputs": [
    {
     "name": "stdout",
     "output_type": "stream",
     "text": [
      "Evaluating RMSE, MAE of algorithm CoClustering on 5 split(s).\n",
      "\n",
      "                  Fold 1  Fold 2  Fold 3  Fold 4  Fold 5  Mean    Std     \n",
      "RMSE (testset)    1.2726  1.2766  1.2751  1.2793  1.2711  1.2749  0.0029  \n",
      "MAE (testset)     0.9500  0.9534  0.9528  0.9556  0.9505  0.9525  0.0020  \n",
      "Fit time          36.92   35.66   38.36   35.02   32.95   35.78   1.82    \n",
      "Test time         3.52    3.17    3.42    3.09    3.17    3.27    0.17    \n",
      "\n",
      "this took 231.57 seconds to run\n"
     ]
    }
   ],
   "source": [
    "start = time.time()\n",
    "\n",
    "coclus_cv = cross_validate(CoClustering(), data, cv=5, n_jobs=-1, verbose=True)\n",
    "\n",
    "end = time.time()\n",
    "print('\\nthis took {:.2f} seconds to run'.format(end-start))\n",
    "notify(\"Notification\", \"Model is complete\")"
   ]
  },
  {
   "cell_type": "markdown",
   "metadata": {},
   "source": [
    "## Comparison of all algorithms on RMSE and MAE"
   ]
  },
  {
   "cell_type": "markdown",
   "metadata": {},
   "source": [
    "#### Saving RMSE and MAE scores"
   ]
  },
  {
   "cell_type": "code",
   "execution_count": 61,
   "metadata": {},
   "outputs": [],
   "source": [
    "save_scores = [knnbasic_cv, knnmeans_cv, knnz_cv, svd_cv, svdpp_cv, nmf_cv, slope_cv, coclus_cv]\n",
    "outfile = '../data/RMSE_MAE_scores.png'\n",
    "\n",
    "with open('outfile', 'wb') as fp:\n",
    "    pickle.dump(save_scores, fp)"
   ]
  },
  {
   "cell_type": "markdown",
   "metadata": {},
   "source": [
    "#### Reading back RMSE and MAE scores"
   ]
  },
  {
   "cell_type": "code",
   "execution_count": null,
   "metadata": {},
   "outputs": [],
   "source": [
    "outfile = '../data/RMSE_MAE_scores.png'\n",
    "\n",
    "with open ('outfile', 'rb') as fp:\n",
    "    save_scores = pickle.load(fp)"
   ]
  },
  {
   "cell_type": "markdown",
   "metadata": {},
   "source": [
    "#### Show results"
   ]
  },
  {
   "cell_type": "code",
   "execution_count": 182,
   "metadata": {},
   "outputs": [
    {
     "name": "stdout",
     "output_type": "stream",
     "text": [
      "Algorithm\t RMSE\t\t MAE\n",
      "-------------- \t ------ \t ------\n",
      "ALS with Means \t 1.3274 \t 1.1416\n",
      "\n",
      "KNN Basic \t 1.3605 \t 1.0226\n",
      "KNN Means \t 1.2531 \t 0.9449\n",
      "KNN ZScore \t 1.2546 \t 0.9417\n",
      "\n",
      "SVD \t\t 1.1934 \t 0.947\n",
      "SVDpp \t\t 1.1992 \t 0.9465\n",
      "NMF \t\t 1.325 \t\t 1.0173\n",
      "\n",
      "SlopeOne \t 1.3065 \t 0.9802\n",
      "CoClustering \t 1.2749 \t 0.9525\n"
     ]
    }
   ],
   "source": [
    "print('Algorithm\\t RMSE\\t\\t MAE')\n",
    "print('--------------', '\\t', '------', '\\t', '------')\n",
    "print('ALS with Means', '\\t', round(rmse, 4), '\\t', round(mae, 4))\n",
    "print()\n",
    "print('KNN Basic', '\\t', round(knnbasic_cv['test_rmse'].mean(), 4), '\\t', round(knnbasic_cv['test_mae'].mean(), 4))\n",
    "print('KNN Means', '\\t', round(knnmeans_cv['test_rmse'].mean(), 4), '\\t', round(knnmeans_cv['test_mae'].mean(), 4))\n",
    "print('KNN ZScore', '\\t', round(knnz_cv['test_rmse'].mean(), 4), '\\t', round(knnz_cv['test_mae'].mean(), 4))\n",
    "print()\n",
    "print('SVD', '\\t\\t', round(svd_cv['test_rmse'].mean(), 4), '\\t', round(svd_cv['test_mae'].mean(), 4))\n",
    "print('SVDpp', '\\t\\t', round(svdpp_cv['test_rmse'].mean(), 4), '\\t', round(svdpp_cv['test_mae'].mean(), 4))\n",
    "print('NMF', '\\t\\t', round(nmf_cv['test_rmse'].mean(), 4), '\\t\\t', round(nmf_cv['test_mae'].mean(), 4))\n",
    "print()\n",
    "print('SlopeOne', '\\t', round(slope_cv['test_rmse'].mean(), 4), '\\t', round(slope_cv['test_mae'].mean(), 4))\n",
    "print('CoClustering', '\\t', round(coclus_cv['test_rmse'].mean(), 4), '\\t', round(coclus_cv['test_mae'].mean(), 4))"
   ]
  },
  {
   "cell_type": "code",
   "execution_count": 244,
   "metadata": {},
   "outputs": [
    {
     "ename": "AttributeError",
     "evalue": "'list' object has no attribute 'div'",
     "output_type": "error",
     "traceback": [
      "\u001b[0;31m---------------------------------------------------------------------------\u001b[0m",
      "\u001b[0;31mAttributeError\u001b[0m                            Traceback (most recent call last)",
      "\u001b[0;32m<ipython-input-244-cd56e720c14a>\u001b[0m in \u001b[0;36m<module>\u001b[0;34m\u001b[0m\n\u001b[1;32m      3\u001b[0m \u001b[0;34m\u001b[0m\u001b[0m\n\u001b[1;32m      4\u001b[0m \u001b[0;31m# Change this line to plot percentages instead of absolute values\u001b[0m\u001b[0;34m\u001b[0m\u001b[0;34m\u001b[0m\u001b[0;34m\u001b[0m\u001b[0m\n\u001b[0;32m----> 5\u001b[0;31m \u001b[0max\u001b[0m \u001b[0;34m=\u001b[0m \u001b[0;34m(\u001b[0m\u001b[0mresult\u001b[0m\u001b[0;34m.\u001b[0m\u001b[0mdiv\u001b[0m\u001b[0;34m(\u001b[0m\u001b[0mresult\u001b[0m\u001b[0;34m.\u001b[0m\u001b[0msum\u001b[0m\u001b[0;34m(\u001b[0m\u001b[0;36m1\u001b[0m\u001b[0;34m)\u001b[0m\u001b[0;34m,\u001b[0m \u001b[0maxis\u001b[0m\u001b[0;34m=\u001b[0m\u001b[0;36m0\u001b[0m\u001b[0;34m)\u001b[0m\u001b[0;34m)\u001b[0m\u001b[0;34m.\u001b[0m\u001b[0mplot\u001b[0m\u001b[0;34m(\u001b[0m\u001b[0mkind\u001b[0m\u001b[0;34m=\u001b[0m\u001b[0;34m'bar'\u001b[0m\u001b[0;34m,\u001b[0m\u001b[0mfigsize\u001b[0m\u001b[0;34m=\u001b[0m\u001b[0;34m(\u001b[0m\u001b[0;36m15\u001b[0m\u001b[0;34m,\u001b[0m\u001b[0;36m4\u001b[0m\u001b[0;34m)\u001b[0m\u001b[0;34m,\u001b[0m\u001b[0mwidth\u001b[0m \u001b[0;34m=\u001b[0m \u001b[0;36m0.8\u001b[0m\u001b[0;34m,\u001b[0m\u001b[0mcolor\u001b[0m \u001b[0;34m=\u001b[0m \u001b[0mcolors_list\u001b[0m\u001b[0;34m,\u001b[0m\u001b[0medgecolor\u001b[0m\u001b[0;34m=\u001b[0m\u001b[0;32mNone\u001b[0m\u001b[0;34m)\u001b[0m\u001b[0;34m\u001b[0m\u001b[0;34m\u001b[0m\u001b[0m\n\u001b[0m\u001b[1;32m      6\u001b[0m \u001b[0mplt\u001b[0m\u001b[0;34m.\u001b[0m\u001b[0mlegend\u001b[0m\u001b[0;34m(\u001b[0m\u001b[0mlabels\u001b[0m\u001b[0;34m=\u001b[0m\u001b[0mresult\u001b[0m\u001b[0;34m.\u001b[0m\u001b[0mcolumns\u001b[0m\u001b[0;34m,\u001b[0m\u001b[0mfontsize\u001b[0m\u001b[0;34m=\u001b[0m \u001b[0;36m14\u001b[0m\u001b[0;34m)\u001b[0m\u001b[0;34m\u001b[0m\u001b[0;34m\u001b[0m\u001b[0m\n\u001b[1;32m      7\u001b[0m \u001b[0mplt\u001b[0m\u001b[0;34m.\u001b[0m\u001b[0mtitle\u001b[0m\u001b[0;34m(\u001b[0m\u001b[0;34m\"Percentage of Respondents' Interest in Data Science Areas\"\u001b[0m\u001b[0;34m,\u001b[0m\u001b[0mfontsize\u001b[0m\u001b[0;34m=\u001b[0m \u001b[0;36m16\u001b[0m\u001b[0;34m)\u001b[0m\u001b[0;34m\u001b[0m\u001b[0;34m\u001b[0m\u001b[0m\n",
      "\u001b[0;31mAttributeError\u001b[0m: 'list' object has no attribute 'div'"
     ]
    }
   ],
   "source": [
    "colors_list = ['#5cb85c','#5bc0de','#d9534f']\n",
    "result=rmse_cv\n",
    "\n",
    "# Change this line to plot percentages instead of absolute values\n",
    "ax = (result.div(result.sum(1), axis=0)).plot(kind='bar',figsize=(15,4),width = 0.8,color = colors_list,edgecolor=None)\n",
    "plt.legend(labels=result.columns,fontsize= 14)\n",
    "plt.title(\"Percentage of Respondents' Interest in Data Science Areas\",fontsize= 16)\n",
    "\n",
    "plt.xticks(fontsize=14)\n",
    "for spine in plt.gca().spines.values():\n",
    "    spine.set_visible(False)\n",
    "plt.yticks([])\n",
    "\n",
    "# Add this loop to add the annotations\n",
    "for p in ax.patches:\n",
    "    width, height = p.get_width(), p.get_height()\n",
    "    x, y = p.get_xy() \n",
    "    ax.annotate('{:.0%}'.format(height), (x, y + height + 0.01))\n"
   ]
  },
  {
   "cell_type": "code",
   "execution_count": 246,
   "metadata": {},
   "outputs": [
    {
     "data": {
      "image/png": "[encoded data removed]",
      "text/plain": [
       "<Figure size 864x720 with 2 Axes>"
      ]
     },
     "metadata": {},
     "output_type": "display_data"
    }
   ],
   "source": [
    "x_algo = ['KNN Basic', 'KNN Means', 'KNN ZScore', 'SVD', 'SVDpp', 'NMF', 'SlopeOne', 'CoClustering']\n",
    "all_algos_cv = [knnbasic_cv, knnmeans_cv, knnz_cv, svd_cv, svdpp_cv, nmf_cv, slope_cv, coclus_cv]\n",
    "\n",
    "rmse_cv = [round(res['test_rmse'].mean(), 4) for res in all_algos_cv]\n",
    "mae_cv = [round(res['test_mae'].mean(), 4) for res in all_algos_cv]\n",
    "\n",
    "# manually adding base score data\n",
    "x_algo = ['Base [ALS-Means]']+x_algo\n",
    "rmse_cv = [1.3274]+rmse_cv\n",
    "mae_cv = [1.1416]+mae_cv\n",
    "\n",
    "fig, ax = plt.subplots(2,1, figsize=(12,10))\n",
    "ax[0].set_title('Comparison of Algorithms RMSE & MAE', loc='center', fontsize=15)\n",
    "ax[0].bar(x_algo, rmse_cv, label='RMSE', color='darkgreen')\n",
    "ax[0].set_ylim(bottom=1.0, top=max(rmse_cv))  \n",
    "# ax[0].set_xlabel('Algorithms', fontsize=15)\n",
    "ax[0].set_ylabel('RMSE Value', fontsize=15)\n",
    "ax[0].legend()\n",
    "ax[0].grid(ls='dashed')\n",
    "\n",
    "# ax[1].set_title('Comparison of Algorithms on MAE', loc='center', fontsize=15)\n",
    "ax[1].bar(x_algo, mae_cv, label='MAE', color='navy')\n",
    "ax[1].set_ylim(bottom=0.8, top=max(mae_cv))  \n",
    "ax[1].set_xlabel('Algorithms', fontsize=15)\n",
    "ax[1].set_ylabel('MAE Value', fontsize=15)\n",
    "ax[1].legend()\n",
    "ax[1].grid(ls='dashed')\n",
    "\n",
    "plt.tight_layout()\n",
    "plt.savefig('../img/rmse_mae_chart.png', dpi=300, transparency=True)\n",
    "plt.show();"
   ]
  },
  {
   "cell_type": "code",
   "execution_count": 197,
   "metadata": {},
   "outputs": [
    {
     "data": {
      "image/png": "[encoded data removed]",
      "text/plain": [
       "<Figure size 720x432 with 2 Axes>"
      ]
     },
     "metadata": {},
     "output_type": "display_data"
    }
   ],
   "source": [
    "x_algo = ['KNN Basic', 'KNN Means', 'KNN ZScore', 'SVD', 'SVDpp', 'NMF', 'SlopeOne', 'CoClustering']\n",
    "all_algos_cv = [knnbasic_cv, knnmeans_cv, knnz_cv, svd_cv, svdpp_cv, nmf_cv, slope_cv, coclus_cv]\n",
    "\n",
    "rmse_cv = [round(res['test_rmse'].mean(), 4) for res in all_algos_cv]\n",
    "mae_cv = [round(res['test_mae'].mean(), 4) for res in all_algos_cv]\n",
    "\n",
    "fig, ax = plt.subplots(2,1, figsize=(10,6))\n",
    "ax[0].set_title('Comparison of Algorithms RMSE & MAE', loc='center', fontsize=15)\n",
    "ax[0].scatter(x_algo, rmse_cv, label='RMSE', color='darkgreen', marker='o')\n",
    "# ax[0].set_xlabel('Algorithms', fontsize=15)\n",
    "ax[0].set_ylabel('RMSE Value', fontsize=15)\n",
    "ax[0].legend()\n",
    "ax[0].grid(ls='dashed')\n",
    "\n",
    "# ax[1].set_title('Comparison of Algorithms on MAE', loc='center', fontsize=15)\n",
    "ax[1].plot(x_algo, mae_cv, label='MAE', color='navy', marker='o')\n",
    "ax[1].set_xlabel('Algorithms', fontsize=15)\n",
    "ax[1].set_ylabel('MAE Value', fontsize=15)\n",
    "ax[1].legend()\n",
    "ax[1].grid(ls='dashed')\n",
    "\n",
    "plt.tight_layout()\n",
    "plt.savefig('../img/rmse_mae_chart.png', dpi=300, transparency=True)\n",
    "plt.show();"
   ]
  },
  {
   "cell_type": "markdown",
   "metadata": {},
   "source": [
    "## Evaluation Results\n",
    "\n",
    "<b>Best RMSE</b>: SVD\n",
    "<br>\n",
    "<b>Best MAE</b>: KNN ZScore\n",
    "\n",
    "<font color='green'><h2>Winner SVD!! </h2></font>\n",
    "\n",
    "However SVD and SVDpp both give good results, let's tune the hyperparameters to find the best RMSE score"
   ]
  },
  {
   "cell_type": "markdown",
   "metadata": {},
   "source": [
    "## Tune hyperparameters using GridSearchCV"
   ]
  },
  {
   "cell_type": "code",
   "execution_count": 78,
   "metadata": {},
   "outputs": [
    {
     "name": "stderr",
     "output_type": "stream",
     "text": [
      "[Parallel(n_jobs=-1)]: Using backend LokyBackend with 8 concurrent workers.\n",
      "[Parallel(n_jobs=-1)]: Done  25 tasks      | elapsed: 12.5min\n"
     ]
    },
    {
     "name": "stdout",
     "output_type": "stream",
     "text": [
      "svdpp_gs took 2920.02 seconds\n"
     ]
    },
    {
     "name": "stderr",
     "output_type": "stream",
     "text": [
      "[Parallel(n_jobs=-1)]: Done  60 out of  60 | elapsed: 48.3min finished\n"
     ]
    }
   ],
   "source": [
    "svd_param_grid = {'n_epochs': [5, 10], \n",
    "                  'lr_all': [0.007, 0.009, 0.01],\n",
    "                  'reg_all': [0.2, 0.5]}\n",
    "\n",
    "start = time.time()\n",
    "\n",
    "svdpp_gs = GridSearchCV(SVD, svd_param_grid, measures=['rmse', 'mae'], cv=5, n_jobs=-1, joblib_verbose=2)\n",
    "svdpp_gs.fit(data)\n",
    "\n",
    "end = time.time()\n",
    "print('svdpp_gs took {:.2f} seconds'.format(end-start))\n",
    "notify(\"Notification\", \"Model is complete\")"
   ]
  },
  {
   "cell_type": "code",
   "execution_count": 79,
   "metadata": {},
   "outputs": [
    {
     "name": "stdout",
     "output_type": "stream",
     "text": [
      "SVDpp - RMSE: 1.1775 - MAE: 0.9439\n"
     ]
    }
   ],
   "source": [
    "print('SVDpp - RMSE:', round(svdpp_gs.best_score['rmse'], 4), '- MAE:', round(svdpp_gs.best_score['mae'], 4))"
   ]
  },
  {
   "cell_type": "code",
   "execution_count": 80,
   "metadata": {},
   "outputs": [
    {
     "name": "stderr",
     "output_type": "stream",
     "text": [
      "[Parallel(n_jobs=-1)]: Using backend LokyBackend with 8 concurrent workers.\n",
      "[Parallel(n_jobs=-1)]: Done  25 tasks      | elapsed: 12.5min\n"
     ]
    },
    {
     "name": "stdout",
     "output_type": "stream",
     "text": [
      "svd_gs took 1830.10 seconds\n"
     ]
    },
    {
     "name": "stderr",
     "output_type": "stream",
     "text": [
      "[Parallel(n_jobs=-1)]: Done  60 out of  60 | elapsed: 30.1min finished\n"
     ]
    }
   ],
   "source": [
    "svd_param_grid = {'n_epochs': [5, 10], \n",
    "                  'lr_all': [0.007, 0.009, 0.01],\n",
    "                  'reg_all': [0.2, 0.5]}\n",
    "\n",
    "start = time.time()\n",
    "\n",
    "svd_gs = GridSearchCV(SVD, svd_param_grid, measures=['rmse', 'mae'], cv=5, n_jobs=-1, joblib_verbose=2)\n",
    "svd_gs.fit(data)\n",
    "\n",
    "end = time.time()\n",
    "print('svd_gs took {:.2f} seconds'.format(end-start))\n",
    "notify(\"Notification\", \"Model is complete\")"
   ]
  },
  {
   "cell_type": "code",
   "execution_count": 81,
   "metadata": {},
   "outputs": [
    {
     "name": "stdout",
     "output_type": "stream",
     "text": [
      "SVD   - RMSE: 1.1776 - MAE: 0.944\n"
     ]
    }
   ],
   "source": [
    "print('SVD   - RMSE:', round(svd_gs.best_score['rmse'], 4), '- MAE:', round(svd_gs.best_score['mae'], 4))"
   ]
  },
  {
   "cell_type": "code",
   "execution_count": 117,
   "metadata": {},
   "outputs": [],
   "source": [
    "x = svdpp_gs.cv_results['params']\n",
    "y1 = svdpp_gs.cv_results['mean_test_rmse']\n",
    "y2 = svdpp_gs.cv_results['mean_test_mae']\n",
    "\n",
    "y3 = svd_gs.cv_results['mean_test_rmse']\n",
    "y4 = svd_gs.cv_results['mean_test_mae']"
   ]
  },
  {
   "cell_type": "code",
   "execution_count": 128,
   "metadata": {},
   "outputs": [
    {
     "data": {
      "text/plain": [
       "[\"{'n_epochs': 5, 'lr_all': 0.007, 'reg_all': 0.2}\",\n",
       " \"{'n_epochs': 5, 'lr_all': 0.007, 'reg_all': 0.5}\",\n",
       " \"{'n_epochs': 5, 'lr_all': 0.009, 'reg_all': 0.2}\",\n",
       " \"{'n_epochs': 5, 'lr_all': 0.009, 'reg_all': 0.5}\",\n",
       " \"{'n_epochs': 5, 'lr_all': 0.01, 'reg_all': 0.2}\",\n",
       " \"{'n_epochs': 5, 'lr_all': 0.01, 'reg_all': 0.5}\",\n",
       " \"{'n_epochs': 10, 'lr_all': 0.007, 'reg_all': 0.2}\",\n",
       " \"{'n_epochs': 10, 'lr_all': 0.007, 'reg_all': 0.5}\",\n",
       " \"{'n_epochs': 10, 'lr_all': 0.009, 'reg_all': 0.2}\",\n",
       " \"{'n_epochs': 10, 'lr_all': 0.009, 'reg_all': 0.5}\",\n",
       " \"{'n_epochs': 10, 'lr_all': 0.01, 'reg_all': 0.2}\",\n",
       " \"{'n_epochs': 10, 'lr_all': 0.01, 'reg_all': 0.5}\"]"
      ]
     },
     "execution_count": 128,
     "metadata": {},
     "output_type": "execute_result"
    }
   ],
   "source": [
    "x = [str(x1) for x1 in x]"
   ]
  },
  {
   "cell_type": "code",
   "execution_count": 186,
   "metadata": {},
   "outputs": [
    {
     "data": {
      "image/png": "[encoded data removed]",
      "text/plain": [
       "<Figure size 720x432 with 2 Axes>"
      ]
     },
     "metadata": {},
     "output_type": "display_data"
    }
   ],
   "source": [
    "fig, ax = plt.subplots(2,1, figsize=(10,6))\n",
    "ax[0].set_title('SVDpp on scores', loc='center', fontsize=15)\n",
    "ax[0].plot([str(x1) for x1 in x], y1, label='RMSE', color='darkgreen', marker='o')\n",
    "ax[0].set_xticklabels(['','','','','',''])\n",
    "# ax[0].barh([str(x1) for x1 in x], y1)\n",
    "# ax[0].set_xlabel('Algorithms', fontsize=15)\n",
    "ax[0].set_ylabel('RMSE Value', fontsize=15)\n",
    "ax[0].legend()\n",
    "ax[0].grid(ls='dashed')\n",
    "\n",
    "# ax[1].set_title('SVDpp on MAE', loc='center', fontsize=15)\n",
    "ax[1].plot([str(x1) for x1 in x], y2, label='MAE', color='navy', marker='o')\n",
    "ax[1].set_xticklabels([str(x1) for x1 in x], rotation=90)\n",
    "ax[1].set_xlabel('Algorithms', fontsize=15)\n",
    "ax[1].set_ylabel('MAE Value', fontsize=15)\n",
    "ax[1].legend()\n",
    "ax[1].grid(ls='dashed')\n",
    "\n",
    "plt.savefig('../img/SVDpp_scores.png', dpi=300, transparency=True)\n",
    "plt.show();\n"
   ]
  },
  {
   "cell_type": "code",
   "execution_count": 187,
   "metadata": {},
   "outputs": [
    {
     "data": {
      "image/png": "[encoded data removed]",
      "text/plain": [
       "<Figure size 720x432 with 2 Axes>"
      ]
     },
     "metadata": {},
     "output_type": "display_data"
    }
   ],
   "source": [
    "fig, ax = plt.subplots(2,1, figsize=(10,6))\n",
    "ax[0].set_title('SVD on scores', loc='center', fontsize=15)\n",
    "ax[0].plot([str(x1) for x1 in x], y3, label='RMSE', color='darkgreen', marker='o')\n",
    "ax[0].set_xticklabels(['','','','','',''])\n",
    "# ax[0].barh([str(x1) for x1 in x], y1)\n",
    "# ax[0].set_xlabel('Algorithms', fontsize=15)\n",
    "ax[0].set_ylabel('RMSE Value', fontsize=15)\n",
    "ax[0].legend()\n",
    "ax[0].grid(ls='dashed')\n",
    "\n",
    "# ax[1].set_title('SVDpp on MAE', loc='center', fontsize=15)\n",
    "ax[1].plot([str(x1) for x1 in x], y4, label='MAE', color='navy', marker='o')\n",
    "ax[1].set_xticklabels([str(x1) for x1 in x], rotation=90)\n",
    "ax[1].set_xlabel('Algorithms', fontsize=15)\n",
    "ax[1].set_ylabel('MAE Value', fontsize=15)\n",
    "ax[1].legend()\n",
    "ax[1].grid(ls='dashed')\n",
    "\n",
    "plt.savefig('../img/SVD_scores.png', dpi=300, transparency=True)\n",
    "plt.show();"
   ]
  },
  {
   "cell_type": "markdown",
   "metadata": {},
   "source": [
    "## Best model = SVD++\n",
    "* SVD++ (SVDpp) was marginally better than SVD in terms of RSME score (1.1775 vs 1.1776)\n",
    "* SVD++ also took 50% longer to compute over SVD (45min vs 30min)\n",
    "* SVD++ was also the best model from the <a href='http://buzzard.ups.edu/courses/2014spring/420projects/math420-UPS-spring-2014-gower-netflix-SVD.pdf'>$1M netflix competition</a> so it makes sense that it would work well in general\n",
    "\n",
    "#### Final Hyperparameters\n",
    "* epoch 10\n",
    "* learning rate 0.01\n",
    "* reg_all: 0.2"
   ]
  },
  {
   "cell_type": "markdown",
   "metadata": {},
   "source": [
    "## Make Predictions using SVD++"
   ]
  },
  {
   "cell_type": "code",
   "execution_count": 210,
   "metadata": {},
   "outputs": [],
   "source": [
    "trainset, testset = train_test_split(data, test_size=.25, random_state=0)"
   ]
  },
  {
   "cell_type": "code",
   "execution_count": 213,
   "metadata": {},
   "outputs": [
    {
     "name": "stdout",
     "output_type": "stream",
     "text": [
      " processing epoch 0\n",
      " processing epoch 1\n",
      " processing epoch 2\n",
      " processing epoch 3\n",
      " processing epoch 4\n",
      " processing epoch 5\n",
      " processing epoch 6\n",
      " processing epoch 7\n",
      " processing epoch 8\n",
      " processing epoch 9\n"
     ]
    },
    {
     "data": {
      "text/plain": [
       "<surprise.prediction_algorithms.matrix_factorization.SVDpp at 0x1a23230ef0>"
      ]
     },
     "execution_count": 213,
     "metadata": {},
     "output_type": "execute_result"
    },
    {
     "name": "stdout",
     "output_type": "stream",
     "text": [
      "this process took 416.59 seconds\n"
     ]
    }
   ],
   "source": [
    "start = time.time()\n",
    "\n",
    "algo=SVDpp(n_epochs=10, lr_all=0.01, reg_all=0.2, random_state=0, verbose=True)\n",
    "algo.fit(trainset)\n",
    "\n",
    "end = time.time()\n",
    "print('this process took {:.2f} seconds'.format(end-start))"
   ]
  },
  {
   "cell_type": "code",
   "execution_count": 214,
   "metadata": {},
   "outputs": [
    {
     "name": "stdout",
     "output_type": "stream",
     "text": [
      "RMSE: 1.1798\n"
     ]
    },
    {
     "data": {
      "text/plain": [
       "1.1798422331791565"
      ]
     },
     "execution_count": 214,
     "metadata": {},
     "output_type": "execute_result"
    }
   ],
   "source": [
    "predictions = algo.test(testset)\n",
    "accuracy.rmse(predictions)"
   ]
  },
  {
   "cell_type": "code",
   "execution_count": 219,
   "metadata": {},
   "outputs": [
    {
     "data": {
      "text/plain": [
       "Prediction(uid=0, iid=4, r_ui=None, est=3.6549299517898515, details={'was_impossible': False})"
      ]
     },
     "execution_count": 219,
     "metadata": {},
     "output_type": "execute_result"
    }
   ],
   "source": [
    "uid = 0\n",
    "iid = 4\n",
    "algo.predict(uid, iid)"
   ]
  },
  {
   "cell_type": "code",
   "execution_count": 220,
   "metadata": {},
   "outputs": [
    {
     "data": {
      "text/plain": [
       "[Prediction(uid=20662, iid=3130, r_ui=4.0, est=4.055087464396904, details={'was_impossible': False}),\n",
       " Prediction(uid=43414, iid=7985, r_ui=4.0, est=2.9781895575634163, details={'was_impossible': False}),\n",
       " Prediction(uid=174275, iid=4419, r_ui=5.0, est=3.9836664388041534, details={'was_impossible': False}),\n",
       " Prediction(uid=187680, iid=9265, r_ui=5.0, est=3.9158135809179297, details={'was_impossible': False}),\n",
       " Prediction(uid=1062, iid=9380, r_ui=4.0, est=4.294048462289611, details={'was_impossible': False}),\n",
       " Prediction(uid=9807, iid=5042, r_ui=2.0, est=3.4248082127449866, details={'was_impossible': False}),\n",
       " Prediction(uid=52831, iid=559, r_ui=1.0, est=3.778683791648992, details={'was_impossible': False}),\n",
       " Prediction(uid=1809, iid=23, r_ui=5.0, est=4.36463509056888, details={'was_impossible': False}),\n",
       " Prediction(uid=3768, iid=3371, r_ui=2.0, est=3.9126327911530803, details={'was_impossible': False}),\n",
       " Prediction(uid=2656, iid=1935, r_ui=3.0, est=2.7564351959437463, details={'was_impossible': False}),\n",
       " Prediction(uid=170833, iid=2780, r_ui=5.0, est=4.225109853964157, details={'was_impossible': False}),\n",
       " Prediction(uid=39447, iid=1922, r_ui=4.0, est=3.8352331554280776, details={'was_impossible': False}),\n",
       " Prediction(uid=55862, iid=2461, r_ui=5.0, est=3.9073904656372322, details={'was_impossible': False}),\n",
       " Prediction(uid=17074, iid=8473, r_ui=4.0, est=4.076162551975939, details={'was_impossible': False}),\n",
       " Prediction(uid=127870, iid=1988, r_ui=5.0, est=4.161120055832691, details={'was_impossible': False}),\n",
       " Prediction(uid=109179, iid=1372, r_ui=5.0, est=4.6187619870961045, details={'was_impossible': False}),\n",
       " Prediction(uid=54754, iid=1546, r_ui=3.0, est=3.566781248418632, details={'was_impossible': False}),\n",
       " Prediction(uid=33956, iid=9190, r_ui=5.0, est=4.060391896957087, details={'was_impossible': False}),\n",
       " Prediction(uid=117611, iid=5565, r_ui=5.0, est=3.933398415997967, details={'was_impossible': False}),\n",
       " Prediction(uid=31336, iid=4814, r_ui=5.0, est=4.306764837053977, details={'was_impossible': False}),\n",
       " Prediction(uid=73309, iid=3656, r_ui=3.0, est=4.313192186331708, details={'was_impossible': False}),\n",
       " Prediction(uid=72450, iid=10406, r_ui=1.0, est=3.799467061947524, details={'was_impossible': False}),\n",
       " Prediction(uid=8314, iid=540, r_ui=4.0, est=4.061454027786693, details={'was_impossible': False}),\n",
       " Prediction(uid=72380, iid=5217, r_ui=5.0, est=4.652647704874469, details={'was_impossible': False}),\n",
       " Prediction(uid=10271, iid=2627, r_ui=2.0, est=3.6179527589465006, details={'was_impossible': False}),\n",
       " Prediction(uid=103925, iid=1570, r_ui=5.0, est=4.658984317021067, details={'was_impossible': False}),\n",
       " Prediction(uid=84065, iid=7093, r_ui=4.0, est=4.327532169207425, details={'was_impossible': False}),\n",
       " Prediction(uid=3947, iid=6496, r_ui=2.0, est=3.554042263748428, details={'was_impossible': False}),\n",
       " Prediction(uid=88424, iid=4960, r_ui=3.0, est=4.353743171377303, details={'was_impossible': False}),\n",
       " Prediction(uid=5628, iid=5685, r_ui=1.0, est=3.7595808374447772, details={'was_impossible': False}),\n",
       " Prediction(uid=182304, iid=11864, r_ui=1.0, est=3.2703646589976128, details={'was_impossible': False}),\n",
       " Prediction(uid=162863, iid=1276, r_ui=4.0, est=4.147886104932728, details={'was_impossible': False}),\n",
       " Prediction(uid=71612, iid=5822, r_ui=4.0, est=4.47409065334509, details={'was_impossible': False}),\n",
       " Prediction(uid=137932, iid=1340, r_ui=4.0, est=3.481471778926017, details={'was_impossible': False}),\n",
       " Prediction(uid=149353, iid=117, r_ui=5.0, est=3.473943897390611, details={'was_impossible': False}),\n",
       " Prediction(uid=187511, iid=3064, r_ui=3.0, est=4.203991248841422, details={'was_impossible': False}),\n",
       " Prediction(uid=21169, iid=3067, r_ui=4.0, est=4.16442865012316, details={'was_impossible': False}),\n",
       " Prediction(uid=200432, iid=7163, r_ui=5.0, est=2.932855319890401, details={'was_impossible': False}),\n",
       " Prediction(uid=138066, iid=12533, r_ui=1.0, est=3.4532933910182786, details={'was_impossible': False}),\n",
       " Prediction(uid=100476, iid=3886, r_ui=4.0, est=3.8920375494181614, details={'was_impossible': False}),\n",
       " Prediction(uid=106710, iid=1563, r_ui=1.0, est=3.9453267386127897, details={'was_impossible': False}),\n",
       " Prediction(uid=35067, iid=9639, r_ui=1.0, est=3.68819654312515, details={'was_impossible': False}),\n",
       " Prediction(uid=91410, iid=6241, r_ui=5.0, est=3.7639079225502945, details={'was_impossible': False}),\n",
       " Prediction(uid=75011, iid=278, r_ui=5.0, est=3.375144362562332, details={'was_impossible': False}),\n",
       " Prediction(uid=135619, iid=87, r_ui=4.0, est=4.026015357673426, details={'was_impossible': False}),\n",
       " Prediction(uid=75517, iid=3607, r_ui=5.0, est=4.233951958549875, details={'was_impossible': False}),\n",
       " Prediction(uid=133171, iid=7153, r_ui=3.0, est=2.6113194130734034, details={'was_impossible': False}),\n",
       " Prediction(uid=2564, iid=5633, r_ui=4.0, est=4.205096337259441, details={'was_impossible': False}),\n",
       " Prediction(uid=8510, iid=3082, r_ui=5.0, est=3.928953104734039, details={'was_impossible': False}),\n",
       " Prediction(uid=110945, iid=1524, r_ui=5.0, est=4.451659257256277, details={'was_impossible': False}),\n",
       " Prediction(uid=4958, iid=12123, r_ui=5.0, est=3.6135756738385854, details={'was_impossible': False}),\n",
       " Prediction(uid=117096, iid=13960, r_ui=5.0, est=4.642205623908411, details={'was_impossible': False}),\n",
       " Prediction(uid=46778, iid=3111, r_ui=5.0, est=4.388476509740114, details={'was_impossible': False}),\n",
       " Prediction(uid=8336, iid=659, r_ui=2.0, est=3.4500950627904214, details={'was_impossible': False}),\n",
       " Prediction(uid=37970, iid=4829, r_ui=5.0, est=4.05728325783096, details={'was_impossible': False}),\n",
       " Prediction(uid=172366, iid=1043, r_ui=5.0, est=3.727205015700567, details={'was_impossible': False}),\n",
       " Prediction(uid=180929, iid=2221, r_ui=5.0, est=4.728472183674754, details={'was_impossible': False}),\n",
       " Prediction(uid=68049, iid=7653, r_ui=3.0, est=3.478182154659454, details={'was_impossible': False}),\n",
       " Prediction(uid=71712, iid=7184, r_ui=3.0, est=3.2727665790949554, details={'was_impossible': False}),\n",
       " Prediction(uid=88734, iid=2745, r_ui=4.0, est=4.088039445199781, details={'was_impossible': False}),\n",
       " Prediction(uid=25203, iid=11721, r_ui=5.0, est=3.952072218738479, details={'was_impossible': False}),\n",
       " Prediction(uid=52027, iid=9271, r_ui=5.0, est=3.686897726571193, details={'was_impossible': False}),\n",
       " Prediction(uid=167231, iid=12087, r_ui=1.0, est=2.2391784859297066, details={'was_impossible': False}),\n",
       " Prediction(uid=13311, iid=8315, r_ui=1.0, est=3.1695469278229784, details={'was_impossible': False}),\n",
       " Prediction(uid=63299, iid=1287, r_ui=5.0, est=3.854956464294343, details={'was_impossible': False}),\n",
       " Prediction(uid=129151, iid=8571, r_ui=1.0, est=4.28668950546086, details={'was_impossible': False}),\n",
       " Prediction(uid=67663, iid=9074, r_ui=5.0, est=4.514727092349033, details={'was_impossible': False}),\n",
       " Prediction(uid=75375, iid=4567, r_ui=2.0, est=2.968648622692086, details={'was_impossible': False}),\n",
       " Prediction(uid=175200, iid=10092, r_ui=5.0, est=4.495374918425676, details={'was_impossible': False}),\n",
       " Prediction(uid=3431, iid=7794, r_ui=3.0, est=4.428119310778912, details={'was_impossible': False}),\n",
       " Prediction(uid=26690, iid=5121, r_ui=3.0, est=3.030717950719695, details={'was_impossible': False}),\n",
       " Prediction(uid=6402, iid=4970, r_ui=2.0, est=4.304653213281653, details={'was_impossible': False}),\n",
       " Prediction(uid=3730, iid=7413, r_ui=3.0, est=3.3498262307424573, details={'was_impossible': False}),\n",
       " Prediction(uid=6920, iid=2644, r_ui=3.0, est=3.3430943127359325, details={'was_impossible': False}),\n",
       " Prediction(uid=885, iid=9301, r_ui=4.0, est=4.585471867792967, details={'was_impossible': False}),\n",
       " Prediction(uid=4239, iid=2262, r_ui=5.0, est=4.191900218873438, details={'was_impossible': False}),\n",
       " Prediction(uid=31622, iid=409, r_ui=3.0, est=4.384563315499478, details={'was_impossible': False}),\n",
       " Prediction(uid=42844, iid=4292, r_ui=2.0, est=3.905659178519924, details={'was_impossible': False}),\n",
       " Prediction(uid=10940, iid=6174, r_ui=5.0, est=4.253484955673588, details={'was_impossible': False}),\n",
       " Prediction(uid=126404, iid=173, r_ui=2.0, est=4.317288839847101, details={'was_impossible': False}),\n",
       " Prediction(uid=11343, iid=4894, r_ui=5.0, est=4.127880892847168, details={'was_impossible': False}),\n",
       " Prediction(uid=18427, iid=3813, r_ui=5.0, est=4.246111041908303, details={'was_impossible': False}),\n",
       " Prediction(uid=3040, iid=8235, r_ui=3.0, est=3.450986237248549, details={'was_impossible': False}),\n",
       " Prediction(uid=33598, iid=11178, r_ui=4.0, est=3.501241460079081, details={'was_impossible': False}),\n",
       " Prediction(uid=23852, iid=13209, r_ui=1.0, est=2.361731842292969, details={'was_impossible': False}),\n",
       " Prediction(uid=30062, iid=11, r_ui=4.0, est=3.635551889540583, details={'was_impossible': False}),\n",
       " Prediction(uid=28665, iid=7388, r_ui=5.0, est=4.278089178492637, details={'was_impossible': False}),\n",
       " Prediction(uid=10723, iid=10471, r_ui=1.0, est=3.194049268397157, details={'was_impossible': False}),\n",
       " Prediction(uid=12589, iid=3837, r_ui=5.0, est=4.262291080131129, details={'was_impossible': False}),\n",
       " Prediction(uid=95989, iid=5735, r_ui=1.0, est=4.015215500141016, details={'was_impossible': False}),\n",
       " Prediction(uid=86028, iid=984, r_ui=3.0, est=3.7228232418928546, details={'was_impossible': False}),\n",
       " Prediction(uid=132636, iid=1440, r_ui=5.0, est=3.3015787467032505, details={'was_impossible': False}),\n",
       " Prediction(uid=19266, iid=4065, r_ui=2.0, est=3.603487404652894, details={'was_impossible': False}),\n",
       " Prediction(uid=132191, iid=868, r_ui=4.0, est=3.48662828574154, details={'was_impossible': False}),\n",
       " Prediction(uid=17996, iid=9372, r_ui=4.0, est=3.643029011451016, details={'was_impossible': False}),\n",
       " Prediction(uid=6251, iid=512, r_ui=5.0, est=4.0353203065462395, details={'was_impossible': False}),\n",
       " Prediction(uid=117587, iid=11608, r_ui=1.0, est=2.170064570806068, details={'was_impossible': False}),\n",
       " Prediction(uid=153500, iid=8204, r_ui=2.0, est=3.9116738137080596, details={'was_impossible': False}),\n",
       " Prediction(uid=65664, iid=9459, r_ui=5.0, est=3.709014060944776, details={'was_impossible': False}),\n",
       " Prediction(uid=5416, iid=4699, r_ui=1.0, est=3.2646392336924013, details={'was_impossible': False}),\n",
       " Prediction(uid=187278, iid=23, r_ui=5.0, est=4.146921052840691, details={'was_impossible': False}),\n",
       " Prediction(uid=66138, iid=866, r_ui=4.0, est=3.8525028370774383, details={'was_impossible': False}),\n",
       " Prediction(uid=1315, iid=4516, r_ui=5.0, est=3.9093736697753596, details={'was_impossible': False}),\n",
       " Prediction(uid=129822, iid=4470, r_ui=5.0, est=4.637228992328432, details={'was_impossible': False}),\n",
       " Prediction(uid=22678, iid=9751, r_ui=5.0, est=4.831838964318664, details={'was_impossible': False}),\n",
       " Prediction(uid=22286, iid=5262, r_ui=5.0, est=4.191106834574242, details={'was_impossible': False}),\n",
       " Prediction(uid=1291, iid=2427, r_ui=5.0, est=4.5512933391542045, details={'was_impossible': False}),\n",
       " Prediction(uid=32742, iid=1695, r_ui=4.0, est=4.120289969288295, details={'was_impossible': False}),\n",
       " Prediction(uid=137395, iid=6410, r_ui=4.0, est=3.977910507756342, details={'was_impossible': False}),\n",
       " Prediction(uid=40706, iid=961, r_ui=5.0, est=3.886885182935388, details={'was_impossible': False}),\n",
       " Prediction(uid=83732, iid=2612, r_ui=2.0, est=3.669015495356187, details={'was_impossible': False}),\n",
       " Prediction(uid=77296, iid=6044, r_ui=2.0, est=3.9382666139002374, details={'was_impossible': False}),\n",
       " Prediction(uid=93876, iid=3211, r_ui=5.0, est=4.589006162586833, details={'was_impossible': False}),\n",
       " Prediction(uid=148389, iid=1870, r_ui=5.0, est=3.96047397424093, details={'was_impossible': False}),\n",
       " Prediction(uid=113263, iid=1819, r_ui=4.0, est=3.8130843999895427, details={'was_impossible': False}),\n",
       " Prediction(uid=39582, iid=5831, r_ui=3.0, est=4.175771005101992, details={'was_impossible': False}),\n",
       " Prediction(uid=71002, iid=3761, r_ui=5.0, est=2.8221191166239707, details={'was_impossible': False}),\n",
       " Prediction(uid=52759, iid=7807, r_ui=5.0, est=3.2151940392956413, details={'was_impossible': False}),\n",
       " Prediction(uid=119612, iid=2729, r_ui=4.0, est=3.752520369882416, details={'was_impossible': False}),\n",
       " Prediction(uid=21949, iid=148, r_ui=4.0, est=3.813766218556334, details={'was_impossible': False}),\n",
       " Prediction(uid=42901, iid=2176, r_ui=5.0, est=4.675307900702087, details={'was_impossible': False}),\n",
       " Prediction(uid=62744, iid=9768, r_ui=1.0, est=2.1831151543601, details={'was_impossible': False}),\n",
       " Prediction(uid=13688, iid=9310, r_ui=4.0, est=3.628712304670047, details={'was_impossible': False}),\n",
       " Prediction(uid=181470, iid=179, r_ui=5.0, est=4.605752456232788, details={'was_impossible': False}),\n",
       " Prediction(uid=24032, iid=2030, r_ui=2.0, est=2.2319039194099033, details={'was_impossible': False}),\n",
       " Prediction(uid=31681, iid=6750, r_ui=4.0, est=3.507502236224366, details={'was_impossible': False}),\n",
       " Prediction(uid=51964, iid=2254, r_ui=4.0, est=3.6376412129039375, details={'was_impossible': False}),\n",
       " Prediction(uid=186284, iid=90, r_ui=5.0, est=4.31683976751007, details={'was_impossible': False}),\n",
       " Prediction(uid=129462, iid=5250, r_ui=5.0, est=2.8938212425854597, details={'was_impossible': False}),\n",
       " Prediction(uid=78298, iid=6763, r_ui=4.0, est=3.461520934006865, details={'was_impossible': False}),\n",
       " Prediction(uid=12633, iid=3895, r_ui=5.0, est=3.6612100861574755, details={'was_impossible': False}),\n",
       " Prediction(uid=23171, iid=1247, r_ui=4.0, est=4.013450300194917, details={'was_impossible': False}),\n",
       " Prediction(uid=98102, iid=8487, r_ui=5.0, est=3.1593692800601674, details={'was_impossible': False}),\n",
       " Prediction(uid=16545, iid=64, r_ui=4.0, est=3.7408900829786904, details={'was_impossible': False}),\n",
       " Prediction(uid=43676, iid=371, r_ui=2.0, est=3.2439094106535653, details={'was_impossible': False}),\n",
       " Prediction(uid=22121, iid=907, r_ui=5.0, est=4.051639666131595, details={'was_impossible': False}),\n",
       " Prediction(uid=68958, iid=13940, r_ui=5.0, est=4.081278178511757, details={'was_impossible': False}),\n",
       " Prediction(uid=149385, iid=7562, r_ui=4.0, est=4.266457975253334, details={'was_impossible': False}),\n",
       " Prediction(uid=22008, iid=59, r_ui=3.0, est=3.1830939051416345, details={'was_impossible': False}),\n",
       " Prediction(uid=13618, iid=3378, r_ui=5.0, est=4.570425888704839, details={'was_impossible': False}),\n",
       " Prediction(uid=40849, iid=1171, r_ui=4.0, est=4.122461540841995, details={'was_impossible': False}),\n",
       " Prediction(uid=44385, iid=868, r_ui=4.0, est=3.4887319957757774, details={'was_impossible': False}),\n",
       " Prediction(uid=16827, iid=21, r_ui=5.0, est=3.6728931781768965, details={'was_impossible': False}),\n",
       " Prediction(uid=171286, iid=89, r_ui=4.0, est=4.395344701168926, details={'was_impossible': False}),\n",
       " Prediction(uid=156023, iid=11656, r_ui=4.0, est=2.652953966936205, details={'was_impossible': False}),\n",
       " Prediction(uid=84711, iid=523, r_ui=1.0, est=4.273427160677243, details={'was_impossible': False}),\n",
       " Prediction(uid=135648, iid=53, r_ui=5.0, est=3.66228175231756, details={'was_impossible': False}),\n",
       " Prediction(uid=33898, iid=3499, r_ui=5.0, est=3.8296371819423127, details={'was_impossible': False}),\n",
       " Prediction(uid=38540, iid=5217, r_ui=4.0, est=4.148180383058107, details={'was_impossible': False}),\n",
       " Prediction(uid=150043, iid=7648, r_ui=5.0, est=3.4605593346443375, details={'was_impossible': False}),\n",
       " Prediction(uid=89767, iid=3353, r_ui=5.0, est=3.6198147894961963, details={'was_impossible': False}),\n",
       " Prediction(uid=11442, iid=6523, r_ui=5.0, est=3.994410568650802, details={'was_impossible': False}),\n",
       " Prediction(uid=1499, iid=3270, r_ui=4.0, est=3.7178128064224167, details={'was_impossible': False}),\n",
       " Prediction(uid=159337, iid=10053, r_ui=5.0, est=4.550442365024145, details={'was_impossible': False}),\n",
       " Prediction(uid=180289, iid=2697, r_ui=4.0, est=2.8847500341707737, details={'was_impossible': False}),\n",
       " Prediction(uid=41398, iid=1192, r_ui=5.0, est=3.0725203167787156, details={'was_impossible': False}),\n",
       " Prediction(uid=69845, iid=3743, r_ui=5.0, est=3.9432668308046828, details={'was_impossible': False}),\n",
       " Prediction(uid=18921, iid=7256, r_ui=5.0, est=3.209388510593561, details={'was_impossible': False}),\n",
       " Prediction(uid=134077, iid=2081, r_ui=3.0, est=3.8905892231346577, details={'was_impossible': False}),\n",
       " Prediction(uid=6226, iid=7548, r_ui=5.0, est=4.38086089732766, details={'was_impossible': False}),\n",
       " Prediction(uid=203113, iid=10394, r_ui=2.0, est=3.2117167898098424, details={'was_impossible': False}),\n",
       " Prediction(uid=48915, iid=6514, r_ui=5.0, est=3.3860376612242855, details={'was_impossible': False}),\n",
       " Prediction(uid=184061, iid=141, r_ui=2.0, est=4.0908790577515886, details={'was_impossible': False}),\n",
       " Prediction(uid=173320, iid=4296, r_ui=2.0, est=3.4280278108495166, details={'was_impossible': False}),\n",
       " Prediction(uid=147473, iid=584, r_ui=5.0, est=4.368443603033092, details={'was_impossible': False}),\n",
       " Prediction(uid=101113, iid=430, r_ui=3.0, est=3.5226479008666955, details={'was_impossible': False}),\n",
       " Prediction(uid=112182, iid=3234, r_ui=2.0, est=3.3850729720620363, details={'was_impossible': False}),\n",
       " Prediction(uid=78138, iid=8113, r_ui=1.0, est=2.997379698892894, details={'was_impossible': False}),\n",
       " Prediction(uid=33832, iid=5856, r_ui=4.0, est=3.4710943736701036, details={'was_impossible': False}),\n",
       " Prediction(uid=28905, iid=1316, r_ui=2.0, est=3.508532165823341, details={'was_impossible': False}),\n",
       " Prediction(uid=104992, iid=8494, r_ui=2.0, est=3.0378803289367218, details={'was_impossible': False}),\n",
       " Prediction(uid=28997, iid=5961, r_ui=4.0, est=3.9618998327904236, details={'was_impossible': False}),\n",
       " Prediction(uid=138241, iid=7934, r_ui=2.0, est=3.381518839463315, details={'was_impossible': False}),\n",
       " Prediction(uid=94352, iid=4631, r_ui=5.0, est=3.5463998975065847, details={'was_impossible': False}),\n",
       " Prediction(uid=173196, iid=839, r_ui=4.0, est=4.546470543514428, details={'was_impossible': False}),\n",
       " Prediction(uid=47375, iid=4371, r_ui=2.0, est=3.77436259053421, details={'was_impossible': False}),\n",
       " Prediction(uid=56570, iid=3659, r_ui=5.0, est=3.339909558483472, details={'was_impossible': False}),\n",
       " Prediction(uid=43642, iid=1069, r_ui=5.0, est=4.363368467534574, details={'was_impossible': False}),\n",
       " Prediction(uid=173816, iid=6577, r_ui=4.0, est=3.425928139547732, details={'was_impossible': False}),\n",
       " Prediction(uid=53166, iid=5294, r_ui=4.0, est=3.2134463347593973, details={'was_impossible': False}),\n",
       " Prediction(uid=75055, iid=25, r_ui=5.0, est=4.2616425008888195, details={'was_impossible': False}),\n",
       " Prediction(uid=83875, iid=6850, r_ui=5.0, est=3.567251583888186, details={'was_impossible': False}),\n",
       " Prediction(uid=75032, iid=9244, r_ui=5.0, est=3.4022696255778606, details={'was_impossible': False}),\n",
       " Prediction(uid=25071, iid=8869, r_ui=4.0, est=4.417506750730335, details={'was_impossible': False}),\n",
       " Prediction(uid=76129, iid=383, r_ui=1.0, est=3.5916664215956815, details={'was_impossible': False}),\n",
       " Prediction(uid=64812, iid=2994, r_ui=5.0, est=3.9235048618599784, details={'was_impossible': False}),\n",
       " Prediction(uid=26496, iid=3097, r_ui=2.0, est=3.7035616574188173, details={'was_impossible': False}),\n",
       " Prediction(uid=6787, iid=1793, r_ui=4.0, est=3.7529109282129958, details={'was_impossible': False}),\n",
       " Prediction(uid=82426, iid=489, r_ui=5.0, est=3.965773746673826, details={'was_impossible': False}),\n",
       " Prediction(uid=12091, iid=3254, r_ui=5.0, est=3.635051361527138, details={'was_impossible': False}),\n",
       " Prediction(uid=183818, iid=2184, r_ui=5.0, est=4.318463037087832, details={'was_impossible': False}),\n",
       " Prediction(uid=32952, iid=5070, r_ui=5.0, est=4.574559677558876, details={'was_impossible': False}),\n",
       " Prediction(uid=141217, iid=9570, r_ui=5.0, est=4.049526639088292, details={'was_impossible': False}),\n",
       " Prediction(uid=72517, iid=11046, r_ui=1.0, est=3.1990081122065446, details={'was_impossible': False}),\n",
       " Prediction(uid=163366, iid=6763, r_ui=3.0, est=3.2316832589789337, details={'was_impossible': False}),\n",
       " Prediction(uid=41390, iid=10023, r_ui=1.0, est=2.8632390826614897, details={'was_impossible': False}),\n",
       " Prediction(uid=5499, iid=5278, r_ui=5.0, est=3.802139327833617, details={'was_impossible': False}),\n",
       " Prediction(uid=10827, iid=1829, r_ui=3.0, est=3.6338922100728515, details={'was_impossible': False}),\n",
       " Prediction(uid=199878, iid=13465, r_ui=5.0, est=3.508775510896789, details={'was_impossible': False}),\n",
       " Prediction(uid=136939, iid=141, r_ui=5.0, est=4.0876587836785445, details={'was_impossible': False}),\n",
       " Prediction(uid=114079, iid=2142, r_ui=5.0, est=4.026540747968352, details={'was_impossible': False}),\n",
       " Prediction(uid=9273, iid=6521, r_ui=1.0, est=3.3112288835348216, details={'was_impossible': False}),\n",
       " Prediction(uid=12818, iid=6080, r_ui=2.0, est=4.011130293525967, details={'was_impossible': False}),\n",
       " Prediction(uid=29234, iid=6555, r_ui=5.0, est=4.078601543729366, details={'was_impossible': False}),\n",
       " Prediction(uid=17725, iid=992, r_ui=4.0, est=4.0396037272072896, details={'was_impossible': False}),\n",
       " Prediction(uid=103279, iid=1276, r_ui=1.0, est=3.8993051442443045, details={'was_impossible': False}),\n",
       " Prediction(uid=31227, iid=6634, r_ui=4.0, est=3.21985478291065, details={'was_impossible': False}),\n",
       " Prediction(uid=88210, iid=4650, r_ui=5.0, est=4.067898082535957, details={'was_impossible': False}),\n",
       " Prediction(uid=125071, iid=9634, r_ui=4.0, est=3.607437702035692, details={'was_impossible': False}),\n",
       " Prediction(uid=37493, iid=3670, r_ui=5.0, est=4.713065066678277, details={'was_impossible': False}),\n",
       " Prediction(uid=115934, iid=1989, r_ui=3.0, est=3.428361138929315, details={'was_impossible': False}),\n",
       " Prediction(uid=168663, iid=4634, r_ui=5.0, est=4.226794265666367, details={'was_impossible': False}),\n",
       " Prediction(uid=113208, iid=109, r_ui=1.0, est=3.889577120170204, details={'was_impossible': False}),\n",
       " Prediction(uid=56270, iid=907, r_ui=4.0, est=4.163174495216962, details={'was_impossible': False}),\n",
       " Prediction(uid=2752, iid=122, r_ui=5.0, est=3.821794265988661, details={'was_impossible': False}),\n",
       " Prediction(uid=170969, iid=3088, r_ui=5.0, est=4.491180595883837, details={'was_impossible': False}),\n",
       " Prediction(uid=93944, iid=4843, r_ui=3.0, est=3.1875714591222812, details={'was_impossible': False}),\n",
       " Prediction(uid=175986, iid=64, r_ui=5.0, est=3.951035882294255, details={'was_impossible': False}),\n",
       " Prediction(uid=2359, iid=8304, r_ui=5.0, est=4.037000121317874, details={'was_impossible': False}),\n",
       " Prediction(uid=184168, iid=523, r_ui=5.0, est=3.9901082244517965, details={'was_impossible': False}),\n",
       " Prediction(uid=47195, iid=1261, r_ui=5.0, est=4.2821841167505, details={'was_impossible': False}),\n",
       " Prediction(uid=97663, iid=3187, r_ui=4.0, est=4.427563354658559, details={'was_impossible': False}),\n",
       " Prediction(uid=11827, iid=24, r_ui=4.0, est=3.640940974391272, details={'was_impossible': False}),\n",
       " Prediction(uid=18623, iid=12813, r_ui=3.0, est=3.719321844940594, details={'was_impossible': False}),\n",
       " Prediction(uid=5569, iid=13639, r_ui=2.0, est=3.5424082464780704, details={'was_impossible': False}),\n",
       " Prediction(uid=113671, iid=5148, r_ui=4.0, est=4.057191102245883, details={'was_impossible': False}),\n",
       " Prediction(uid=122820, iid=86, r_ui=4.0, est=4.171362065710821, details={'was_impossible': False}),\n",
       " Prediction(uid=27111, iid=14548, r_ui=1.0, est=3.274107571424977, details={'was_impossible': False}),\n",
       " Prediction(uid=110374, iid=2405, r_ui=5.0, est=4.357689844524353, details={'was_impossible': False}),\n",
       " Prediction(uid=5370, iid=5749, r_ui=2.0, est=3.1942504654780564, details={'was_impossible': False}),\n",
       " Prediction(uid=165436, iid=4953, r_ui=5.0, est=4.322233564917836, details={'was_impossible': False}),\n",
       " Prediction(uid=26989, iid=6757, r_ui=4.0, est=3.7789049042148624, details={'was_impossible': False}),\n",
       " Prediction(uid=130614, iid=1537, r_ui=4.0, est=4.287365343113025, details={'was_impossible': False}),\n",
       " Prediction(uid=2805, iid=8959, r_ui=4.0, est=3.0580486213669946, details={'was_impossible': False}),\n",
       " Prediction(uid=285, iid=1020, r_ui=4.0, est=3.8813367054544385, details={'was_impossible': False}),\n",
       " Prediction(uid=1409, iid=5904, r_ui=2.0, est=3.699691984808259, details={'was_impossible': False}),\n",
       " Prediction(uid=191720, iid=44, r_ui=5.0, est=4.4522647277286715, details={'was_impossible': False}),\n",
       " Prediction(uid=110206, iid=3960, r_ui=5.0, est=3.9953271538336486, details={'was_impossible': False}),\n",
       " Prediction(uid=174717, iid=10911, r_ui=5.0, est=4.030941511712715, details={'was_impossible': False}),\n",
       " Prediction(uid=141540, iid=3314, r_ui=4.0, est=3.783263168597717, details={'was_impossible': False}),\n",
       " Prediction(uid=167, iid=2048, r_ui=4.0, est=4.33195020362297, details={'was_impossible': False}),\n",
       " Prediction(uid=56913, iid=2527, r_ui=5.0, est=3.717628761262731, details={'was_impossible': False}),\n",
       " Prediction(uid=49152, iid=5044, r_ui=5.0, est=3.522739955713642, details={'was_impossible': False}),\n",
       " Prediction(uid=51309, iid=3323, r_ui=4.0, est=4.073601685469102, details={'was_impossible': False}),\n",
       " Prediction(uid=146993, iid=2306, r_ui=2.0, est=3.330126965983888, details={'was_impossible': False}),\n",
       " Prediction(uid=35886, iid=5499, r_ui=5.0, est=3.711582197640968, details={'was_impossible': False}),\n",
       " Prediction(uid=172138, iid=502, r_ui=5.0, est=4.526161308979417, details={'was_impossible': False}),\n",
       " Prediction(uid=36346, iid=5906, r_ui=5.0, est=4.508194270832094, details={'was_impossible': False}),\n",
       " Prediction(uid=68933, iid=2495, r_ui=3.0, est=4.115272597263872, details={'was_impossible': False}),\n",
       " Prediction(uid=31281, iid=3316, r_ui=5.0, est=4.835574349327249, details={'was_impossible': False}),\n",
       " Prediction(uid=28988, iid=1028, r_ui=5.0, est=4.426877817598864, details={'was_impossible': False}),\n",
       " Prediction(uid=189670, iid=9532, r_ui=5.0, est=3.586463589170627, details={'was_impossible': False}),\n",
       " Prediction(uid=65046, iid=1269, r_ui=5.0, est=4.470332000655932, details={'was_impossible': False}),\n",
       " Prediction(uid=107591, iid=2468, r_ui=5.0, est=4.087469997085744, details={'was_impossible': False}),\n",
       " Prediction(uid=118499, iid=5283, r_ui=5.0, est=3.912049067551404, details={'was_impossible': False}),\n",
       " Prediction(uid=21728, iid=972, r_ui=4.0, est=4.450713701883169, details={'was_impossible': False}),\n",
       " Prediction(uid=46999, iid=3653, r_ui=4.0, est=4.060560062979662, details={'was_impossible': False}),\n",
       " Prediction(uid=11991, iid=1042, r_ui=4.0, est=3.9895325192993476, details={'was_impossible': False}),\n",
       " Prediction(uid=100109, iid=666, r_ui=5.0, est=4.347032003346962, details={'was_impossible': False}),\n",
       " Prediction(uid=8532, iid=3875, r_ui=4.0, est=3.476509565877321, details={'was_impossible': False}),\n",
       " Prediction(uid=150584, iid=237, r_ui=5.0, est=3.8764503565829296, details={'was_impossible': False}),\n",
       " Prediction(uid=183967, iid=1860, r_ui=5.0, est=4.025888456265674, details={'was_impossible': False}),\n",
       " Prediction(uid=2656, iid=2157, r_ui=4.0, est=3.787999680754243, details={'was_impossible': False}),\n",
       " Prediction(uid=109334, iid=1215, r_ui=3.0, est=3.80251811997904, details={'was_impossible': False}),\n",
       " Prediction(uid=125937, iid=5095, r_ui=5.0, est=4.518793962719774, details={'was_impossible': False}),\n",
       " Prediction(uid=177099, iid=3942, r_ui=5.0, est=3.480387436745794, details={'was_impossible': False}),\n",
       " Prediction(uid=164814, iid=6209, r_ui=5.0, est=3.7610666031814355, details={'was_impossible': False}),\n",
       " Prediction(uid=53419, iid=2146, r_ui=4.0, est=4.135394659872692, details={'was_impossible': False}),\n",
       " Prediction(uid=11179, iid=6066, r_ui=5.0, est=3.021675696313315, details={'was_impossible': False}),\n",
       " Prediction(uid=37874, iid=7384, r_ui=5.0, est=4.3766856722099385, details={'was_impossible': False}),\n",
       " Prediction(uid=148484, iid=2609, r_ui=1.0, est=3.6696111098281703, details={'was_impossible': False}),\n",
       " Prediction(uid=1754, iid=5283, r_ui=3.0, est=3.967622096723345, details={'was_impossible': False}),\n",
       " Prediction(uid=145105, iid=9472, r_ui=5.0, est=3.978967835240744, details={'was_impossible': False}),\n",
       " Prediction(uid=111502, iid=9473, r_ui=5.0, est=4.408452491003735, details={'was_impossible': False}),\n",
       " Prediction(uid=62521, iid=8774, r_ui=5.0, est=2.6460226792647137, details={'was_impossible': False}),\n",
       " Prediction(uid=77142, iid=9551, r_ui=3.0, est=3.027764992008367, details={'was_impossible': False}),\n",
       " Prediction(uid=29777, iid=14702, r_ui=1.0, est=2.8630465995693486, details={'was_impossible': False}),\n",
       " Prediction(uid=177727, iid=4527, r_ui=5.0, est=3.743938930661723, details={'was_impossible': False}),\n",
       " Prediction(uid=84569, iid=6432, r_ui=5.0, est=4.092224049939962, details={'was_impossible': False}),\n",
       " Prediction(uid=55412, iid=9305, r_ui=4.0, est=4.006152815137665, details={'was_impossible': False}),\n",
       " Prediction(uid=23035, iid=8151, r_ui=5.0, est=4.658559321339257, details={'was_impossible': False}),\n",
       " Prediction(uid=126626, iid=2031, r_ui=5.0, est=4.505912604868265, details={'was_impossible': False}),\n",
       " Prediction(uid=95859, iid=8541, r_ui=5.0, est=4.13898711533229, details={'was_impossible': False}),\n",
       " Prediction(uid=157289, iid=5899, r_ui=5.0, est=4.596315737782833, details={'was_impossible': False}),\n",
       " Prediction(uid=180381, iid=1043, r_ui=5.0, est=3.986001952316041, details={'was_impossible': False}),\n",
       " Prediction(uid=50081, iid=2288, r_ui=4.0, est=4.4406662678248425, details={'was_impossible': False}),\n",
       " Prediction(uid=25747, iid=1570, r_ui=4.0, est=3.956494829784459, details={'was_impossible': False}),\n",
       " Prediction(uid=57860, iid=10915, r_ui=5.0, est=3.7877843753545952, details={'was_impossible': False}),\n",
       " Prediction(uid=6883, iid=61, r_ui=3.0, est=3.946721602560537, details={'was_impossible': False}),\n",
       " Prediction(uid=101392, iid=4754, r_ui=2.0, est=3.5012349245992755, details={'was_impossible': False}),\n",
       " Prediction(uid=38610, iid=129, r_ui=5.0, est=4.023895394879188, details={'was_impossible': False}),\n",
       " Prediction(uid=169809, iid=7395, r_ui=3.0, est=3.839736473460771, details={'was_impossible': False}),\n",
       " Prediction(uid=1432, iid=3419, r_ui=5.0, est=4.466420148021757, details={'was_impossible': False}),\n",
       " Prediction(uid=93281, iid=6685, r_ui=3.0, est=3.6051185309906177, details={'was_impossible': False}),\n",
       " Prediction(uid=62597, iid=3105, r_ui=5.0, est=3.9433735127543623, details={'was_impossible': False}),\n",
       " Prediction(uid=3392, iid=7844, r_ui=5.0, est=4.493384354600031, details={'was_impossible': False}),\n",
       " Prediction(uid=22583, iid=3078, r_ui=1.0, est=4.190888481492376, details={'was_impossible': False}),\n",
       " Prediction(uid=78879, iid=3739, r_ui=3.0, est=4.3589926839034785, details={'was_impossible': False}),\n",
       " Prediction(uid=19900, iid=2807, r_ui=1.0, est=2.9020253008541594, details={'was_impossible': False}),\n",
       " Prediction(uid=129035, iid=85, r_ui=4.0, est=3.961160271429434, details={'was_impossible': False}),\n",
       " Prediction(uid=652, iid=8408, r_ui=3.0, est=2.9216632425911913, details={'was_impossible': False}),\n",
       " Prediction(uid=18961, iid=9430, r_ui=5.0, est=4.353472295169148, details={'was_impossible': False}),\n",
       " Prediction(uid=7688, iid=6274, r_ui=5.0, est=4.4180325280127555, details={'was_impossible': False}),\n",
       " Prediction(uid=20675, iid=1310, r_ui=4.0, est=2.9536316822578543, details={'was_impossible': False}),\n",
       " Prediction(uid=152057, iid=7098, r_ui=4.0, est=3.3370267401368645, details={'was_impossible': False}),\n",
       " Prediction(uid=6026, iid=6570, r_ui=3.0, est=3.608725731838102, details={'was_impossible': False}),\n",
       " Prediction(uid=124584, iid=2725, r_ui=2.0, est=3.3636414350434984, details={'was_impossible': False}),\n",
       " Prediction(uid=10293, iid=77, r_ui=3.0, est=3.2611288038487922, details={'was_impossible': False}),\n",
       " Prediction(uid=98486, iid=1217, r_ui=5.0, est=4.444934384916838, details={'was_impossible': False}),\n",
       " Prediction(uid=8034, iid=5040, r_ui=5.0, est=4.027538014428, details={'was_impossible': False}),\n",
       " Prediction(uid=140372, iid=2201, r_ui=5.0, est=4.264368904491462, details={'was_impossible': False}),\n",
       " Prediction(uid=78977, iid=10440, r_ui=3.0, est=4.344517389452683, details={'was_impossible': False}),\n",
       " Prediction(uid=117141, iid=8667, r_ui=1.0, est=2.1942086061327006, details={'was_impossible': False}),\n",
       " Prediction(uid=170284, iid=1290, r_ui=4.0, est=4.192674230807861, details={'was_impossible': False}),\n",
       " Prediction(uid=10920, iid=6214, r_ui=5.0, est=3.508059930932574, details={'was_impossible': False}),\n",
       " Prediction(uid=131343, iid=7510, r_ui=4.0, est=4.52895313114683, details={'was_impossible': False}),\n",
       " Prediction(uid=93891, iid=1070, r_ui=2.0, est=3.5710090794664606, details={'was_impossible': False}),\n",
       " Prediction(uid=25184, iid=1440, r_ui=4.0, est=3.346380562693624, details={'was_impossible': False}),\n",
       " Prediction(uid=20279, iid=9187, r_ui=1.0, est=3.612003882439917, details={'was_impossible': False}),\n",
       " Prediction(uid=91478, iid=1530, r_ui=1.0, est=4.094932151850078, details={'was_impossible': False}),\n",
       " Prediction(uid=12693, iid=482, r_ui=5.0, est=3.574567682853307, details={'was_impossible': False}),\n",
       " Prediction(uid=97596, iid=4919, r_ui=5.0, est=4.970022748672242, details={'was_impossible': False}),\n",
       " Prediction(uid=70659, iid=13401, r_ui=1.0, est=3.448787845069388, details={'was_impossible': False}),\n",
       " Prediction(uid=40947, iid=87, r_ui=5.0, est=4.597328826881694, details={'was_impossible': False}),\n",
       " Prediction(uid=54557, iid=12608, r_ui=5.0, est=4.136989453814232, details={'was_impossible': False}),\n",
       " Prediction(uid=171848, iid=5378, r_ui=4.0, est=4.346562111860799, details={'was_impossible': False}),\n",
       " Prediction(uid=102204, iid=943, r_ui=5.0, est=4.633560734159229, details={'was_impossible': False}),\n",
       " Prediction(uid=91332, iid=3766, r_ui=3.0, est=4.004734574545407, details={'was_impossible': False}),\n",
       " Prediction(uid=125762, iid=5902, r_ui=4.0, est=3.8874650107678375, details={'was_impossible': False}),\n",
       " Prediction(uid=171727, iid=1525, r_ui=4.0, est=3.7733211381704166, details={'was_impossible': False}),\n",
       " Prediction(uid=201962, iid=2629, r_ui=5.0, est=3.080526414278391, details={'was_impossible': False}),\n",
       " Prediction(uid=6808, iid=1595, r_ui=4.0, est=3.5306452071303522, details={'was_impossible': False}),\n",
       " Prediction(uid=56418, iid=908, r_ui=5.0, est=3.2132799901432847, details={'was_impossible': False}),\n",
       " Prediction(uid=5913, iid=6751, r_ui=4.0, est=2.904834513529286, details={'was_impossible': False}),\n",
       " Prediction(uid=27413, iid=670, r_ui=4.0, est=2.6117202168011984, details={'was_impossible': False}),\n",
       " Prediction(uid=285, iid=71, r_ui=4.0, est=3.7046487128552132, details={'was_impossible': False}),\n",
       " Prediction(uid=22835, iid=1604, r_ui=5.0, est=4.1767962098234745, details={'was_impossible': False}),\n",
       " Prediction(uid=13568, iid=2205, r_ui=5.0, est=4.19276009852835, details={'was_impossible': False}),\n",
       " Prediction(uid=88498, iid=47, r_ui=5.0, est=4.601113048705815, details={'was_impossible': False}),\n",
       " Prediction(uid=7322, iid=149, r_ui=4.0, est=3.813038167383255, details={'was_impossible': False}),\n",
       " Prediction(uid=37279, iid=5835, r_ui=5.0, est=3.023558555790768, details={'was_impossible': False}),\n",
       " Prediction(uid=16424, iid=1452, r_ui=2.0, est=3.3065271794802347, details={'was_impossible': False}),\n",
       " Prediction(uid=102212, iid=3128, r_ui=5.0, est=3.435778085303559, details={'was_impossible': False}),\n",
       " Prediction(uid=67594, iid=64, r_ui=5.0, est=3.943832306419472, details={'was_impossible': False}),\n",
       " Prediction(uid=162700, iid=2111, r_ui=5.0, est=4.095093576682364, details={'was_impossible': False}),\n",
       " Prediction(uid=153323, iid=2300, r_ui=5.0, est=4.203251271473145, details={'was_impossible': False}),\n",
       " Prediction(uid=108421, iid=2969, r_ui=3.0, est=3.5835648601248478, details={'was_impossible': False}),\n",
       " Prediction(uid=153768, iid=104, r_ui=4.0, est=4.011060397859505, details={'was_impossible': False}),\n",
       " Prediction(uid=192292, iid=1194, r_ui=3.0, est=3.5119076572560317, details={'was_impossible': False}),\n",
       " Prediction(uid=77095, iid=61, r_ui=5.0, est=3.8929971847880256, details={'was_impossible': False}),\n",
       " Prediction(uid=93370, iid=767, r_ui=4.0, est=4.32807115199174, details={'was_impossible': False}),\n",
       " Prediction(uid=80411, iid=5643, r_ui=4.0, est=4.2248707564094765, details={'was_impossible': False}),\n",
       " Prediction(uid=140578, iid=4939, r_ui=3.0, est=3.8541868199708196, details={'was_impossible': False}),\n",
       " Prediction(uid=52142, iid=2893, r_ui=5.0, est=3.5924255597546564, details={'was_impossible': False}),\n",
       " Prediction(uid=4095, iid=935, r_ui=4.0, est=3.7407825670068573, details={'was_impossible': False}),\n",
       " Prediction(uid=41467, iid=4964, r_ui=5.0, est=4.739993164099023, details={'was_impossible': False}),\n",
       " Prediction(uid=202473, iid=5732, r_ui=4.0, est=3.9671891324271495, details={'was_impossible': False}),\n",
       " Prediction(uid=45294, iid=3044, r_ui=4.0, est=3.9002491193422095, details={'was_impossible': False}),\n",
       " Prediction(uid=167895, iid=3341, r_ui=5.0, est=4.177000884384849, details={'was_impossible': False}),\n",
       " Prediction(uid=156017, iid=1370, r_ui=5.0, est=3.9764313893972583, details={'was_impossible': False}),\n",
       " Prediction(uid=57725, iid=659, r_ui=3.0, est=4.204092977574547, details={'was_impossible': False}),\n",
       " Prediction(uid=95082, iid=23, r_ui=3.0, est=3.777425285668778, details={'was_impossible': False}),\n",
       " Prediction(uid=34706, iid=7036, r_ui=5.0, est=4.748222351140439, details={'was_impossible': False}),\n",
       " Prediction(uid=149031, iid=5325, r_ui=5.0, est=4.101364567226882, details={'was_impossible': False}),\n",
       " Prediction(uid=36041, iid=5709, r_ui=3.0, est=3.4373486027312694, details={'was_impossible': False}),\n",
       " Prediction(uid=110951, iid=14171, r_ui=5.0, est=3.8966793890806404, details={'was_impossible': False}),\n",
       " Prediction(uid=17736, iid=8173, r_ui=5.0, est=3.71678364111736, details={'was_impossible': False}),\n",
       " Prediction(uid=103848, iid=1570, r_ui=5.0, est=4.463277898643808, details={'was_impossible': False}),\n",
       " Prediction(uid=63624, iid=1294, r_ui=2.0, est=4.21518707092136, details={'was_impossible': False}),\n",
       " Prediction(uid=200638, iid=1252, r_ui=2.0, est=3.9989323562115544, details={'was_impossible': False}),\n",
       " Prediction(uid=49359, iid=5271, r_ui=5.0, est=3.9743690979839315, details={'was_impossible': False}),\n",
       " Prediction(uid=42744, iid=6903, r_ui=5.0, est=4.502947891153108, details={'was_impossible': False}),\n",
       " Prediction(uid=85974, iid=1097, r_ui=4.0, est=3.9225964181251416, details={'was_impossible': False}),\n",
       " Prediction(uid=26613, iid=1046, r_ui=4.0, est=4.4304886481393995, details={'was_impossible': False}),\n",
       " Prediction(uid=96630, iid=4352, r_ui=5.0, est=3.0033570216564263, details={'was_impossible': False}),\n",
       " Prediction(uid=65672, iid=2106, r_ui=4.0, est=3.7602746193387873, details={'was_impossible': False}),\n",
       " Prediction(uid=129682, iid=7414, r_ui=1.0, est=3.3568873673020603, details={'was_impossible': False}),\n",
       " Prediction(uid=10085, iid=3123, r_ui=2.0, est=3.7731359908726083, details={'was_impossible': False}),\n",
       " Prediction(uid=33555, iid=379, r_ui=4.0, est=3.7568257170493395, details={'was_impossible': False}),\n",
       " Prediction(uid=3363, iid=7648, r_ui=4.0, est=3.484419722007588, details={'was_impossible': False}),\n",
       " Prediction(uid=14536, iid=913, r_ui=5.0, est=4.228359415745158, details={'was_impossible': False}),\n",
       " Prediction(uid=75434, iid=1672, r_ui=3.0, est=3.3786733783038856, details={'was_impossible': False}),\n",
       " Prediction(uid=116656, iid=75, r_ui=4.0, est=3.9672159213727585, details={'was_impossible': False}),\n",
       " Prediction(uid=48188, iid=7613, r_ui=1.0, est=2.632303603074721, details={'was_impossible': False}),\n",
       " Prediction(uid=3889, iid=10242, r_ui=4.0, est=3.778800360069615, details={'was_impossible': False}),\n",
       " Prediction(uid=56085, iid=1187, r_ui=4.0, est=3.3303380893292496, details={'was_impossible': False}),\n",
       " Prediction(uid=101192, iid=3039, r_ui=4.0, est=3.748751911325677, details={'was_impossible': False}),\n",
       " Prediction(uid=141382, iid=7581, r_ui=4.0, est=3.264812238913266, details={'was_impossible': False}),\n",
       " Prediction(uid=45833, iid=4207, r_ui=3.0, est=4.036145003243112, details={'was_impossible': False}),\n",
       " Prediction(uid=134097, iid=2229, r_ui=5.0, est=4.559027822267104, details={'was_impossible': False}),\n",
       " Prediction(uid=24823, iid=4494, r_ui=4.0, est=3.5916271505263477, details={'was_impossible': False}),\n",
       " Prediction(uid=44164, iid=5856, r_ui=5.0, est=4.340051409840894, details={'was_impossible': False}),\n",
       " Prediction(uid=19767, iid=573, r_ui=1.0, est=3.2676939322083194, details={'was_impossible': False}),\n",
       " Prediction(uid=34286, iid=64, r_ui=5.0, est=4.111751656305113, details={'was_impossible': False}),\n",
       " Prediction(uid=129185, iid=6656, r_ui=4.0, est=4.040435380768299, details={'was_impossible': False}),\n",
       " Prediction(uid=81988, iid=1247, r_ui=4.0, est=3.3888415232496425, details={'was_impossible': False}),\n",
       " Prediction(uid=109037, iid=1926, r_ui=5.0, est=3.7781046342745617, details={'was_impossible': False}),\n",
       " Prediction(uid=6090, iid=5506, r_ui=4.0, est=4.052227699537685, details={'was_impossible': False}),\n",
       " Prediction(uid=25941, iid=4676, r_ui=4.0, est=3.99954198275931, details={'was_impossible': False}),\n",
       " Prediction(uid=166816, iid=4708, r_ui=1.0, est=2.808600203528711, details={'was_impossible': False}),\n",
       " Prediction(uid=156450, iid=11185, r_ui=2.0, est=3.5450944982250694, details={'was_impossible': False}),\n",
       " Prediction(uid=72289, iid=10797, r_ui=5.0, est=4.512368424518896, details={'was_impossible': False}),\n",
       " Prediction(uid=48362, iid=2738, r_ui=5.0, est=2.4776553450537473, details={'was_impossible': False}),\n",
       " Prediction(uid=35234, iid=5208, r_ui=2.0, est=3.643388799883425, details={'was_impossible': False}),\n",
       " Prediction(uid=124772, iid=3212, r_ui=5.0, est=3.899808242012475, details={'was_impossible': False}),\n",
       " Prediction(uid=163285, iid=6790, r_ui=5.0, est=4.044969537344656, details={'was_impossible': False}),\n",
       " Prediction(uid=42303, iid=13500, r_ui=4.0, est=3.366627094536961, details={'was_impossible': False}),\n",
       " Prediction(uid=32269, iid=114, r_ui=2.0, est=4.03921330399301, details={'was_impossible': False}),\n",
       " Prediction(uid=28318, iid=7285, r_ui=2.0, est=3.2504496213131167, details={'was_impossible': False}),\n",
       " Prediction(uid=104749, iid=9458, r_ui=3.0, est=3.201035107912952, details={'was_impossible': False}),\n",
       " Prediction(uid=70050, iid=6893, r_ui=5.0, est=4.509630569280911, details={'was_impossible': False}),\n",
       " Prediction(uid=80401, iid=4691, r_ui=1.0, est=3.506845663785564, details={'was_impossible': False}),\n",
       " Prediction(uid=35953, iid=10293, r_ui=2.0, est=3.8668580488995445, details={'was_impossible': False}),\n",
       " Prediction(uid=444, iid=5459, r_ui=3.0, est=3.264358298818168, details={'was_impossible': False}),\n",
       " Prediction(uid=50387, iid=3972, r_ui=1.0, est=2.397806690892567, details={'was_impossible': False}),\n",
       " Prediction(uid=91944, iid=4634, r_ui=5.0, est=4.203557179877186, details={'was_impossible': False}),\n",
       " Prediction(uid=136121, iid=53, r_ui=1.0, est=3.682392700802877, details={'was_impossible': False}),\n",
       " Prediction(uid=75804, iid=3216, r_ui=4.0, est=4.443373100617508, details={'was_impossible': False}),\n",
       " Prediction(uid=87926, iid=391, r_ui=4.0, est=4.4499274566509435, details={'was_impossible': False}),\n",
       " Prediction(uid=547, iid=5345, r_ui=2.0, est=4.246838063183696, details={'was_impossible': False}),\n",
       " Prediction(uid=194993, iid=10826, r_ui=3.0, est=3.1510476290795797, details={'was_impossible': False}),\n",
       " Prediction(uid=178276, iid=931, r_ui=4.0, est=4.220566530173871, details={'was_impossible': False}),\n",
       " Prediction(uid=17285, iid=2076, r_ui=3.0, est=4.094711896290148, details={'was_impossible': False}),\n",
       " Prediction(uid=64726, iid=2269, r_ui=5.0, est=3.105408703987601, details={'was_impossible': False}),\n",
       " Prediction(uid=63961, iid=51, r_ui=5.0, est=3.900268283287636, details={'was_impossible': False}),\n",
       " Prediction(uid=131504, iid=10521, r_ui=5.0, est=4.09797465338338, details={'was_impossible': False}),\n",
       " Prediction(uid=110591, iid=7566, r_ui=5.0, est=2.4254318903151266, details={'was_impossible': False}),\n",
       " Prediction(uid=125592, iid=5715, r_ui=5.0, est=4.33136919764086, details={'was_impossible': False}),\n",
       " Prediction(uid=152453, iid=5646, r_ui=2.0, est=4.286444385448366, details={'was_impossible': False}),\n",
       " Prediction(uid=135037, iid=294, r_ui=1.0, est=3.8903964260051596, details={'was_impossible': False}),\n",
       " Prediction(uid=38430, iid=5064, r_ui=2.0, est=3.5987331847068433, details={'was_impossible': False}),\n",
       " Prediction(uid=55660, iid=12495, r_ui=4.0, est=3.3227135226128586, details={'was_impossible': False}),\n",
       " Prediction(uid=84100, iid=410, r_ui=4.0, est=4.2340220603958665, details={'was_impossible': False}),\n",
       " Prediction(uid=48173, iid=6623, r_ui=5.0, est=3.9392608997083673, details={'was_impossible': False}),\n",
       " Prediction(uid=4540, iid=6811, r_ui=4.0, est=3.1457133941985487, details={'was_impossible': False}),\n",
       " Prediction(uid=140071, iid=5068, r_ui=5.0, est=3.96586169060433, details={'was_impossible': False}),\n",
       " Prediction(uid=113522, iid=742, r_ui=5.0, est=4.3310434686206225, details={'was_impossible': False}),\n",
       " Prediction(uid=44053, iid=1803, r_ui=5.0, est=4.267600121379145, details={'was_impossible': False}),\n",
       " Prediction(uid=170620, iid=11439, r_ui=2.0, est=3.2215869584393664, details={'was_impossible': False}),\n",
       " Prediction(uid=2910, iid=3500, r_ui=5.0, est=3.3692420463689055, details={'was_impossible': False}),\n",
       " Prediction(uid=1815, iid=5981, r_ui=3.0, est=3.3251132336637155, details={'was_impossible': False}),\n",
       " Prediction(uid=48804, iid=1370, r_ui=4.0, est=3.921647872643437, details={'was_impossible': False}),\n",
       " Prediction(uid=46748, iid=1054, r_ui=5.0, est=4.601451092521529, details={'was_impossible': False}),\n",
       " Prediction(uid=41622, iid=2030, r_ui=2.0, est=2.4097158155086547, details={'was_impossible': False}),\n",
       " Prediction(uid=33334, iid=714, r_ui=5.0, est=3.6401172774249315, details={'was_impossible': False}),\n",
       " Prediction(uid=4166, iid=2893, r_ui=5.0, est=3.994780813400803, details={'was_impossible': False}),\n",
       " Prediction(uid=33258, iid=5777, r_ui=4.0, est=4.5951352232986, details={'was_impossible': False}),\n",
       " Prediction(uid=27423, iid=11267, r_ui=4.0, est=3.9080670978083694, details={'was_impossible': False}),\n",
       " Prediction(uid=187491, iid=194, r_ui=3.0, est=3.6232427142125054, details={'was_impossible': False}),\n",
       " Prediction(uid=77347, iid=5630, r_ui=5.0, est=3.9769237427327484, details={'was_impossible': False}),\n",
       " Prediction(uid=62442, iid=2048, r_ui=1.0, est=4.1758622739950475, details={'was_impossible': False}),\n",
       " Prediction(uid=41934, iid=6406, r_ui=1.0, est=3.2723964985629443, details={'was_impossible': False}),\n",
       " Prediction(uid=92830, iid=113, r_ui=4.0, est=3.5770560563898712, details={'was_impossible': False}),\n",
       " Prediction(uid=185693, iid=5704, r_ui=5.0, est=4.703810612164108, details={'was_impossible': False}),\n",
       " Prediction(uid=54237, iid=185, r_ui=4.0, est=4.259024517593192, details={'was_impossible': False}),\n",
       " Prediction(uid=69518, iid=3189, r_ui=5.0, est=3.4891015750261065, details={'was_impossible': False}),\n",
       " Prediction(uid=95, iid=2159, r_ui=5.0, est=4.217907518080451, details={'was_impossible': False}),\n",
       " Prediction(uid=36554, iid=1310, r_ui=4.0, est=3.163076044578784, details={'was_impossible': False}),\n",
       " Prediction(uid=43865, iid=995, r_ui=5.0, est=4.2804453968005856, details={'was_impossible': False}),\n",
       " Prediction(uid=90358, iid=6682, r_ui=1.0, est=4.031038853052104, details={'was_impossible': False}),\n",
       " Prediction(uid=38601, iid=5233, r_ui=5.0, est=4.029963889921709, details={'was_impossible': False}),\n",
       " Prediction(uid=71642, iid=233, r_ui=4.0, est=3.3849410324744102, details={'was_impossible': False}),\n",
       " Prediction(uid=153358, iid=6334, r_ui=5.0, est=3.6998274125292876, details={'was_impossible': False}),\n",
       " Prediction(uid=36708, iid=783, r_ui=3.0, est=3.013746439180975, details={'was_impossible': False}),\n",
       " Prediction(uid=69477, iid=29, r_ui=4.0, est=3.976780714197178, details={'was_impossible': False}),\n",
       " Prediction(uid=2688, iid=8878, r_ui=4.0, est=3.54182896361069, details={'was_impossible': False}),\n",
       " Prediction(uid=50515, iid=178, r_ui=1.0, est=3.861421465594347, details={'was_impossible': False}),\n",
       " Prediction(uid=202858, iid=7348, r_ui=2.0, est=3.623447874924443, details={'was_impossible': False}),\n",
       " Prediction(uid=91730, iid=2676, r_ui=3.0, est=4.293568598575564, details={'was_impossible': False}),\n",
       " Prediction(uid=102909, iid=9233, r_ui=1.0, est=4.123552416834821, details={'was_impossible': False}),\n",
       " Prediction(uid=67311, iid=5130, r_ui=5.0, est=3.618126980901515, details={'was_impossible': False}),\n",
       " Prediction(uid=59195, iid=9234, r_ui=1.0, est=4.227454375892737, details={'was_impossible': False}),\n",
       " Prediction(uid=125101, iid=12546, r_ui=5.0, est=3.234503989713823, details={'was_impossible': False}),\n",
       " Prediction(uid=109298, iid=8165, r_ui=5.0, est=4.257820834927228, details={'was_impossible': False}),\n",
       " Prediction(uid=16174, iid=10564, r_ui=2.0, est=2.62930446817467, details={'was_impossible': False}),\n",
       " Prediction(uid=85236, iid=76, r_ui=4.0, est=3.8339651649059787, details={'was_impossible': False}),\n",
       " Prediction(uid=192256, iid=169, r_ui=5.0, est=4.534320953737883, details={'was_impossible': False}),\n",
       " Prediction(uid=35493, iid=5185, r_ui=1.0, est=3.7722225654134096, details={'was_impossible': False}),\n",
       " Prediction(uid=136733, iid=1478, r_ui=5.0, est=3.956827471986956, details={'was_impossible': False}),\n",
       " Prediction(uid=139946, iid=1989, r_ui=4.0, est=3.585774844176628, details={'was_impossible': False}),\n",
       " Prediction(uid=32047, iid=3499, r_ui=1.0, est=3.8561660847388985, details={'was_impossible': False}),\n",
       " Prediction(uid=152163, iid=5952, r_ui=5.0, est=3.697109291871397, details={'was_impossible': False}),\n",
       " Prediction(uid=486, iid=3837, r_ui=5.0, est=4.282083386244283, details={'was_impossible': False}),\n",
       " Prediction(uid=154628, iid=6131, r_ui=4.0, est=3.5970520683173053, details={'was_impossible': False}),\n",
       " Prediction(uid=33685, iid=4103, r_ui=5.0, est=3.5308095446925205, details={'was_impossible': False}),\n",
       " Prediction(uid=30976, iid=2556, r_ui=2.0, est=3.0978566277499935, details={'was_impossible': False}),\n",
       " Prediction(uid=19018, iid=9288, r_ui=4.0, est=3.2760421771398387, details={'was_impossible': False}),\n",
       " Prediction(uid=20701, iid=5422, r_ui=5.0, est=3.4483497326842367, details={'was_impossible': False}),\n",
       " Prediction(uid=159321, iid=2427, r_ui=5.0, est=4.606245842248138, details={'was_impossible': False}),\n",
       " Prediction(uid=598, iid=6478, r_ui=3.0, est=3.962681985021628, details={'was_impossible': False}),\n",
       " Prediction(uid=24360, iid=2039, r_ui=4.0, est=4.255411892715848, details={'was_impossible': False}),\n",
       " Prediction(uid=165323, iid=5826, r_ui=5.0, est=4.505733387604514, details={'was_impossible': False}),\n",
       " Prediction(uid=32935, iid=6738, r_ui=5.0, est=4.198827815213369, details={'was_impossible': False}),\n",
       " Prediction(uid=46136, iid=1290, r_ui=1.0, est=3.1074146562873755, details={'was_impossible': False}),\n",
       " Prediction(uid=165524, iid=6617, r_ui=5.0, est=3.968357708887914, details={'was_impossible': False}),\n",
       " Prediction(uid=159645, iid=2450, r_ui=5.0, est=3.398761870312788, details={'was_impossible': False}),\n",
       " Prediction(uid=137418, iid=3920, r_ui=4.0, est=3.899384177512254, details={'was_impossible': False}),\n",
       " Prediction(uid=1189, iid=1364, r_ui=3.0, est=3.2807296692042476, details={'was_impossible': False}),\n",
       " Prediction(uid=6654, iid=3519, r_ui=4.0, est=3.8059521758189536, details={'was_impossible': False}),\n",
       " Prediction(uid=6823, iid=3494, r_ui=2.0, est=3.395286842087188, details={'was_impossible': False}),\n",
       " Prediction(uid=93990, iid=31, r_ui=4.0, est=4.167326640175562, details={'was_impossible': False}),\n",
       " Prediction(uid=77889, iid=4658, r_ui=5.0, est=4.591209096346954, details={'was_impossible': False}),\n",
       " Prediction(uid=198590, iid=722, r_ui=4.0, est=4.374345487912074, details={'was_impossible': False}),\n",
       " Prediction(uid=41904, iid=445, r_ui=4.0, est=4.3024625887604495, details={'was_impossible': False}),\n",
       " Prediction(uid=29049, iid=9831, r_ui=5.0, est=4.052075073663712, details={'was_impossible': False}),\n",
       " Prediction(uid=486, iid=788, r_ui=5.0, est=3.995453005287649, details={'was_impossible': False}),\n",
       " Prediction(uid=111832, iid=1365, r_ui=5.0, est=3.6247651879116765, details={'was_impossible': False}),\n",
       " Prediction(uid=20334, iid=3093, r_ui=5.0, est=4.374475182054836, details={'was_impossible': False}),\n",
       " Prediction(uid=25966, iid=4927, r_ui=2.0, est=4.391651491710104, details={'was_impossible': False}),\n",
       " Prediction(uid=7760, iid=6505, r_ui=2.0, est=3.054988764093765, details={'was_impossible': False}),\n",
       " Prediction(uid=442, iid=463, r_ui=4.0, est=3.99151052714323, details={'was_impossible': False}),\n",
       " Prediction(uid=44679, iid=9466, r_ui=5.0, est=4.0885509724266855, details={'was_impossible': False}),\n",
       " Prediction(uid=102421, iid=9799, r_ui=1.0, est=2.6693754354741674, details={'was_impossible': False}),\n",
       " Prediction(uid=68358, iid=636, r_ui=5.0, est=4.3975333987236525, details={'was_impossible': False}),\n",
       " Prediction(uid=28234, iid=7444, r_ui=2.0, est=3.8806163964652662, details={'was_impossible': False}),\n",
       " Prediction(uid=162455, iid=513, r_ui=1.0, est=3.9658965384097, details={'was_impossible': False}),\n",
       " Prediction(uid=11051, iid=420, r_ui=4.0, est=4.1173120276090795, details={'was_impossible': False}),\n",
       " Prediction(uid=22483, iid=9418, r_ui=4.0, est=3.8157964559908173, details={'was_impossible': False}),\n",
       " Prediction(uid=49826, iid=227, r_ui=3.0, est=4.039495160355175, details={'was_impossible': False}),\n",
       " Prediction(uid=17973, iid=2594, r_ui=5.0, est=4.170656599000322, details={'was_impossible': False}),\n",
       " Prediction(uid=67749, iid=26, r_ui=5.0, est=4.053179962257888, details={'was_impossible': False}),\n",
       " Prediction(uid=189276, iid=13, r_ui=5.0, est=3.953698595710453, details={'was_impossible': False}),\n",
       " Prediction(uid=148726, iid=4789, r_ui=4.0, est=3.66275989416954, details={'was_impossible': False}),\n",
       " Prediction(uid=18248, iid=1537, r_ui=5.0, est=4.5388688879666095, details={'was_impossible': False}),\n",
       " Prediction(uid=59935, iid=907, r_ui=4.0, est=4.150718122051164, details={'was_impossible': False}),\n",
       " Prediction(uid=93852, iid=2174, r_ui=4.0, est=4.539332421843912, details={'was_impossible': False}),\n",
       " Prediction(uid=10563, iid=5249, r_ui=1.0, est=4.825813175164395, details={'was_impossible': False}),\n",
       " Prediction(uid=103897, iid=2207, r_ui=5.0, est=4.295782960642756, details={'was_impossible': False}),\n",
       " Prediction(uid=50035, iid=15, r_ui=5.0, est=4.321326685021661, details={'was_impossible': False}),\n",
       " Prediction(uid=107747, iid=12262, r_ui=5.0, est=3.2164197385463913, details={'was_impossible': False}),\n",
       " Prediction(uid=12707, iid=3853, r_ui=4.0, est=4.426858022782009, details={'was_impossible': False}),\n",
       " Prediction(uid=191994, iid=1378, r_ui=4.0, est=4.376939056026163, details={'was_impossible': False}),\n",
       " Prediction(uid=40992, iid=64, r_ui=5.0, est=4.181330220396613, details={'was_impossible': False}),\n",
       " Prediction(uid=8884, iid=4473, r_ui=1.0, est=3.203024805994966, details={'was_impossible': False}),\n",
       " Prediction(uid=92283, iid=524, r_ui=3.0, est=4.244546853194461, details={'was_impossible': False}),\n",
       " Prediction(uid=66661, iid=5169, r_ui=5.0, est=4.292587048272433, details={'was_impossible': False}),\n",
       " Prediction(uid=17965, iid=1644, r_ui=5.0, est=4.023842995120097, details={'was_impossible': False}),\n",
       " Prediction(uid=20411, iid=1235, r_ui=5.0, est=4.648410273914426, details={'was_impossible': False}),\n",
       " Prediction(uid=910, iid=3259, r_ui=5.0, est=4.369302332467283, details={'was_impossible': False}),\n",
       " Prediction(uid=75648, iid=2079, r_ui=4.0, est=4.176839882604718, details={'was_impossible': False}),\n",
       " Prediction(uid=89494, iid=3676, r_ui=1.0, est=4.123528476787897, details={'was_impossible': False}),\n",
       " Prediction(uid=4762, iid=5234, r_ui=5.0, est=4.399405109051735, details={'was_impossible': False}),\n",
       " Prediction(uid=116024, iid=13370, r_ui=5.0, est=2.97193920016807, details={'was_impossible': False}),\n",
       " Prediction(uid=23099, iid=5315, r_ui=4.0, est=3.4046883547663165, details={'was_impossible': False}),\n",
       " Prediction(uid=18792, iid=3051, r_ui=4.0, est=4.33617939252165, details={'was_impossible': False}),\n",
       " Prediction(uid=149619, iid=5616, r_ui=5.0, est=3.8908458551314524, details={'was_impossible': False}),\n",
       " Prediction(uid=53127, iid=7930, r_ui=1.0, est=4.029489080543299, details={'was_impossible': False}),\n",
       " Prediction(uid=48607, iid=3582, r_ui=5.0, est=3.9887631673267725, details={'was_impossible': False}),\n",
       " Prediction(uid=111120, iid=7232, r_ui=2.0, est=2.9978479641195452, details={'was_impossible': False}),\n",
       " Prediction(uid=82875, iid=2773, r_ui=5.0, est=3.882721090616101, details={'was_impossible': False}),\n",
       " Prediction(uid=3870, iid=8043, r_ui=5.0, est=4.254262509568248, details={'was_impossible': False}),\n",
       " Prediction(uid=161876, iid=5653, r_ui=1.0, est=3.7538774674923383, details={'was_impossible': False}),\n",
       " Prediction(uid=25148, iid=1492, r_ui=5.0, est=3.7570660598910552, details={'was_impossible': False}),\n",
       " Prediction(uid=107521, iid=11828, r_ui=5.0, est=3.169780634766587, details={'was_impossible': False}),\n",
       " Prediction(uid=46904, iid=4675, r_ui=2.0, est=3.3699258196204327, details={'was_impossible': False}),\n",
       " Prediction(uid=124033, iid=8593, r_ui=3.0, est=3.3539124323325145, details={'was_impossible': False}),\n",
       " Prediction(uid=48972, iid=3812, r_ui=1.0, est=3.5575219210419315, details={'was_impossible': False}),\n",
       " Prediction(uid=5133, iid=790, r_ui=3.0, est=2.994275762455796, details={'was_impossible': False}),\n",
       " Prediction(uid=23329, iid=3270, r_ui=2.0, est=3.7142812867280672, details={'was_impossible': False}),\n",
       " Prediction(uid=163086, iid=14329, r_ui=5.0, est=3.619626187546694, details={'was_impossible': False}),\n",
       " Prediction(uid=1409, iid=8197, r_ui=1.0, est=3.1613393636537035, details={'was_impossible': False}),\n",
       " Prediction(uid=33496, iid=7330, r_ui=1.0, est=2.780514995699419, details={'was_impossible': False}),\n",
       " Prediction(uid=70865, iid=3668, r_ui=4.0, est=3.841442244235452, details={'was_impossible': False}),\n",
       " Prediction(uid=185724, iid=7960, r_ui=5.0, est=4.105097453820793, details={'was_impossible': False}),\n",
       " Prediction(uid=1675, iid=7637, r_ui=3.0, est=3.150473482511903, details={'was_impossible': False}),\n",
       " Prediction(uid=18266, iid=1134, r_ui=3.0, est=2.741925971680968, details={'was_impossible': False}),\n",
       " Prediction(uid=49194, iid=3044, r_ui=5.0, est=3.268508853059664, details={'was_impossible': False}),\n",
       " Prediction(uid=38731, iid=5488, r_ui=1.0, est=3.2962014322216318, details={'was_impossible': False}),\n",
       " Prediction(uid=23002, iid=2046, r_ui=5.0, est=4.31239776435547, details={'was_impossible': False}),\n",
       " Prediction(uid=37534, iid=2186, r_ui=4.0, est=3.9562944912180384, details={'was_impossible': False}),\n",
       " Prediction(uid=128107, iid=3005, r_ui=3.0, est=3.894434151867749, details={'was_impossible': False}),\n",
       " Prediction(uid=73749, iid=3858, r_ui=2.0, est=4.080554323480866, details={'was_impossible': False}),\n",
       " Prediction(uid=75471, iid=191, r_ui=5.0, est=4.477001920088538, details={'was_impossible': False}),\n",
       " Prediction(uid=57289, iid=1427, r_ui=3.0, est=3.72053319246794, details={'was_impossible': False}),\n",
       " Prediction(uid=139845, iid=7821, r_ui=4.0, est=3.870373371291918, details={'was_impossible': False}),\n",
       " Prediction(uid=112080, iid=13032, r_ui=3.0, est=3.191639978736189, details={'was_impossible': False}),\n",
       " Prediction(uid=193759, iid=5082, r_ui=5.0, est=4.766306856482369, details={'was_impossible': False}),\n",
       " Prediction(uid=196897, iid=3419, r_ui=3.0, est=4.157014918528346, details={'was_impossible': False}),\n",
       " Prediction(uid=2896, iid=491, r_ui=4.0, est=4.011750973664373, details={'was_impossible': False}),\n",
       " Prediction(uid=2557, iid=10879, r_ui=2.0, est=3.0354733236239277, details={'was_impossible': False}),\n",
       " Prediction(uid=137635, iid=7790, r_ui=5.0, est=3.654651269772958, details={'was_impossible': False}),\n",
       " Prediction(uid=96522, iid=1372, r_ui=5.0, est=4.493166959642837, details={'was_impossible': False}),\n",
       " Prediction(uid=24106, iid=6994, r_ui=3.0, est=3.17869675714592, details={'was_impossible': False}),\n",
       " Prediction(uid=158090, iid=4633, r_ui=5.0, est=4.236664515609586, details={'was_impossible': False}),\n",
       " Prediction(uid=30416, iid=5463, r_ui=5.0, est=3.759865940678221, details={'was_impossible': False}),\n",
       " Prediction(uid=194003, iid=5024, r_ui=5.0, est=4.12366018697415, details={'was_impossible': False}),\n",
       " Prediction(uid=127770, iid=927, r_ui=5.0, est=3.091217878141321, details={'was_impossible': False}),\n",
       " Prediction(uid=7355, iid=1384, r_ui=5.0, est=3.3668166364911927, details={'was_impossible': False}),\n",
       " Prediction(uid=59177, iid=8582, r_ui=5.0, est=4.391327316374093, details={'was_impossible': False}),\n",
       " Prediction(uid=106212, iid=12423, r_ui=5.0, est=3.6937576798078062, details={'was_impossible': False}),\n",
       " Prediction(uid=18909, iid=3009, r_ui=5.0, est=3.594355666836889, details={'was_impossible': False}),\n",
       " Prediction(uid=2967, iid=12728, r_ui=4.0, est=2.738094872433944, details={'was_impossible': False}),\n",
       " Prediction(uid=7821, iid=11456, r_ui=1.0, est=2.7883979147751012, details={'was_impossible': False}),\n",
       " Prediction(uid=42607, iid=10798, r_ui=5.0, est=2.8380770730762417, details={'was_impossible': False}),\n",
       " Prediction(uid=7649, iid=409, r_ui=3.0, est=4.221986542485624, details={'was_impossible': False}),\n",
       " Prediction(uid=7772, iid=9703, r_ui=2.0, est=3.043315030519509, details={'was_impossible': False}),\n",
       " Prediction(uid=37217, iid=13038, r_ui=1.0, est=3.0071170488412937, details={'was_impossible': False}),\n",
       " Prediction(uid=153062, iid=9591, r_ui=5.0, est=3.8031902399917557, details={'was_impossible': False}),\n",
       " Prediction(uid=17580, iid=10101, r_ui=5.0, est=4.129405961434373, details={'was_impossible': False}),\n",
       " Prediction(uid=17926, iid=2470, r_ui=2.0, est=2.7106873962351563, details={'was_impossible': False}),\n",
       " Prediction(uid=10761, iid=6881, r_ui=5.0, est=4.000385511962399, details={'was_impossible': False}),\n",
       " Prediction(uid=112483, iid=795, r_ui=5.0, est=3.3559014612114564, details={'was_impossible': False}),\n",
       " Prediction(uid=6808, iid=160, r_ui=1.0, est=3.4029961694825426, details={'was_impossible': False}),\n",
       " Prediction(uid=12327, iid=7393, r_ui=4.0, est=4.238787860165285, details={'was_impossible': False}),\n",
       " Prediction(uid=56117, iid=1847, r_ui=1.0, est=3.1555860533839715, details={'was_impossible': False}),\n",
       " Prediction(uid=361, iid=5711, r_ui=5.0, est=4.357751912974499, details={'was_impossible': False}),\n",
       " Prediction(uid=32409, iid=9865, r_ui=1.0, est=2.977720657409519, details={'was_impossible': False}),\n",
       " Prediction(uid=117614, iid=6777, r_ui=5.0, est=4.170402933337937, details={'was_impossible': False}),\n",
       " Prediction(uid=47123, iid=31, r_ui=5.0, est=4.241415451848435, details={'was_impossible': False}),\n",
       " Prediction(uid=22342, iid=924, r_ui=3.0, est=3.3056279153223307, details={'was_impossible': False}),\n",
       " Prediction(uid=136425, iid=966, r_ui=5.0, est=4.303437028071662, details={'was_impossible': False}),\n",
       " Prediction(uid=10066, iid=3535, r_ui=5.0, est=5, details={'was_impossible': False}),\n",
       " Prediction(uid=126799, iid=13479, r_ui=5.0, est=3.4911086757064678, details={'was_impossible': False}),\n",
       " Prediction(uid=73451, iid=13713, r_ui=1.0, est=2.6631045298308886, details={'was_impossible': False}),\n",
       " Prediction(uid=26523, iid=3761, r_ui=4.0, est=3.596568304225806, details={'was_impossible': False}),\n",
       " Prediction(uid=93795, iid=1785, r_ui=5.0, est=3.915760066504537, details={'was_impossible': False}),\n",
       " Prediction(uid=34947, iid=13260, r_ui=5.0, est=4.314438338232183, details={'was_impossible': False}),\n",
       " Prediction(uid=5478, iid=3599, r_ui=5.0, est=4.368431382069801, details={'was_impossible': False}),\n",
       " Prediction(uid=128371, iid=3632, r_ui=5.0, est=4.238209439567817, details={'was_impossible': False}),\n",
       " Prediction(uid=135079, iid=5263, r_ui=5.0, est=4.493654610568399, details={'was_impossible': False}),\n",
       " Prediction(uid=61810, iid=2614, r_ui=3.0, est=3.835162791205011, details={'was_impossible': False}),\n",
       " Prediction(uid=23525, iid=1085, r_ui=5.0, est=3.314337317979337, details={'was_impossible': False}),\n",
       " Prediction(uid=19986, iid=69, r_ui=4.0, est=3.2603615682445555, details={'was_impossible': False}),\n",
       " Prediction(uid=101050, iid=7285, r_ui=1.0, est=2.935639460715656, details={'was_impossible': False}),\n",
       " Prediction(uid=60525, iid=8729, r_ui=5.0, est=4.073613136288736, details={'was_impossible': False}),\n",
       " Prediction(uid=4837, iid=5727, r_ui=4.0, est=3.54268898767234, details={'was_impossible': False}),\n",
       " Prediction(uid=151654, iid=2255, r_ui=4.0, est=4.018693688335962, details={'was_impossible': False}),\n",
       " Prediction(uid=52155, iid=4493, r_ui=4.0, est=3.745663291876063, details={'was_impossible': False}),\n",
       " Prediction(uid=98546, iid=4801, r_ui=1.0, est=3.3588464856348477, details={'was_impossible': False}),\n",
       " Prediction(uid=558, iid=7637, r_ui=3.0, est=3.9356701840096022, details={'was_impossible': False}),\n",
       " Prediction(uid=187874, iid=3609, r_ui=5.0, est=4.091125703738687, details={'was_impossible': False}),\n",
       " Prediction(uid=150394, iid=4707, r_ui=1.0, est=4.2721036906189624, details={'was_impossible': False}),\n",
       " Prediction(uid=66284, iid=4419, r_ui=3.0, est=3.185037109061065, details={'was_impossible': False}),\n",
       " Prediction(uid=53378, iid=3202, r_ui=2.0, est=4.136790160670364, details={'was_impossible': False}),\n",
       " Prediction(uid=182441, iid=3356, r_ui=3.0, est=3.6294023831285975, details={'was_impossible': False}),\n",
       " Prediction(uid=4170, iid=2726, r_ui=4.0, est=4.199579412806289, details={'was_impossible': False}),\n",
       " Prediction(uid=63039, iid=2661, r_ui=5.0, est=4.1831261765862235, details={'was_impossible': False}),\n",
       " Prediction(uid=42942, iid=2045, r_ui=3.0, est=3.7930400075013817, details={'was_impossible': False}),\n",
       " Prediction(uid=144964, iid=5115, r_ui=3.0, est=3.6640956857526468, details={'was_impossible': False}),\n",
       " Prediction(uid=42976, iid=9294, r_ui=4.0, est=3.4653657757352074, details={'was_impossible': False}),\n",
       " Prediction(uid=1367, iid=1752, r_ui=2.0, est=3.6115379581455778, details={'was_impossible': False}),\n",
       " Prediction(uid=35947, iid=7488, r_ui=5.0, est=3.890026624266871, details={'was_impossible': False}),\n",
       " Prediction(uid=28410, iid=5662, r_ui=5.0, est=4.30630905554784, details={'was_impossible': False}),\n",
       " Prediction(uid=24038, iid=918, r_ui=3.0, est=3.6007999754511055, details={'was_impossible': False}),\n",
       " Prediction(uid=68127, iid=5230, r_ui=3.0, est=3.5769715825568626, details={'was_impossible': False}),\n",
       " Prediction(uid=4145, iid=159, r_ui=5.0, est=3.8567040968010744, details={'was_impossible': False}),\n",
       " Prediction(uid=10633, iid=4675, r_ui=4.0, est=3.165234219713728, details={'was_impossible': False}),\n",
       " Prediction(uid=66949, iid=2742, r_ui=3.0, est=3.9716903621928394, details={'was_impossible': False}),\n",
       " Prediction(uid=23998, iid=2810, r_ui=3.0, est=4.005735251648399, details={'was_impossible': False}),\n",
       " Prediction(uid=13036, iid=1842, r_ui=4.0, est=3.7919925048271295, details={'was_impossible': False}),\n",
       " Prediction(uid=22730, iid=14046, r_ui=1.0, est=3.6033369811643783, details={'was_impossible': False}),\n",
       " Prediction(uid=68032, iid=46, r_ui=5.0, est=3.7778359907567807, details={'was_impossible': False}),\n",
       " Prediction(uid=18216, iid=1469, r_ui=4.0, est=4.622845515648471, details={'was_impossible': False}),\n",
       " Prediction(uid=97462, iid=2970, r_ui=1.0, est=3.628995981378705, details={'was_impossible': False}),\n",
       " Prediction(uid=76250, iid=457, r_ui=5.0, est=3.5560333998606017, details={'was_impossible': False}),\n",
       " Prediction(uid=184492, iid=2781, r_ui=5.0, est=3.9523824071671805, details={'was_impossible': False}),\n",
       " Prediction(uid=118692, iid=1008, r_ui=4.0, est=4.237487645427844, details={'was_impossible': False}),\n",
       " Prediction(uid=171241, iid=438, r_ui=4.0, est=4.139293795445854, details={'was_impossible': False}),\n",
       " Prediction(uid=65481, iid=11825, r_ui=3.0, est=2.7572970042362077, details={'was_impossible': False}),\n",
       " Prediction(uid=102302, iid=1015, r_ui=5.0, est=4.012541499826217, details={'was_impossible': False}),\n",
       " Prediction(uid=122450, iid=64, r_ui=4.0, est=3.8321409601990273, details={'was_impossible': False}),\n",
       " Prediction(uid=33365, iid=908, r_ui=1.0, est=3.9844297083509685, details={'was_impossible': False}),\n",
       " Prediction(uid=105710, iid=4896, r_ui=3.0, est=3.64551321667808, details={'was_impossible': False}),\n",
       " Prediction(uid=21428, iid=1263, r_ui=5.0, est=3.4941048960892096, details={'was_impossible': False}),\n",
       " Prediction(uid=103978, iid=8468, r_ui=1.0, est=2.7847410846654546, details={'was_impossible': False}),\n",
       " Prediction(uid=42754, iid=7925, r_ui=5.0, est=3.7802815937119596, details={'was_impossible': False}),\n",
       " Prediction(uid=46012, iid=1166, r_ui=4.0, est=2.8211442208631223, details={'was_impossible': False}),\n",
       " Prediction(uid=95195, iid=2060, r_ui=5.0, est=4.564494474369619, details={'was_impossible': False}),\n",
       " Prediction(uid=56963, iid=19, r_ui=4.0, est=4.024629756691829, details={'was_impossible': False}),\n",
       " Prediction(uid=149401, iid=1106, r_ui=3.0, est=3.3799998102296294, details={'was_impossible': False}),\n",
       " Prediction(uid=88477, iid=952, r_ui=3.0, est=2.4998588037813185, details={'was_impossible': False}),\n",
       " Prediction(uid=32767, iid=1470, r_ui=5.0, est=4.320770705062868, details={'was_impossible': False}),\n",
       " Prediction(uid=116555, iid=75, r_ui=5.0, est=4.042069168764028, details={'was_impossible': False}),\n",
       " Prediction(uid=139886, iid=13341, r_ui=2.0, est=1.8827879549445752, details={'was_impossible': False}),\n",
       " Prediction(uid=76386, iid=4350, r_ui=3.0, est=3.0731260260069018, details={'was_impossible': False}),\n",
       " Prediction(uid=1567, iid=445, r_ui=4.0, est=3.654416455273506, details={'was_impossible': False}),\n",
       " Prediction(uid=49014, iid=1784, r_ui=3.0, est=3.7683196409837754, details={'was_impossible': False}),\n",
       " Prediction(uid=37982, iid=546, r_ui=4.0, est=4.277871864451419, details={'was_impossible': False}),\n",
       " Prediction(uid=101526, iid=2467, r_ui=5.0, est=4.617493467159282, details={'was_impossible': False}),\n",
       " Prediction(uid=7670, iid=6404, r_ui=3.0, est=3.538911027666805, details={'was_impossible': False}),\n",
       " Prediction(uid=62108, iid=965, r_ui=4.0, est=3.826810635245021, details={'was_impossible': False}),\n",
       " Prediction(uid=16036, iid=18, r_ui=5.0, est=4.095879024127068, details={'was_impossible': False}),\n",
       " Prediction(uid=3148, iid=4960, r_ui=4.0, est=3.984759479305486, details={'was_impossible': False}),\n",
       " Prediction(uid=16466, iid=4763, r_ui=3.0, est=3.507713695065755, details={'was_impossible': False}),\n",
       " Prediction(uid=39340, iid=3604, r_ui=5.0, est=4.128186970862844, details={'was_impossible': False}),\n",
       " Prediction(uid=139619, iid=2105, r_ui=4.0, est=4.093222164841869, details={'was_impossible': False}),\n",
       " Prediction(uid=43257, iid=26, r_ui=3.0, est=3.3021782062487843, details={'was_impossible': False}),\n",
       " Prediction(uid=2835, iid=10266, r_ui=5.0, est=3.289728971243791, details={'was_impossible': False}),\n",
       " Prediction(uid=874, iid=9208, r_ui=3.0, est=3.2155807234992295, details={'was_impossible': False}),\n",
       " Prediction(uid=60956, iid=4678, r_ui=4.0, est=4.345998109009832, details={'was_impossible': False}),\n",
       " Prediction(uid=43726, iid=4485, r_ui=5.0, est=3.5264738033883805, details={'was_impossible': False}),\n",
       " Prediction(uid=17024, iid=7425, r_ui=1.0, est=3.8159850575270537, details={'was_impossible': False}),\n",
       " Prediction(uid=47143, iid=4434, r_ui=5.0, est=3.8624178837392744, details={'was_impossible': False}),\n",
       " Prediction(uid=55176, iid=7735, r_ui=3.0, est=2.866614417287816, details={'was_impossible': False}),\n",
       " Prediction(uid=31502, iid=550, r_ui=5.0, est=3.890059948877534, details={'was_impossible': False}),\n",
       " Prediction(uid=107284, iid=11240, r_ui=1.0, est=4.355420283013037, details={'was_impossible': False}),\n",
       " Prediction(uid=717, iid=393, r_ui=1.0, est=3.7435239935601405, details={'was_impossible': False}),\n",
       " Prediction(uid=35767, iid=5222, r_ui=3.0, est=3.478612175657168, details={'was_impossible': False}),\n",
       " Prediction(uid=24421, iid=13499, r_ui=4.0, est=2.854618353795404, details={'was_impossible': False}),\n",
       " Prediction(uid=27931, iid=8697, r_ui=2.0, est=3.333572315168026, details={'was_impossible': False}),\n",
       " Prediction(uid=17988, iid=3210, r_ui=3.0, est=3.79796328854876, details={'was_impossible': False}),\n",
       " Prediction(uid=158833, iid=2862, r_ui=2.0, est=3.8109882648891245, details={'was_impossible': False}),\n",
       " Prediction(uid=144305, iid=778, r_ui=5.0, est=4.398415683098405, details={'was_impossible': False}),\n",
       " Prediction(uid=3522, iid=5127, r_ui=4.0, est=4.115517964649408, details={'was_impossible': False}),\n",
       " Prediction(uid=25962, iid=263, r_ui=3.0, est=4.5626587376649335, details={'was_impossible': False}),\n",
       " Prediction(uid=161365, iid=5082, r_ui=5.0, est=3.5165165312634508, details={'was_impossible': False}),\n",
       " Prediction(uid=43308, iid=1000, r_ui=3.0, est=3.61088430980994, details={'was_impossible': False}),\n",
       " Prediction(uid=39251, iid=1934, r_ui=1.0, est=2.7547860370114314, details={'was_impossible': False}),\n",
       " Prediction(uid=4077, iid=1956, r_ui=5.0, est=4.405867762075515, details={'was_impossible': False}),\n",
       " Prediction(uid=179022, iid=1595, r_ui=4.0, est=3.796819908621435, details={'was_impossible': False}),\n",
       " Prediction(uid=31145, iid=10040, r_ui=5.0, est=2.3116545764176766, details={'was_impossible': False}),\n",
       " Prediction(uid=33782, iid=9031, r_ui=5.0, est=4.315978914324586, details={'was_impossible': False}),\n",
       " Prediction(uid=169796, iid=524, r_ui=4.0, est=4.2093969785927055, details={'was_impossible': False}),\n",
       " Prediction(uid=71968, iid=5514, r_ui=1.0, est=3.386442827598254, details={'was_impossible': False}),\n",
       " Prediction(uid=31392, iid=5259, r_ui=3.0, est=3.3872600285622094, details={'was_impossible': False}),\n",
       " Prediction(uid=144443, iid=4245, r_ui=4.0, est=3.721218697057433, details={'was_impossible': False}),\n",
       " Prediction(uid=120397, iid=198, r_ui=4.0, est=4.041574184115886, details={'was_impossible': False}),\n",
       " Prediction(uid=2925, iid=7980, r_ui=2.0, est=2.2104392995162687, details={'was_impossible': False}),\n",
       " Prediction(uid=73064, iid=1818, r_ui=5.0, est=4.111485271061267, details={'was_impossible': False}),\n",
       " Prediction(uid=36631, iid=6787, r_ui=1.0, est=4.1594065878232005, details={'was_impossible': False}),\n",
       " Prediction(uid=123823, iid=448, r_ui=1.0, est=3.5938039323821545, details={'was_impossible': False}),\n",
       " Prediction(uid=77957, iid=4414, r_ui=2.0, est=3.323135395701443, details={'was_impossible': False}),\n",
       " Prediction(uid=10391, iid=6295, r_ui=3.0, est=4.12645080646556, details={'was_impossible': False}),\n",
       " Prediction(uid=22166, iid=86, r_ui=5.0, est=3.9131814260263718, details={'was_impossible': False}),\n",
       " Prediction(uid=20652, iid=3483, r_ui=3.0, est=3.928421442714587, details={'was_impossible': False}),\n",
       " Prediction(uid=32913, iid=5275, r_ui=5.0, est=4.274357053176558, details={'was_impossible': False}),\n",
       " Prediction(uid=2277, iid=2737, r_ui=4.0, est=3.6646284048537803, details={'was_impossible': False}),\n",
       " Prediction(uid=5286, iid=5771, r_ui=4.0, est=4.045587124926213, details={'was_impossible': False}),\n",
       " Prediction(uid=65532, iid=2340, r_ui=4.0, est=3.6950332841708735, details={'was_impossible': False}),\n",
       " Prediction(uid=106077, iid=2359, r_ui=1.0, est=3.2493224384535835, details={'was_impossible': False}),\n",
       " Prediction(uid=2746, iid=791, r_ui=4.0, est=3.2911016670076254, details={'was_impossible': False}),\n",
       " Prediction(uid=13626, iid=2487, r_ui=1.0, est=3.0034644213721267, details={'was_impossible': False}),\n",
       " Prediction(uid=3213, iid=1566, r_ui=2.0, est=3.0690503464759997, details={'was_impossible': False}),\n",
       " Prediction(uid=15846, iid=1039, r_ui=3.0, est=3.206971079074771, details={'was_impossible': False}),\n",
       " Prediction(uid=2391, iid=7425, r_ui=4.0, est=3.3954390835005457, details={'was_impossible': False}),\n",
       " Prediction(uid=146981, iid=6936, r_ui=5.0, est=3.751598263511215, details={'was_impossible': False}),\n",
       " Prediction(uid=88226, iid=255, r_ui=5.0, est=3.8343916714191986, details={'was_impossible': False}),\n",
       " Prediction(uid=113509, iid=8602, r_ui=5.0, est=4.051854035642652, details={'was_impossible': False}),\n",
       " Prediction(uid=200202, iid=3915, r_ui=4.0, est=3.8345113171040177, details={'was_impossible': False}),\n",
       " Prediction(uid=7233, iid=3762, r_ui=5.0, est=4.108369409854292, details={'was_impossible': False}),\n",
       " Prediction(uid=156498, iid=11692, r_ui=4.0, est=4.144603265281271, details={'was_impossible': False}),\n",
       " Prediction(uid=8458, iid=3510, r_ui=4.0, est=3.026964229631738, details={'was_impossible': False}),\n",
       " Prediction(uid=19113, iid=1212, r_ui=5.0, est=3.996181215034086, details={'was_impossible': False}),\n",
       " Prediction(uid=21058, iid=124, r_ui=4.0, est=3.8768904450933723, details={'was_impossible': False}),\n",
       " Prediction(uid=58287, iid=4814, r_ui=4.0, est=4.220778559801307, details={'was_impossible': False}),\n",
       " Prediction(uid=30878, iid=9438, r_ui=4.0, est=4.153736537070413, details={'was_impossible': False}),\n",
       " Prediction(uid=150091, iid=11237, r_ui=1.0, est=3.0637155448329816, details={'was_impossible': False}),\n",
       " Prediction(uid=103431, iid=1232, r_ui=5.0, est=4.404065080406615, details={'was_impossible': False}),\n",
       " Prediction(uid=88554, iid=3948, r_ui=4.0, est=4.29300981027494, details={'was_impossible': False}),\n",
       " Prediction(uid=20625, iid=4424, r_ui=3.0, est=2.9246425333023294, details={'was_impossible': False}),\n",
       " Prediction(uid=123329, iid=5406, r_ui=5.0, est=4.786543252252459, details={'was_impossible': False}),\n",
       " Prediction(uid=178490, iid=2339, r_ui=2.0, est=4.132524500281039, details={'was_impossible': False}),\n",
       " Prediction(uid=4476, iid=504, r_ui=5.0, est=4.7136144878339445, details={'was_impossible': False}),\n",
       " Prediction(uid=100778, iid=6750, r_ui=5.0, est=2.8896687176210807, details={'was_impossible': False}),\n",
       " Prediction(uid=31666, iid=4832, r_ui=1.0, est=3.6677218920798254, details={'was_impossible': False}),\n",
       " Prediction(uid=20666, iid=1712, r_ui=4.0, est=3.9735835231878167, details={'was_impossible': False}),\n",
       " Prediction(uid=71866, iid=6811, r_ui=4.0, est=3.485536151555614, details={'was_impossible': False}),\n",
       " Prediction(uid=6475, iid=9036, r_ui=4.0, est=3.666744794519789, details={'was_impossible': False}),\n",
       " Prediction(uid=153761, iid=104, r_ui=5.0, est=4.228122246382089, details={'was_impossible': False}),\n",
       " Prediction(uid=76846, iid=83, r_ui=5.0, est=4.16954800923326, details={'was_impossible': False}),\n",
       " Prediction(uid=24032, iid=4167, r_ui=4.0, est=3.7335382132906134, details={'was_impossible': False}),\n",
       " Prediction(uid=165044, iid=6526, r_ui=4.0, est=3.3666541757003507, details={'was_impossible': False}),\n",
       " Prediction(uid=56770, iid=7590, r_ui=5.0, est=4.596702087520051, details={'was_impossible': False}),\n",
       " Prediction(uid=40629, iid=2564, r_ui=5.0, est=4.461003104100262, details={'was_impossible': False}),\n",
       " Prediction(uid=29510, iid=5531, r_ui=4.0, est=4.491276833527014, details={'was_impossible': False}),\n",
       " Prediction(uid=138285, iid=1897, r_ui=5.0, est=4.149695896987698, details={'was_impossible': False}),\n",
       " Prediction(uid=27624, iid=845, r_ui=5.0, est=4.52387022080947, details={'was_impossible': False}),\n",
       " Prediction(uid=26583, iid=972, r_ui=5.0, est=4.542504405763034, details={'was_impossible': False}),\n",
       " Prediction(uid=10309, iid=11568, r_ui=1.0, est=3.103025216424782, details={'was_impossible': False}),\n",
       " Prediction(uid=132728, iid=8566, r_ui=3.0, est=3.5522064253850925, details={'was_impossible': False}),\n",
       " Prediction(uid=135472, iid=87, r_ui=5.0, est=4.041439636030581, details={'was_impossible': False}),\n",
       " Prediction(uid=74624, iid=7248, r_ui=5.0, est=4.23123605359282, details={'was_impossible': False}),\n",
       " Prediction(uid=166330, iid=18, r_ui=4.0, est=4.063079223233448, details={'was_impossible': False}),\n",
       " Prediction(uid=51796, iid=72, r_ui=4.0, est=4.008012828328932, details={'was_impossible': False}),\n",
       " Prediction(uid=5861, iid=384, r_ui=4.0, est=3.5708616706133363, details={'was_impossible': False}),\n",
       " Prediction(uid=22687, iid=1204, r_ui=2.0, est=3.698186675633351, details={'was_impossible': False}),\n",
       " Prediction(uid=202971, iid=5502, r_ui=3.0, est=4.180814998160737, details={'was_impossible': False}),\n",
       " Prediction(uid=187891, iid=5051, r_ui=2.0, est=3.8562772654955078, details={'was_impossible': False}),\n",
       " Prediction(uid=42991, iid=1718, r_ui=3.0, est=3.591416380839709, details={'was_impossible': False}),\n",
       " Prediction(uid=100633, iid=10714, r_ui=2.0, est=3.152696142495128, details={'was_impossible': False}),\n",
       " Prediction(uid=54019, iid=3194, r_ui=5.0, est=4.310062568776657, details={'was_impossible': False}),\n",
       " Prediction(uid=53277, iid=2047, r_ui=5.0, est=3.715667544144546, details={'was_impossible': False}),\n",
       " Prediction(uid=18588, iid=666, r_ui=5.0, est=3.564086461879949, details={'was_impossible': False}),\n",
       " Prediction(uid=145710, iid=955, r_ui=5.0, est=4.112995319034505, details={'was_impossible': False}),\n",
       " Prediction(uid=54281, iid=2046, r_ui=4.0, est=4.149520841752846, details={'was_impossible': False}),\n",
       " Prediction(uid=74711, iid=230, r_ui=4.0, est=4.131714535926782, details={'was_impossible': False}),\n",
       " Prediction(uid=14379, iid=4650, r_ui=4.0, est=3.9137336794132556, details={'was_impossible': False}),\n",
       " Prediction(uid=111539, iid=1107, r_ui=5.0, est=3.9974605730227806, details={'was_impossible': False}),\n",
       " Prediction(uid=127654, iid=3067, r_ui=5.0, est=4.539461769954075, details={'was_impossible': False}),\n",
       " Prediction(uid=105774, iid=12369, r_ui=4.0, est=2.545839698004221, details={'was_impossible': False}),\n",
       " Prediction(uid=39450, iid=2288, r_ui=5.0, est=3.725791802976805, details={'was_impossible': False}),\n",
       " Prediction(uid=4346, iid=5282, r_ui=4.0, est=3.512114981527474, details={'was_impossible': False}),\n",
       " Prediction(uid=17175, iid=7476, r_ui=2.0, est=2.904836878039675, details={'was_impossible': False}),\n",
       " Prediction(uid=23040, iid=496, r_ui=2.0, est=4.2099835918444075, details={'was_impossible': False}),\n",
       " Prediction(uid=34696, iid=9146, r_ui=2.0, est=3.643516952084728, details={'was_impossible': False}),\n",
       " Prediction(uid=70827, iid=2062, r_ui=5.0, est=4.828473301593947, details={'was_impossible': False}),\n",
       " Prediction(uid=37703, iid=2883, r_ui=5.0, est=3.604165555746583, details={'was_impossible': False}),\n",
       " Prediction(uid=39511, iid=707, r_ui=5.0, est=4.2551360974774015, details={'was_impossible': False}),\n",
       " Prediction(uid=63720, iid=1329, r_ui=4.0, est=3.6593723845360855, details={'was_impossible': False}),\n",
       " Prediction(uid=59229, iid=1972, r_ui=1.0, est=3.1840565576491175, details={'was_impossible': False}),\n",
       " Prediction(uid=172075, iid=3009, r_ui=4.0, est=3.338704016649475, details={'was_impossible': False}),\n",
       " Prediction(uid=24963, iid=379, r_ui=5.0, est=4.33615582658747, details={'was_impossible': False}),\n",
       " Prediction(uid=6798, iid=2867, r_ui=5.0, est=4.096787072127834, details={'was_impossible': False}),\n",
       " Prediction(uid=33522, iid=4913, r_ui=2.0, est=3.9229700413432784, details={'was_impossible': False}),\n",
       " Prediction(uid=110639, iid=3902, r_ui=3.0, est=4.232109641858733, details={'was_impossible': False}),\n",
       " Prediction(uid=148253, iid=1011, r_ui=5.0, est=4.060319871541431, details={'was_impossible': False}),\n",
       " Prediction(uid=58956, iid=11444, r_ui=2.0, est=3.865312826658991, details={'was_impossible': False}),\n",
       " Prediction(uid=8169, iid=473, r_ui=5.0, est=4.739481489861898, details={'was_impossible': False}),\n",
       " Prediction(uid=36606, iid=8215, r_ui=4.0, est=3.0423238365729794, details={'was_impossible': False}),\n",
       " Prediction(uid=112339, iid=7592, r_ui=5.0, est=4.31180084628106, details={'was_impossible': False}),\n",
       " Prediction(uid=34334, iid=10216, r_ui=4.0, est=3.6595105969224178, details={'was_impossible': False}),\n",
       " Prediction(uid=194715, iid=7352, r_ui=1.0, est=3.3917944933960027, details={'was_impossible': False}),\n",
       " Prediction(uid=63015, iid=3211, r_ui=5.0, est=4.1709320592003145, details={'was_impossible': False}),\n",
       " Prediction(uid=48073, iid=13413, r_ui=5.0, est=4.022822861539542, details={'was_impossible': False}),\n",
       " Prediction(uid=68792, iid=1284, r_ui=2.0, est=3.3993483849474537, details={'was_impossible': False}),\n",
       " Prediction(uid=6414, iid=524, r_ui=2.0, est=3.8356779405466903, details={'was_impossible': False}),\n",
       " Prediction(uid=2894, iid=11281, r_ui=4.0, est=4.1383144929868525, details={'was_impossible': False}),\n",
       " Prediction(uid=83403, iid=6254, r_ui=5.0, est=3.4538802117071605, details={'was_impossible': False}),\n",
       " Prediction(uid=81141, iid=725, r_ui=4.0, est=4.119184621212622, details={'was_impossible': False}),\n",
       " Prediction(uid=8388, iid=6132, r_ui=4.0, est=3.8001171736537795, details={'was_impossible': False}),\n",
       " Prediction(uid=114862, iid=5612, r_ui=5.0, est=3.531839189191104, details={'was_impossible': False}),\n",
       " Prediction(uid=4197, iid=1960, r_ui=1.0, est=3.16299267805477, details={'was_impossible': False}),\n",
       " Prediction(uid=38360, iid=8328, r_ui=5.0, est=3.9966177044901277, details={'was_impossible': False}),\n",
       " Prediction(uid=29946, iid=798, r_ui=5.0, est=3.684616566617335, details={'was_impossible': False}),\n",
       " Prediction(uid=8617, iid=14247, r_ui=5.0, est=3.693925717952691, details={'was_impossible': False}),\n",
       " Prediction(uid=174148, iid=138, r_ui=4.0, est=4.52209792631267, details={'was_impossible': False}),\n",
       " Prediction(uid=2956, iid=5576, r_ui=2.0, est=3.4370365577780846, details={'was_impossible': False}),\n",
       " Prediction(uid=12255, iid=3810, r_ui=4.0, est=3.8128908318668007, details={'was_impossible': False}),\n",
       " Prediction(uid=93556, iid=7146, r_ui=2.0, est=2.638717958629925, details={'was_impossible': False}),\n",
       " Prediction(uid=42438, iid=1331, r_ui=4.0, est=3.816462383758795, details={'was_impossible': False}),\n",
       " Prediction(uid=85460, iid=1666, r_ui=5.0, est=4.561320537378766, details={'was_impossible': False}),\n",
       " Prediction(uid=164373, iid=2266, r_ui=5.0, est=4.274296767507119, details={'was_impossible': False}),\n",
       " Prediction(uid=16339, iid=2008, r_ui=5.0, est=3.8913961251070726, details={'was_impossible': False}),\n",
       " Prediction(uid=5343, iid=3599, r_ui=5.0, est=3.936866666171797, details={'was_impossible': False}),\n",
       " Prediction(uid=23317, iid=11402, r_ui=4.0, est=3.8473411275761675, details={'was_impossible': False}),\n",
       " Prediction(uid=4269, iid=11641, r_ui=4.0, est=3.8124120074023335, details={'was_impossible': False}),\n",
       " Prediction(uid=4859, iid=4917, r_ui=5.0, est=3.669059871870998, details={'was_impossible': False}),\n",
       " Prediction(uid=278, iid=2015, r_ui=4.0, est=3.3345571765613418, details={'was_impossible': False}),\n",
       " Prediction(uid=146462, iid=2201, r_ui=3.0, est=4.273691805480148, details={'was_impossible': False}),\n",
       " Prediction(uid=199805, iid=460, r_ui=5.0, est=4.1467718211321865, details={'was_impossible': False}),\n",
       " Prediction(uid=31337, iid=10570, r_ui=3.0, est=3.018848228563341, details={'was_impossible': False}),\n",
       " Prediction(uid=13392, iid=15, r_ui=4.0, est=4.245023232018373, details={'was_impossible': False}),\n",
       " Prediction(uid=6786, iid=2121, r_ui=4.0, est=4.244523188104778, details={'was_impossible': False}),\n",
       " Prediction(uid=36970, iid=5205, r_ui=5.0, est=3.9934192937047928, details={'was_impossible': False}),\n",
       " Prediction(uid=9145, iid=7498, r_ui=2.0, est=3.3106385920114962, details={'was_impossible': False}),\n",
       " Prediction(uid=39089, iid=3570, r_ui=5.0, est=4.803355309468538, details={'was_impossible': False}),\n",
       " Prediction(uid=47556, iid=4953, r_ui=4.0, est=3.486337214055645, details={'was_impossible': False}),\n",
       " Prediction(uid=723, iid=5878, r_ui=3.0, est=3.3524078916086966, details={'was_impossible': False}),\n",
       " Prediction(uid=173611, iid=87, r_ui=4.0, est=3.998402718482681, details={'was_impossible': False}),\n",
       " Prediction(uid=84834, iid=4061, r_ui=2.0, est=3.379948823206021, details={'was_impossible': False}),\n",
       " Prediction(uid=91675, iid=5932, r_ui=2.0, est=2.140381801566504, details={'was_impossible': False}),\n",
       " Prediction(uid=1913, iid=53, r_ui=4.0, est=4.043766390116528, details={'was_impossible': False}),\n",
       " Prediction(uid=171612, iid=5249, r_ui=5.0, est=4.468404860944334, details={'was_impossible': False}),\n",
       " Prediction(uid=119193, iid=12757, r_ui=4.0, est=3.1433082835853043, details={'was_impossible': False}),\n",
       " Prediction(uid=23076, iid=6094, r_ui=3.0, est=3.2542793813131246, details={'was_impossible': False}),\n",
       " Prediction(uid=8370, iid=1431, r_ui=5.0, est=4.277719738830682, details={'was_impossible': False}),\n",
       " Prediction(uid=62785, iid=10800, r_ui=4.0, est=3.4389149286861103, details={'was_impossible': False}),\n",
       " Prediction(uid=33026, iid=1248, r_ui=3.0, est=3.4094534890331865, details={'was_impossible': False}),\n",
       " Prediction(uid=63119, iid=1388, r_ui=5.0, est=4.338456742009921, details={'was_impossible': False}),\n",
       " Prediction(uid=164066, iid=4853, r_ui=5.0, est=3.1409142600062463, details={'was_impossible': False}),\n",
       " Prediction(uid=18343, iid=13425, r_ui=1.0, est=3.714665332829908, details={'was_impossible': False}),\n",
       " Prediction(uid=128161, iid=7045, r_ui=1.0, est=3.3684615671539033, details={'was_impossible': False}),\n",
       " Prediction(uid=154605, iid=1015, r_ui=5.0, est=3.9887012102268073, details={'was_impossible': False}),\n",
       " Prediction(uid=16073, iid=1384, r_ui=4.0, est=3.4882540512724067, details={'was_impossible': False}),\n",
       " Prediction(uid=4153, iid=13399, r_ui=4.0, est=3.903414317954498, details={'was_impossible': False}),\n",
       " Prediction(uid=34134, iid=2335, r_ui=1.0, est=3.8764397732936655, details={'was_impossible': False}),\n",
       " Prediction(uid=121352, iid=9990, r_ui=5.0, est=3.9361668785440362, details={'was_impossible': False}),\n",
       " Prediction(uid=2447, iid=3285, r_ui=4.0, est=3.8377679277127488, details={'was_impossible': False}),\n",
       " Prediction(uid=102310, iid=1645, r_ui=4.0, est=3.623954760552249, details={'was_impossible': False}),\n",
       " Prediction(uid=184310, iid=528, r_ui=5.0, est=4.208861612136642, details={'was_impossible': False}),\n",
       " Prediction(uid=50628, iid=5228, r_ui=3.0, est=3.2735200782721723, details={'was_impossible': False}),\n",
       " Prediction(uid=14323, iid=998, r_ui=5.0, est=4.709261548380481, details={'was_impossible': False}),\n",
       " Prediction(uid=10680, iid=11152, r_ui=4.0, est=2.4706791245770106, details={'was_impossible': False}),\n",
       " Prediction(uid=111895, iid=11019, r_ui=1.0, est=3.0519261295506945, details={'was_impossible': False}),\n",
       " Prediction(uid=171459, iid=107, r_ui=3.0, est=4.199895391297474, details={'was_impossible': False}),\n",
       " Prediction(uid=121658, iid=3783, r_ui=4.0, est=3.864241539945793, details={'was_impossible': False}),\n",
       " Prediction(uid=1913, iid=48, r_ui=4.0, est=3.9613922395759067, details={'was_impossible': False}),\n",
       " Prediction(uid=34702, iid=5995, r_ui=3.0, est=3.9980260200248128, details={'was_impossible': False}),\n",
       " Prediction(uid=189536, iid=13250, r_ui=5.0, est=3.735477038746877, details={'was_impossible': False}),\n",
       " Prediction(uid=75730, iid=159, r_ui=4.0, est=4.007678725851558, details={'was_impossible': False}),\n",
       " Prediction(uid=122560, iid=86, r_ui=5.0, est=4.207706969054597, details={'was_impossible': False}),\n",
       " Prediction(uid=21949, iid=1935, r_ui=1.0, est=3.189387814306611, details={'was_impossible': False}),\n",
       " Prediction(uid=31364, iid=4737, r_ui=3.0, est=3.9171360822613375, details={'was_impossible': False}),\n",
       " Prediction(uid=7616, iid=2935, r_ui=3.0, est=3.008174275869636, details={'was_impossible': False}),\n",
       " Prediction(uid=167, iid=15, r_ui=5.0, est=4.148942387685325, details={'was_impossible': False}),\n",
       " Prediction(uid=166545, iid=5753, r_ui=4.0, est=3.735906217491417, details={'was_impossible': False}),\n",
       " Prediction(uid=26398, iid=1813, r_ui=2.0, est=3.8233669252956983, details={'was_impossible': False}),\n",
       " Prediction(uid=4019, iid=536, r_ui=3.0, est=3.276626044345864, details={'was_impossible': False}),\n",
       " Prediction(uid=107820, iid=3632, r_ui=5.0, est=4.037495748012098, details={'was_impossible': False}),\n",
       " Prediction(uid=7130, iid=12340, r_ui=5.0, est=4.072287116467372, details={'was_impossible': False}),\n",
       " Prediction(uid=80316, iid=6010, r_ui=5.0, est=4.103749366581065, details={'was_impossible': False}),\n",
       " Prediction(uid=69411, iid=12284, r_ui=1.0, est=3.44326337951448, details={'was_impossible': False}),\n",
       " Prediction(uid=60192, iid=4799, r_ui=4.0, est=3.5418185215890716, details={'was_impossible': False}),\n",
       " Prediction(uid=198447, iid=4926, r_ui=5.0, est=4.185885070919013, details={'was_impossible': False}),\n",
       " Prediction(uid=29582, iid=6977, r_ui=3.0, est=3.3079532660591346, details={'was_impossible': False}),\n",
       " Prediction(uid=54151, iid=2936, r_ui=5.0, est=3.920466229035752, details={'was_impossible': False}),\n",
       " Prediction(uid=26542, iid=2157, r_ui=5.0, est=4.658658867427789, details={'was_impossible': False}),\n",
       " Prediction(uid=118787, iid=165, r_ui=5.0, est=4.207800389938907, details={'was_impossible': False}),\n",
       " Prediction(uid=5504, iid=11074, r_ui=4.0, est=3.3323587362523024, details={'was_impossible': False}),\n",
       " Prediction(uid=165354, iid=4198, r_ui=1.0, est=2.097146312872051, details={'was_impossible': False}),\n",
       " Prediction(uid=110796, iid=5017, r_ui=5.0, est=4.16657841982308, details={'was_impossible': False}),\n",
       " Prediction(uid=57491, iid=5321, r_ui=3.0, est=4.0962334316948015, details={'was_impossible': False}),\n",
       " Prediction(uid=2658, iid=1466, r_ui=3.0, est=3.897909777462695, details={'was_impossible': False}),\n",
       " Prediction(uid=22179, iid=1453, r_ui=5.0, est=3.812494106879414, details={'was_impossible': False}),\n",
       " Prediction(uid=21932, iid=463, r_ui=4.0, est=4.191678957931521, details={'was_impossible': False}),\n",
       " Prediction(uid=1075, iid=2364, r_ui=5.0, est=4.256080227122984, details={'was_impossible': False}),\n",
       " Prediction(uid=23077, iid=7203, r_ui=1.0, est=3.4103939647622816, details={'was_impossible': False}),\n",
       " Prediction(uid=1758, iid=5331, r_ui=4.0, est=3.7934206647418556, details={'was_impossible': False}),\n",
       " Prediction(uid=21507, iid=4293, r_ui=4.0, est=3.443432754712922, details={'was_impossible': False}),\n",
       " Prediction(uid=134478, iid=427, r_ui=2.0, est=4.040843398575847, details={'was_impossible': False}),\n",
       " Prediction(uid=156780, iid=1842, r_ui=5.0, est=4.014639095585186, details={'was_impossible': False}),\n",
       " Prediction(uid=2538, iid=23, r_ui=3.0, est=4.095802364208407, details={'was_impossible': False}),\n",
       " Prediction(uid=42579, iid=3461, r_ui=5.0, est=3.975466747309012, details={'was_impossible': False}),\n",
       " Prediction(uid=37496, iid=9221, r_ui=5.0, est=3.9779523835624437, details={'was_impossible': False}),\n",
       " Prediction(uid=55045, iid=13063, r_ui=5.0, est=4.439801195865429, details={'was_impossible': False}),\n",
       " Prediction(uid=2666, iid=4718, r_ui=3.0, est=4.712389543671281, details={'was_impossible': False}),\n",
       " Prediction(uid=39392, iid=995, r_ui=3.0, est=4.663749525629264, details={'was_impossible': False}),\n",
       " Prediction(uid=145795, iid=2035, r_ui=5.0, est=3.89548311882498, details={'was_impossible': False}),\n",
       " Prediction(uid=57788, iid=6779, r_ui=3.0, est=4.129864064694327, details={'was_impossible': False}),\n",
       " Prediction(uid=31842, iid=7074, r_ui=5.0, est=4.554231251393219, details={'was_impossible': False}),\n",
       " Prediction(uid=126087, iid=63, r_ui=2.0, est=4.233601431073796, details={'was_impossible': False}),\n",
       " Prediction(uid=88358, iid=5929, r_ui=4.0, est=3.4345605114826117, details={'was_impossible': False}),\n",
       " Prediction(uid=46938, iid=3938, r_ui=5.0, est=4.203380537743456, details={'was_impossible': False}),\n",
       " Prediction(uid=143188, iid=2523, r_ui=2.0, est=2.991928985424051, details={'was_impossible': False}),\n",
       " Prediction(uid=11455, iid=5816, r_ui=5.0, est=4.132812183061547, details={'was_impossible': False}),\n",
       " Prediction(uid=72450, iid=7755, r_ui=5.0, est=4.22390406087663, details={'was_impossible': False}),\n",
       " Prediction(uid=41732, iid=6954, r_ui=5.0, est=4.66588387869106, details={'was_impossible': False}),\n",
       " Prediction(uid=9312, iid=919, r_ui=3.0, est=3.3858814344231156, details={'was_impossible': False}),\n",
       " Prediction(uid=144562, iid=1231, r_ui=3.0, est=4.107698080506565, details={'was_impossible': False}),\n",
       " Prediction(uid=34119, iid=2753, r_ui=5.0, est=3.851341540649306, details={'was_impossible': False}),\n",
       " Prediction(uid=34428, iid=6557, r_ui=5.0, est=5, details={'was_impossible': False}),\n",
       " Prediction(uid=94890, iid=1678, r_ui=5.0, est=3.936033726630497, details={'was_impossible': False}),\n",
       " Prediction(uid=3430, iid=723, r_ui=3.0, est=2.9269746046479876, details={'was_impossible': False}),\n",
       " Prediction(uid=85718, iid=551, r_ui=5.0, est=3.311715932872302, details={'was_impossible': False}),\n",
       " Prediction(uid=17107, iid=5658, r_ui=5.0, est=3.702461628623243, details={'was_impossible': False}),\n",
       " Prediction(uid=107926, iid=724, r_ui=4.0, est=4.176148929579599, details={'was_impossible': False}),\n",
       " Prediction(uid=920, iid=4418, r_ui=3.0, est=3.5160858790069227, details={'was_impossible': False}),\n",
       " Prediction(uid=5685, iid=7723, r_ui=3.0, est=4.413467387947989, details={'was_impossible': False}),\n",
       " Prediction(uid=69419, iid=9710, r_ui=5.0, est=4.086015036778603, details={'was_impossible': False}),\n",
       " Prediction(uid=102783, iid=46, r_ui=4.0, est=4.592739991172516, details={'was_impossible': False}),\n",
       " Prediction(uid=139607, iid=9963, r_ui=5.0, est=4.430365432537085, details={'was_impossible': False}),\n",
       " Prediction(uid=21291, iid=1498, r_ui=3.0, est=4.001612026311507, details={'was_impossible': False}),\n",
       " Prediction(uid=7673, iid=13940, r_ui=4.0, est=3.535551984921156, details={'was_impossible': False}),\n",
       " Prediction(uid=62819, iid=53, r_ui=5.0, est=3.3570495851765485, details={'was_impossible': False}),\n",
       " Prediction(uid=41029, iid=2762, r_ui=5.0, est=3.9715988209504762, details={'was_impossible': False}),\n",
       " Prediction(uid=38055, iid=5489, r_ui=5.0, est=4.413130139395372, details={'was_impossible': False}),\n",
       " Prediction(uid=36902, iid=583, r_ui=4.0, est=3.009557540929007, details={'was_impossible': False}),\n",
       " Prediction(uid=202512, iid=8403, r_ui=5.0, est=4.596582072561817, details={'was_impossible': False}),\n",
       " Prediction(uid=41071, iid=4967, r_ui=5.0, est=4.283131604787288, details={'was_impossible': False}),\n",
       " Prediction(uid=108847, iid=8187, r_ui=4.0, est=3.7154415578966864, details={'was_impossible': False}),\n",
       " Prediction(uid=40407, iid=40, r_ui=4.0, est=4.010067690534415, details={'was_impossible': False}),\n",
       " Prediction(uid=112102, iid=6534, r_ui=1.0, est=3.7352904450885833, details={'was_impossible': False}),\n",
       " Prediction(uid=86220, iid=4152, r_ui=5.0, est=4.482843274184646, details={'was_impossible': False}),\n",
       " Prediction(uid=77951, iid=2931, r_ui=4.0, est=3.7833910699263984, details={'was_impossible': False}),\n",
       " Prediction(uid=113416, iid=3879, r_ui=2.0, est=3.618469689392033, details={'was_impossible': False}),\n",
       " Prediction(uid=7508, iid=5688, r_ui=1.0, est=3.3386438562705036, details={'was_impossible': False}),\n",
       " Prediction(uid=38854, iid=6667, r_ui=5.0, est=4.205963030354406, details={'was_impossible': False}),\n",
       " Prediction(uid=11578, iid=7402, r_ui=5.0, est=3.4599733461129993, details={'was_impossible': False}),\n",
       " Prediction(uid=30858, iid=4410, r_ui=5.0, est=3.3708895724429184, details={'was_impossible': False}),\n",
       " Prediction(uid=145347, iid=3546, r_ui=1.0, est=3.4058703962879915, details={'was_impossible': False}),\n",
       " Prediction(uid=47607, iid=6179, r_ui=5.0, est=4.332102847753616, details={'was_impossible': False}),\n",
       " Prediction(uid=13414, iid=3838, r_ui=5.0, est=4.435827152578809, details={'was_impossible': False}),\n",
       " Prediction(uid=164706, iid=5362, r_ui=4.0, est=3.56702579933228, details={'was_impossible': False}),\n",
       " Prediction(uid=23757, iid=634, r_ui=2.0, est=3.545068285151461, details={'was_impossible': False}),\n",
       " Prediction(uid=2751, iid=5828, r_ui=5.0, est=3.615652312638225, details={'was_impossible': False}),\n",
       " Prediction(uid=1490, iid=4698, r_ui=4.0, est=4.392682890601805, details={'was_impossible': False}),\n",
       " Prediction(uid=42418, iid=5488, r_ui=4.0, est=4.447754613031264, details={'was_impossible': False}),\n",
       " Prediction(uid=36381, iid=7815, r_ui=5.0, est=3.861417469876419, details={'was_impossible': False}),\n",
       " Prediction(uid=28579, iid=668, r_ui=3.0, est=3.9155153418521222, details={'was_impossible': False}),\n",
       " Prediction(uid=66608, iid=8239, r_ui=4.0, est=4.17323616242543, details={'was_impossible': False}),\n",
       " Prediction(uid=19869, iid=1537, r_ui=5.0, est=4.1638261695142464, details={'was_impossible': False}),\n",
       " Prediction(uid=113902, iid=887, r_ui=5.0, est=3.325549464197724, details={'was_impossible': False}),\n",
       " Prediction(uid=104411, iid=4817, r_ui=3.0, est=3.7008035367504424, details={'was_impossible': False}),\n",
       " Prediction(uid=25323, iid=2412, r_ui=1.0, est=4.283423544568893, details={'was_impossible': False}),\n",
       " Prediction(uid=65290, iid=2542, r_ui=1.0, est=3.878206430656978, details={'was_impossible': False}),\n",
       " Prediction(uid=7921, iid=5401, r_ui=5.0, est=4.5541159150665855, details={'was_impossible': False}),\n",
       " Prediction(uid=137190, iid=5197, r_ui=5.0, est=3.9078203946406247, details={'was_impossible': False}),\n",
       " Prediction(uid=40820, iid=1814, r_ui=2.0, est=3.423218502151608, details={'was_impossible': False}),\n",
       " Prediction(uid=98888, iid=5709, r_ui=2.0, est=3.408823004960277, details={'was_impossible': False}),\n",
       " Prediction(uid=50811, iid=6053, r_ui=5.0, est=3.3405555012555816, details={'was_impossible': False}),\n",
       " Prediction(uid=1022, iid=1619, r_ui=2.0, est=3.5085471983542016, details={'was_impossible': False}),\n",
       " Prediction(uid=11707, iid=4397, r_ui=5.0, est=4.202726655949863, details={'was_impossible': False}),\n",
       " Prediction(uid=4923, iid=7836, r_ui=5.0, est=3.8537763607370343, details={'was_impossible': False}),\n",
       " Prediction(uid=33144, iid=7642, r_ui=3.0, est=4.042248403703581, details={'was_impossible': False}),\n",
       " Prediction(uid=23228, iid=5165, r_ui=5.0, est=4.5776221815847995, details={'was_impossible': False}),\n",
       " Prediction(uid=4304, iid=600, r_ui=4.0, est=3.3954700970272436, details={'was_impossible': False}),\n",
       " Prediction(uid=4913, iid=7255, r_ui=2.0, est=3.6099127106254594, details={'was_impossible': False}),\n",
       " Prediction(uid=13116, iid=3084, r_ui=5.0, est=4.327368460063171, details={'was_impossible': False}),\n",
       " Prediction(uid=105642, iid=1232, r_ui=4.0, est=4.419982431468477, details={'was_impossible': False}),\n",
       " Prediction(uid=156263, iid=3383, r_ui=2.0, est=4.128063863281525, details={'was_impossible': False}),\n",
       " Prediction(uid=155848, iid=623, r_ui=5.0, est=3.419835914463388, details={'was_impossible': False}),\n",
       " Prediction(uid=127706, iid=3214, r_ui=3.0, est=4.093720831931467, details={'was_impossible': False}),\n",
       " Prediction(uid=90586, iid=218, r_ui=3.0, est=2.9881175710004393, details={'was_impossible': False}),\n",
       " Prediction(uid=57406, iid=3502, r_ui=4.0, est=4.14416116496437, details={'was_impossible': False}),\n",
       " Prediction(uid=1229, iid=4296, r_ui=3.0, est=2.996727062950059, details={'was_impossible': False}),\n",
       " Prediction(uid=6862, iid=2266, r_ui=4.0, est=3.366859148683471, details={'was_impossible': False}),\n",
       " Prediction(uid=22468, iid=1706, r_ui=5.0, est=4.396330871610611, details={'was_impossible': False}),\n",
       " Prediction(uid=13653, iid=9355, r_ui=5.0, est=4.172774261957635, details={'was_impossible': False}),\n",
       " Prediction(uid=6024, iid=7699, r_ui=4.0, est=4.110365869673109, details={'was_impossible': False}),\n",
       " Prediction(uid=5155, iid=740, r_ui=4.0, est=4.635156099301256, details={'was_impossible': False}),\n",
       " ...]"
      ]
     },
     "execution_count": 220,
     "metadata": {},
     "output_type": "execute_result"
    }
   ],
   "source": [
    "predictions"
   ]
  },
  {
   "cell_type": "code",
   "execution_count": null,
   "metadata": {},
   "outputs": [],
   "source": []
  },
  {
   "cell_type": "code",
   "execution_count": null,
   "metadata": {},
   "outputs": [],
   "source": []
  },
  {
   "cell_type": "code",
   "execution_count": null,
   "metadata": {},
   "outputs": [],
   "source": []
  },
  {
   "cell_type": "code",
   "execution_count": null,
   "metadata": {},
   "outputs": [],
   "source": []
  },
  {
   "cell_type": "code",
   "execution_count": null,
   "metadata": {},
   "outputs": [],
   "source": []
  },
  {
   "cell_type": "code",
   "execution_count": null,
   "metadata": {},
   "outputs": [],
   "source": [
    "def recommend_restaurants(predictions, userID, df, original_ratings, num_recommendations):\n",
    "    \n",
    "    # Get and sort the user's predictions\n",
    "    user_row_number = userID - 1 # User ID starts at 1, not 0\n",
    "    sorted_user_predictions = preds.iloc[user_row_number].sort_values(ascending=False) # User ID starts at 1\n",
    "    \n",
    "    # Get the user's data and merge in the movie information.\n",
    "    user_data = original_ratings[original_ratings.user_id == (userID)]\n",
    "    user_full = (user_data.merge(df, how = 'left', left_on = 'business_id', right_on = 'business_id').\n",
    "                     sort_values(['rating'], ascending=False)\n",
    "                 )\n",
    "    \n",
    "    # Recommend the highest predicted rating movies that the user hasn't seen yet.\n",
    "    recommendations = (df[~df['business_id'].isin(user_full['business_id'])].\n",
    "         merge(pd.DataFrame(sorted_user_predictions).reset_index(), how = 'left',\n",
    "               left_on = 'business_id',\n",
    "               right_on = 'business_id').\n",
    "         rename(columns = {user_row_number: 'Predictions'}).\n",
    "         sort_values('Predictions', ascending = False).\n",
    "                       iloc[:num_recommendations, :-1]\n",
    "                      )\n",
    "\n",
    "    return user_full, recommendations"
   ]
  },
  {
   "cell_type": "code",
   "execution_count": null,
   "metadata": {},
   "outputs": [],
   "source": []
  },
  {
   "cell_type": "code",
   "execution_count": null,
   "metadata": {},
   "outputs": [],
   "source": []
  },
  {
   "cell_type": "code",
   "execution_count": null,
   "metadata": {},
   "outputs": [],
   "source": [
    "#https://medium.com/@james_aka_yale/the-4-recommendation-engines-that-can-predict-your-movie-tastes-bbec857b8223"
   ]
  },
  {
   "cell_type": "code",
   "execution_count": null,
   "metadata": {},
   "outputs": [],
   "source": [
    "# get % recommendation and provide them back similiar cateogires\n",
    "# look at submit.py from case study\n",
    "# also let user choose top 5, different types of filters"
   ]
  },
  {
   "cell_type": "code",
   "execution_count": null,
   "metadata": {},
   "outputs": [],
   "source": []
  }
 ],
 "metadata": {
  "kernelspec": {
   "display_name": "Python 3",
   "language": "python",
   "name": "python3"
  },
  "language_info": {
   "codemirror_mode": {
    "name": "ipython",
    "version": 3
   },
   "file_extension": ".py",
   "mimetype": "text/x-python",
   "name": "python",
   "nbconvert_exporter": "python",
   "pygments_lexer": "ipython3",
   "version": "3.7.1"
  }
 },
 "nbformat": 4,
 "nbformat_minor": 2
}
